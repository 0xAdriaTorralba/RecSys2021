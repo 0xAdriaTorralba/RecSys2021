{
 "cells": [
  {
   "cell_type": "markdown",
   "id": "metropolitan-nigeria",
   "metadata": {},
   "source": [
    "# Imports"
   ]
  },
  {
   "cell_type": "code",
   "execution_count": 1,
   "id": "distinguished-simple",
   "metadata": {
    "ExecuteTime": {
     "end_time": "2021-06-29T16:26:06.415001Z",
     "start_time": "2021-06-29T16:26:02.590097Z"
    }
   },
   "outputs": [
    {
     "data": {
      "text/html": [
       "<table style=\"border: 2px solid white;\">\n",
       "<tr>\n",
       "<td style=\"vertical-align: top; border: 0px solid white\">\n",
       "<h3 style=\"text-align: left;\">Client</h3>\n",
       "<ul style=\"text-align: left; list-style: none; margin: 0; padding: 0;\">\n",
       "  <li><b>Scheduler: </b>tcp://127.0.0.1:63373</li>\n",
       "  <li><b>Dashboard: </b><a href='http://127.0.0.1:8787/status' target='_blank'>http://127.0.0.1:8787/status</a></li>\n",
       "</ul>\n",
       "</td>\n",
       "<td style=\"vertical-align: top; border: 0px solid white\">\n",
       "<h3 style=\"text-align: left;\">Cluster</h3>\n",
       "<ul style=\"text-align: left; list-style:none; margin: 0; padding: 0;\">\n",
       "  <li><b>Workers: </b>4</li>\n",
       "  <li><b>Cores: </b>16</li>\n",
       "  <li><b>Memory: </b>31.82 GiB</li>\n",
       "</ul>\n",
       "</td>\n",
       "</tr>\n",
       "</table>"
      ],
      "text/plain": [
       "<Client: 'tcp://127.0.0.1:63373' processes=4 threads=16, memory=31.82 GiB>"
      ]
     },
     "execution_count": 1,
     "metadata": {},
     "output_type": "execute_result"
    }
   ],
   "source": [
    "import numpy as np\n",
    "import dask.dataframe as dd\n",
    "from tqdm import tqdm \n",
    "import pandas as pd\n",
    "import matplotlib.pyplot as plt\n",
    "import sys\n",
    "\n",
    "import pickle\n",
    "\n",
    "from sklearn.model_selection import train_test_split\n",
    "\n",
    "\n",
    "import lightgbm as lgb\n",
    "\n",
    "import string\n",
    "\n",
    "from transformers import BertTokenizer\n",
    "\n",
    "from sklearn.metrics import average_precision_score, log_loss\n",
    "\n",
    "tokenizer = BertTokenizer.from_pretrained(\"twitter-tokenizer\")\n",
    "\n",
    "from dask.distributed import Client\n",
    "client = Client()  # start distributed scheduler locally.  Launch dashboard\n",
    "client"
   ]
  },
  {
   "cell_type": "markdown",
   "id": "bizarre-grave",
   "metadata": {},
   "source": [
    "# Functions"
   ]
  },
  {
   "cell_type": "markdown",
   "id": "regulation-equipment",
   "metadata": {},
   "source": [
    "## Evalutation functions"
   ]
  },
  {
   "cell_type": "code",
   "execution_count": 2,
   "id": "bottom-burden",
   "metadata": {
    "ExecuteTime": {
     "end_time": "2021-06-29T16:26:06.463001Z",
     "start_time": "2021-06-29T16:26:06.448002Z"
    }
   },
   "outputs": [],
   "source": [
    "def calculate_ctr(gt):\n",
    "    positive = len([x for x in gt if x == 1])\n",
    "    ctr = positive/float(len(gt))\n",
    "    return ctr\n",
    "\n",
    "def compute_rce(pred, gt):\n",
    "    cross_entropy = log_loss(gt, pred)\n",
    "    data_ctr = calculate_ctr(gt)\n",
    "    strawman_cross_entropy = log_loss(gt, [data_ctr for _ in range(len(gt))])\n",
    "    return (1.0 - cross_entropy/strawman_cross_entropy)*100.0\n",
    "\n",
    "def compute_ap_lgb(pred, g):\n",
    "    gt = np.array(g.get_label())\n",
    "    pred = np.array(pred)\n",
    "    ap = average_precision_score(gt, pred)\n",
    "    return 'ap', ap, True\n",
    "\n",
    "\n",
    "def compute_rce_lgb(pred, g):\n",
    "    gt = np.array(g.get_label())\n",
    "    pred = np.array(pred)\n",
    "    rce = compute_rce(pred, gt)\n",
    "    return 'rce',rce,True\n",
    "\n",
    "def show_results(predictions, gt, model, train_columns):\n",
    "    mean_predictions = np.mean(predictions)\n",
    "    print(\"Mean of the predictions:\", mean_predictions)\n",
    "    print(\"Std of the predictions:\", np.std(predictions))\n",
    "    print(\"Histogram of the predictions:\")\n",
    "    plt.hist(predictions)\n",
    "    plt.show()\n",
    "    print(\"RCE:\", compute_rce(predictions, gt.values))\n",
    "    print(\"AP:\", average_precision_score(gt, predictions))\n",
    "    zipped = zip(train_columns, model.feature_importance('gain'))\n",
    "    res = sorted(list(zipped), key = lambda x: x[1])\n",
    "    print(\"Feature importance by 'gain':\")\n",
    "    plt.barh([tc for tc, gain in res], [gain for tc, gain in res])\n",
    "    plt.show()\n",
    "    \n",
    "def evaluate_model(model, data, target, train_columns):\n",
    "    predictions = model.predict(data[train_columns])\n",
    "    show_results(predictions, data[target], model, train_columns)"
   ]
  },
  {
   "cell_type": "markdown",
   "id": "about-estimate",
   "metadata": {},
   "source": [
    "## Features functions"
   ]
  },
  {
   "cell_type": "code",
   "execution_count": 3,
   "id": "quality-richmond",
   "metadata": {
    "ExecuteTime": {
     "end_time": "2021-06-29T16:26:31.301755Z",
     "start_time": "2021-06-29T16:26:31.256754Z"
    }
   },
   "outputs": [],
   "source": [
    "from sklearn.feature_extraction.text import TfidfVectorizer\n",
    "\n",
    "basic_columns = [\"tweet_type\", \"ratio_1\", \"ratio_2\"]\n",
    "\n",
    "vectorizer = TfidfVectorizer()\n",
    "\n",
    "\n",
    "def basic_features(df):\n",
    "    df[\"tweet_type\"] = df[\"type\"].apply(lambda x: 0 if x == \"Retweet\" else\n",
    "                                        (1 if x == \"Quote\" else 2))\n",
    "    df_text[\"ratio_1\"] = df_text[\"AUTHOR_follower_count\"] / df_text[\n",
    "        \"AUTHOR_following_count\"]\n",
    "    df_text[\"ratio_2\"] = df_text[\"INTERACTOR_follower_count\"] / df_text[\n",
    "        \"INTERACTOR_following_count\"]\n",
    "    return df\n",
    "\n",
    "\n",
    "worst_words_retweet = [\n",
    "    \"game\", \"going\", \"haha\", \"lol\", \"but\", \"watching\", \"work\", \"home\", \"night\",\n",
    "    \"bed\", \"well\", \"sleep\", \"gonna\", \"hey\", \"tomorrow\", \"tired\", \"some\",\n",
    "    \"back\", \"bored\", \"listening\"\n",
    "]\n",
    "\n",
    "best_words_retweet = [\n",
    "    \"you\", \"twitter\", \"please\", \"retweet\", \"post\", \"blog\", \"social\", \"free\",\n",
    "    \"media\", \"help\", \"please retweet\", \"great\", \"social media\", \"10\", \"follow\",\n",
    "    \"how to\", \"top\", \"blog post\", \"check out\", \"new blogpost\"\n",
    "]\n",
    "\n",
    "common_english_words = [\n",
    "    'the', 'at', 'and', 'a', 'to', 'in', 'is', 'you', 'that', 'it', 'he',\n",
    "    'was', 'for', 'on', 'are', 'as', 'with', 'his', 'they', 'i', 'at', 'be',\n",
    "    'this', 'have', 'from', 'or', 'one', 'had', 'by', 'word', 'but', 'not',\n",
    "    'what', 'all', 'were', 'we', 'when', 'your', 'can', 'said', 'there', 'use',\n",
    "    'an', 'each', 'which', 'she', 'do', 'how', 'their', 'if', 'will', 'up',\n",
    "    'other', 'about', 'out', 'many', 'then', 'them', 'these', 'so', 'some',\n",
    "    'her', 'would', 'make', 'like', 'him', 'into', 'time', 'has', 'look',\n",
    "    'two', 'more', 'write', 'go', 'see', 'number', 'no', 'way', 'could',\n",
    "    'people', 'my', 'than', 'first', 'water', 'been', 'call', 'who', 'oil',\n",
    "    'its', 'now', 'find', 'long', 'down', 'day', 'did', 'get', 'come', 'made',\n",
    "    'may', 'part', '[SEP]', '[CLS]', 'https', 'http'\n",
    "]\n",
    "\n",
    "addmited_punctuations = '@'\n",
    "\n",
    "text_columns = [\n",
    "    'length_tweet', 'num_unique_words', 'ratio_unique_words',\n",
    "    'contains_worst_words', 'contains_best_words', 'contains_reply',\n",
    "    \"max_word_len\", \"min_word_len\", \"mean_word_len\", \"number_of_UNK\",\n",
    "    \"ratio_of_UNK\", \"number_of_punctuations\", \"ratio_of_punctuations\",\n",
    "    \"kinda_num_of_keywords\", \"num_of_keywords\", \"ratio_of_keywords\",\n",
    "    \"length_tweet_characters\"\n",
    "]\n",
    "\n",
    "def cast_list_as_strings(mylist):\n",
    "    \"\"\"\n",
    "    return a list of strings\n",
    "    \"\"\"\n",
    "    #assert isinstance(mylist, list), f\"the input mylist should be a list it is {type(mylist)}\"\n",
    "    mylist_of_strings = []\n",
    "    for x in mylist:\n",
    "        mylist_of_strings.append(str(x))\n",
    "\n",
    "    return mylist_of_strings\n",
    "\n",
    "\n",
    "def text_features(df_text):\n",
    "    tqdm.pandas()\n",
    "    try:\n",
    "        print(\"Bert transformation\")\n",
    "        df_text[\"bert\"] = df_text[\"bert\"].progress_apply(lambda x: x.split('\\t'))\n",
    "    except:\n",
    "        pass\n",
    "    print(\"Tweet length\")\n",
    "    df_text[\"length_tweet\"] = df_text.bert.progress_apply(lambda x: len(x))\n",
    "    print(\"Num unique words\")\n",
    "    df_text[\"num_unique_words\"] = df_text[\"bert\"].progress_apply(lambda x: len(set(x)))\n",
    "    print(\"Ratio unique words\")\n",
    "    df_text[\"ratio_unique_words\"] = df_text[\"num_unique_words\"] / df_text[\"length_tweet\"]\n",
    "    print(\"Plain text\")\n",
    "    df_text[\"plain_text\"] = df_text[\"bert\"].progress_apply(lambda x: tokenizer.decode(x))\n",
    "    print(\"Contains worst words\")\n",
    "    df_text[\"contains_worst_words\"] = df_text[\"plain_text\"].progress_apply(lambda x: int(len(set(x.split()).intersection(set(worst_words_retweet))) != 0))\n",
    "    print(\"Contains best words\")\n",
    "    df_text[\"contains_best_words\"] = df_text[\"plain_text\"].progress_apply(lambda x: int(len(set(x.split()).intersection(set(best_words_retweet))) != 0))\n",
    "    print(\"Contains reply (@)\")\n",
    "    df_text[\"contains_reply\"] = df_text[\"plain_text\"].progress_apply(lambda x: int('@' in x))\n",
    "    print(\"Max word len\")\n",
    "    df_text[\"max_word_len\"] = df_text[\"plain_text\"].progress_apply(lambda x: np.max([len(word) for word in x.split()]))\n",
    "    print(\"Min word len\")\n",
    "    df_text[\"min_word_len\"] = df_text[\"plain_text\"].progress_apply(lambda x: np.min([len(word) for word in x.split()]))\n",
    "    print(\"Mean word len\")\n",
    "    df_text[\"mean_word_len\"] = df_text[\"plain_text\"].progress_apply(lambda x: np.mean([len(word) for word in x.split()]))\n",
    "    print(\"Number of UNK\")\n",
    "    df_text[\"number_of_UNK\"] = df_text[\"plain_text\"].progress_apply(lambda x: x.split().count('[UNK]'))\n",
    "    print(\"Ratio of UNK\")\n",
    "    df_text[\"ratio_of_UNK\"] = (df_text['number_of_UNK'] /df_text['length_tweet']).astype(np.float32)\n",
    "    print(\"Number of punctuations\")\n",
    "    df_text[\"number_of_punctuations\"] = df_text[\"plain_text\"].progress_apply(lambda x: len([c for c in x.split()if c in string.punctuation and c not in addmited_punctuations]))\n",
    "    print(\"Ratio of punctuations\")\n",
    "    df_text[\"ratio_of_punctuations\"] = (df_text['number_of_punctuations'] / df_text['length_tweet']).astype(np.float32)\n",
    "    print(\"Kinda Num of keywords\")\n",
    "    df_text[\"kinda_num_of_keywords\"] = df_text[\"plain_text\"].progress_apply(lambda x: len([word for word in x if word.lower() not in common_english_words]))\n",
    "    print(\"Num of keywords\")\n",
    "    df_text[\"num_of_keywords\"] = df_text[\"plain_text\"].progress_apply(lambda x: len([word for word in x.split() if (len(word) > 2) and (word.lower() not in common_english_words)]))\n",
    "    print(\"Ratio of keywords\")\n",
    "    df_text[\"ratio_of_keywords\"] = (df_text[\"num_of_keywords\"] / df_text[\"length_tweet\"]).astype(np.float32)\n",
    "    print(\"Tweet length characters\")\n",
    "    df_text[\"length_tweet_characters\"] = df_text[\"plain_text\"].progress_apply(lambda x: len(x))\n",
    "    \n",
    "    \n",
    "    #df_text[\"trans_1\"] = df_text[\"plain_text\"].apply(lambda x: [word for word in x.split() if len(word) > 2 and word not in common_english_words and word != \"[UNK]\"])\n",
    "    #df_text[\"trans_2\"] = df_text[\"trans_1\"].apply(lambda x: \" \".join(x))\n",
    "    #aux_list =  cast_list_as_strings(list(df_text[\"trans_2\"]))\n",
    "    #tf_idf = vectorizer.fit_transform(aux_list)\n",
    "    #df_text[\"tf_idf\"] = tf_idf.sum(axis=1) # provar a multiplicar\n",
    "    #from sklearn import preprocessing\n",
    "\n",
    "    #x = df_text[\"tf_idf\"].values.reshape(-1, 1) #returns a numpy array\n",
    "    #min_max_scaler = preprocessing.MinMaxScaler()\n",
    "    #x_scaled = min_max_scaler.fit_transform(x)\n",
    "    #df_text[\"tf_idf\"] = x_scaled\n",
    "    \n",
    "    \n",
    "    \n",
    "    return df_text\n",
    "\n",
    "\n",
    "def apply_all_features(df):\n",
    "    #df = basic_features(df)\n",
    "    df = text_features(df)\n",
    "    return df\n",
    "\n",
    "\n",
    "def model_target(df, target):\n",
    "    print(\"Adding target:\", target)\n",
    "    df[target] = df[target].apply(lambda x: int(not pd.isna(x)))\n",
    "    return df\n",
    "\n",
    "\n",
    "def compute_features(df):\n",
    "    return df.compute()\n",
    "\n",
    "\n",
    "def compute_all_targets(df, targets):\n",
    "    for target in targets:\n",
    "        df = model_target(df, target)\n",
    "    return df"
   ]
  },
  {
   "cell_type": "markdown",
   "id": "alternative-equation",
   "metadata": {},
   "source": [
    "## Model functions"
   ]
  },
  {
   "cell_type": "code",
   "execution_count": 4,
   "id": "appreciated-remark",
   "metadata": {
    "ExecuteTime": {
     "end_time": "2021-06-29T16:26:36.216799Z",
     "start_time": "2021-06-29T16:26:36.209796Z"
    }
   },
   "outputs": [],
   "source": [
    "\n",
    "\n",
    "#train_columns = basic_columns + text_columns\n",
    "train_columns = text_columns\n",
    "\n",
    "def train_model(df, target, validation_size=0.1, frac_sample=0.5):\n",
    "\n",
    "\n",
    "    test_columns = [target]\n",
    "    \n",
    "    #date_to_split = pd.to_datetime(\"2021/02/16\")\n",
    "    date_to_split = pd.to_datetime(\"2021/03/03\")\n",
    "    #X_train, X_val, Y_train, Y_val = train_test_split(df[train_columns], df[test_columns], test_size=validation_size, random_state=26)\n",
    "    train, validation = split_train_validation(df, date_to_split)\n",
    "    X_train = train[train_columns]\n",
    "    X_val = validation[train_columns]\n",
    "    \n",
    "    Y_train = train[target]\n",
    "    Y_val = validation[target]\n",
    "    # Create the LightGBM data containers\n",
    "    #\n",
    "    train_data = lgb.Dataset(X_train, label=Y_train)\n",
    "    test_data = lgb.Dataset(X_val, label=Y_val)\n",
    "    rand_idx = np.random.permutation(len(X_train))[:75000]\n",
    "    train_sampled_data = lgb.Dataset(X_train.iloc[rand_idx], Y_train.iloc[rand_idx])\n",
    "\n",
    "    parameters = {\n",
    "        'max_depth': 10,\n",
    "        'objective':'cross_entropy',\n",
    "        'metric': 'None', # es lent per entrenar, millor calcular al final i mostrar la loss\n",
    "        'is_unbalance': 'true',\n",
    "        'boosting': 'gbdt',\n",
    "        'num_leaves': 45,\n",
    "        'learning_rate': 0.05\n",
    "    }\n",
    "\n",
    "\n",
    "    callbacks=[\n",
    "      # First metric only to use only RCE for early stopping\n",
    "      # since it is the one with higher impact\n",
    "      lgb.early_stopping(25, first_metric_only=True)\n",
    "    ]\n",
    "    \n",
    "    eval_result = {}\n",
    "    \n",
    "    model = lgb.train(parameters,\n",
    "                     train_data,\n",
    "                         callbacks=callbacks,\n",
    "                           valid_sets=[train_sampled_data, test_data],\n",
    "                           num_boost_round=5000,      \n",
    "                        feval=[compute_rce_lgb, compute_ap_lgb], \n",
    "                      verbose_eval=50, evals_result=eval_result) \n",
    "    return model\n",
    "\n",
    "def prepare_data(df):\n",
    "    df = apply_all_features(df)\n",
    "    df = compute_all_targets(df, target_columns)\n",
    "    df = create_datetime(df)\n",
    "    return df #compute_features(df)"
   ]
  },
  {
   "cell_type": "markdown",
   "id": "agreed-journal",
   "metadata": {},
   "source": [
    "## Train, validation split"
   ]
  },
  {
   "cell_type": "code",
   "execution_count": 5,
   "id": "killing-canvas",
   "metadata": {
    "ExecuteTime": {
     "end_time": "2021-06-29T16:26:38.021797Z",
     "start_time": "2021-06-29T16:26:38.010796Z"
    }
   },
   "outputs": [],
   "source": [
    "def create_datetime(df):\n",
    "    df[\"datetime_tweet_creation\"] = df[\"timestamp\"].apply(lambda x: pd.to_datetime(x, unit='s'))\n",
    "    return df\n",
    "\n",
    "def split_train_validation(df, date_to_split):\n",
    "    return df[df[\"datetime_tweet_creation\"] < date_to_split], df[df[\"datetime_tweet_creation\"] >= date_to_split]"
   ]
  },
  {
   "cell_type": "markdown",
   "id": "entire-calculation",
   "metadata": {},
   "source": [
    "## Save/Load models"
   ]
  },
  {
   "cell_type": "code",
   "execution_count": 6,
   "id": "naval-check",
   "metadata": {
    "ExecuteTime": {
     "end_time": "2021-06-29T16:26:38.799796Z",
     "start_time": "2021-06-29T16:26:38.782796Z"
    }
   },
   "outputs": [],
   "source": [
    "def save_model(model, filename):\n",
    "    pickle.dump(model, open(filename, 'wb'))\n",
    "    \n",
    "def load_model(filename):\n",
    "    return pickle.load(open(filename, \"rb\"))"
   ]
  },
  {
   "cell_type": "markdown",
   "id": "polished-authority",
   "metadata": {},
   "source": [
    "# Load data"
   ]
  },
  {
   "cell_type": "code",
   "execution_count": 7,
   "id": "minus-creature",
   "metadata": {
    "ExecuteTime": {
     "end_time": "2021-06-29T16:26:48.106167Z",
     "start_time": "2021-06-29T16:26:48.099168Z"
    }
   },
   "outputs": [],
   "source": [
    "column_types = {\n",
    "    'bert': str,\n",
    "    'hashtags': str,\n",
    "    'tweet_id': str,\n",
    "    'media': str,\n",
    "    'links': str,\n",
    "    'domains': str,\n",
    "    'type': str,\n",
    "    'language': str,\n",
    "    'timestamp': np.uint32,\n",
    "    'AUTHOR_user_id': str,\n",
    "    'AUTHOR_follower_count': np.uint32,\n",
    "    'AUTHOR_following_count': np.uint32,\n",
    "    'AUTHOR_verified': bool,\n",
    "    'AUTHOR_account_creation': np.uint32,\n",
    "    'INTERACTOR_user_id': str,\n",
    "    'INTERACTOR_follower_count': np.uint32,\n",
    "    'INTERACTOR_following_count': np.uint32,\n",
    "    'INTERACTOR_verified': bool,\n",
    "    'INTERACTOR_account_creation': np.uint32,\n",
    "    'AUTHOR_follows_INTERACTOR': bool,\n",
    "    'reply_timestamp': 'Int32',\n",
    "    'retweet_timestamp': 'Int32',\n",
    "    'quote_timestamp': 'Int32',\n",
    "    'like_timestamp': 'Int32'\n",
    "}\n",
    "\n",
    "initial_features = [\n",
    "    \"bert\", \"timestamp\"\n",
    "]\n",
    "\n",
    "target_columns = [\"reply_timestamp\", \"retweet_timestamp\", \"quote_timestamp\", \"like_timestamp\"]\n",
    "\n",
    "all_features = initial_features + target_columns"
   ]
  },
  {
   "cell_type": "code",
   "execution_count": 8,
   "id": "superior-policy",
   "metadata": {
    "ExecuteTime": {
     "end_time": "2021-06-29T16:26:52.500031Z",
     "start_time": "2021-06-29T16:26:52.458031Z"
    }
   },
   "outputs": [],
   "source": [
    "df = dd.read_csv('sample_validation/part-00000.csv',\n",
    "                 names=list(column_types.keys()),\n",
    "                 header=0,\n",
    "                 sep='\u0001',\n",
    "                 dtype=column_types)"
   ]
  },
  {
   "cell_type": "code",
   "execution_count": 9,
   "id": "imposed-denial",
   "metadata": {
    "ExecuteTime": {
     "end_time": "2021-06-29T16:28:35.044416Z",
     "start_time": "2021-06-29T16:27:03.822869Z"
    }
   },
   "outputs": [],
   "source": [
    "df = df.compute()"
   ]
  },
  {
   "cell_type": "code",
   "execution_count": 10,
   "id": "polyphonic-imperial",
   "metadata": {
    "ExecuteTime": {
     "end_time": "2021-06-29T16:28:52.278292Z",
     "start_time": "2021-06-29T16:28:52.265304Z"
    }
   },
   "outputs": [
    {
     "data": {
      "text/plain": [
       "(14271143, 24)"
      ]
     },
     "execution_count": 10,
     "metadata": {},
     "output_type": "execute_result"
    }
   ],
   "source": [
    "df.shape"
   ]
  },
  {
   "cell_type": "code",
   "execution_count": 11,
   "id": "personalized-relay",
   "metadata": {
    "ExecuteTime": {
     "end_time": "2021-06-29T16:29:56.802219Z",
     "start_time": "2021-06-29T16:29:17.562337Z"
    }
   },
   "outputs": [],
   "source": [
    "df_train, df_test = train_test_split(df, test_size=0.5, random_state = 17)"
   ]
  },
  {
   "cell_type": "code",
   "execution_count": 12,
   "id": "binary-monday",
   "metadata": {
    "ExecuteTime": {
     "end_time": "2021-06-29T17:26:47.907777Z",
     "start_time": "2021-06-29T16:30:36.715351Z"
    },
    "scrolled": false
   },
   "outputs": [
    {
     "name": "stderr",
     "output_type": "stream",
     "text": [
      "\r",
      "  0%|                                                                                      | 0/7135571 [00:00<?, ?it/s]"
     ]
    },
    {
     "name": "stdout",
     "output_type": "stream",
     "text": [
      "Bert transformation\n"
     ]
    },
    {
     "name": "stderr",
     "output_type": "stream",
     "text": [
      "100%|█████████████████████████████████████████████████████████████████████| 7135571/7135571 [02:13<00:00, 53449.80it/s]\n",
      "<ipython-input-3-a6d50b47f981>:71: SettingWithCopyWarning: \n",
      "A value is trying to be set on a copy of a slice from a DataFrame.\n",
      "Try using .loc[row_indexer,col_indexer] = value instead\n",
      "\n",
      "See the caveats in the documentation: https://pandas.pydata.org/pandas-docs/stable/user_guide/indexing.html#returning-a-view-versus-a-copy\n",
      "  df_text[\"bert\"] = df_text[\"bert\"].progress_apply(lambda x: x.split('\\t'))\n",
      "  0%|                                                                          | 1/7135571 [00:00<305:14:24,  6.49it/s]"
     ]
    },
    {
     "name": "stdout",
     "output_type": "stream",
     "text": [
      "Tweet length\n"
     ]
    },
    {
     "name": "stderr",
     "output_type": "stream",
     "text": [
      "100%|████████████████████████████████████████████████████████████████████| 7135571/7135571 [00:08<00:00, 861160.03it/s]\n",
      "<ipython-input-3-a6d50b47f981>:75: SettingWithCopyWarning: \n",
      "A value is trying to be set on a copy of a slice from a DataFrame.\n",
      "Try using .loc[row_indexer,col_indexer] = value instead\n",
      "\n",
      "See the caveats in the documentation: https://pandas.pydata.org/pandas-docs/stable/user_guide/indexing.html#returning-a-view-versus-a-copy\n",
      "  df_text[\"length_tweet\"] = df_text.bert.progress_apply(lambda x: len(x))\n",
      "  0%|                                                                          | 1/7135571 [00:00<293:20:57,  6.76it/s]"
     ]
    },
    {
     "name": "stdout",
     "output_type": "stream",
     "text": [
      "Num unique words\n"
     ]
    },
    {
     "name": "stderr",
     "output_type": "stream",
     "text": [
      "100%|████████████████████████████████████████████████████████████████████| 7135571/7135571 [00:57<00:00, 124208.36it/s]\n",
      "<ipython-input-3-a6d50b47f981>:77: SettingWithCopyWarning: \n",
      "A value is trying to be set on a copy of a slice from a DataFrame.\n",
      "Try using .loc[row_indexer,col_indexer] = value instead\n",
      "\n",
      "See the caveats in the documentation: https://pandas.pydata.org/pandas-docs/stable/user_guide/indexing.html#returning-a-view-versus-a-copy\n",
      "  df_text[\"num_unique_words\"] = df_text[\"bert\"].progress_apply(lambda x: len(set(x)))\n",
      "<ipython-input-3-a6d50b47f981>:79: SettingWithCopyWarning: \n",
      "A value is trying to be set on a copy of a slice from a DataFrame.\n",
      "Try using .loc[row_indexer,col_indexer] = value instead\n",
      "\n",
      "See the caveats in the documentation: https://pandas.pydata.org/pandas-docs/stable/user_guide/indexing.html#returning-a-view-versus-a-copy\n",
      "  df_text[\"ratio_unique_words\"] = df_text[\"num_unique_words\"] / df_text[\"length_tweet\"]\n",
      "  0%|                                                                                      | 0/7135571 [00:00<?, ?it/s]"
     ]
    },
    {
     "name": "stdout",
     "output_type": "stream",
     "text": [
      "Ratio unique words\n",
      "Plain text\n"
     ]
    },
    {
     "name": "stderr",
     "output_type": "stream",
     "text": [
      "100%|█████████████████████████████████████████████████████████████████████| 7135571/7135571 [11:19<00:00, 10493.89it/s]\n",
      "<ipython-input-3-a6d50b47f981>:81: SettingWithCopyWarning: \n",
      "A value is trying to be set on a copy of a slice from a DataFrame.\n",
      "Try using .loc[row_indexer,col_indexer] = value instead\n",
      "\n",
      "See the caveats in the documentation: https://pandas.pydata.org/pandas-docs/stable/user_guide/indexing.html#returning-a-view-versus-a-copy\n",
      "  df_text[\"plain_text\"] = df_text[\"bert\"].progress_apply(lambda x: tokenizer.decode(x))\n",
      "  0%|                                                                                      | 0/7135571 [00:00<?, ?it/s]"
     ]
    },
    {
     "name": "stdout",
     "output_type": "stream",
     "text": [
      "Contains worst words\n"
     ]
    },
    {
     "name": "stderr",
     "output_type": "stream",
     "text": [
      "100%|████████████████████████████████████████████████████████████████████| 7135571/7135571 [00:41<00:00, 171835.36it/s]\n",
      "<ipython-input-3-a6d50b47f981>:83: SettingWithCopyWarning: \n",
      "A value is trying to be set on a copy of a slice from a DataFrame.\n",
      "Try using .loc[row_indexer,col_indexer] = value instead\n",
      "\n",
      "See the caveats in the documentation: https://pandas.pydata.org/pandas-docs/stable/user_guide/indexing.html#returning-a-view-versus-a-copy\n",
      "  df_text[\"contains_worst_words\"] = df_text[\"plain_text\"].progress_apply(lambda x: int(len(set(x.split()).intersection(set(worst_words_retweet))) != 0))\n",
      "  0%|                                                                          | 1/7135571 [00:00<202:09:30,  9.80it/s]"
     ]
    },
    {
     "name": "stdout",
     "output_type": "stream",
     "text": [
      "Contains best words\n"
     ]
    },
    {
     "name": "stderr",
     "output_type": "stream",
     "text": [
      "100%|████████████████████████████████████████████████████████████████████| 7135571/7135571 [00:39<00:00, 179355.24it/s]\n",
      "<ipython-input-3-a6d50b47f981>:85: SettingWithCopyWarning: \n",
      "A value is trying to be set on a copy of a slice from a DataFrame.\n",
      "Try using .loc[row_indexer,col_indexer] = value instead\n",
      "\n",
      "See the caveats in the documentation: https://pandas.pydata.org/pandas-docs/stable/user_guide/indexing.html#returning-a-view-versus-a-copy\n",
      "  df_text[\"contains_best_words\"] = df_text[\"plain_text\"].progress_apply(lambda x: int(len(set(x.split()).intersection(set(best_words_retweet))) != 0))\n",
      "  0%|                                                                        | 3624/7135571 [00:00<03:16, 36229.32it/s]"
     ]
    },
    {
     "name": "stdout",
     "output_type": "stream",
     "text": [
      "Contains reply (@)\n"
     ]
    },
    {
     "name": "stderr",
     "output_type": "stream",
     "text": [
      "100%|████████████████████████████████████████████████████████████████████| 7135571/7135571 [00:07<00:00, 935930.23it/s]\n",
      "<ipython-input-3-a6d50b47f981>:87: SettingWithCopyWarning: \n",
      "A value is trying to be set on a copy of a slice from a DataFrame.\n",
      "Try using .loc[row_indexer,col_indexer] = value instead\n",
      "\n",
      "See the caveats in the documentation: https://pandas.pydata.org/pandas-docs/stable/user_guide/indexing.html#returning-a-view-versus-a-copy\n",
      "  df_text[\"contains_reply\"] = df_text[\"plain_text\"].progress_apply(lambda x: int('@' in x))\n",
      "  0%|                                                                        | 7310/7135571 [00:00<02:46, 42835.00it/s]"
     ]
    },
    {
     "name": "stdout",
     "output_type": "stream",
     "text": [
      "Max word len\n"
     ]
    },
    {
     "name": "stderr",
     "output_type": "stream",
     "text": [
      "100%|█████████████████████████████████████████████████████████████████████| 7135571/7135571 [01:45<00:00, 67798.27it/s]\n",
      "<ipython-input-3-a6d50b47f981>:89: SettingWithCopyWarning: \n",
      "A value is trying to be set on a copy of a slice from a DataFrame.\n",
      "Try using .loc[row_indexer,col_indexer] = value instead\n",
      "\n",
      "See the caveats in the documentation: https://pandas.pydata.org/pandas-docs/stable/user_guide/indexing.html#returning-a-view-versus-a-copy\n",
      "  df_text[\"max_word_len\"] = df_text[\"plain_text\"].progress_apply(lambda x: np.max([len(word) for word in x.split()]))\n",
      "  0%|                                                                        | 6025/7135571 [00:00<03:43, 31843.34it/s]"
     ]
    },
    {
     "name": "stdout",
     "output_type": "stream",
     "text": [
      "Min word len\n"
     ]
    },
    {
     "name": "stderr",
     "output_type": "stream",
     "text": [
      "100%|█████████████████████████████████████████████████████████████████████| 7135571/7135571 [02:00<00:00, 59423.83it/s]\n",
      "<ipython-input-3-a6d50b47f981>:91: SettingWithCopyWarning: \n",
      "A value is trying to be set on a copy of a slice from a DataFrame.\n",
      "Try using .loc[row_indexer,col_indexer] = value instead\n",
      "\n",
      "See the caveats in the documentation: https://pandas.pydata.org/pandas-docs/stable/user_guide/indexing.html#returning-a-view-versus-a-copy\n",
      "  df_text[\"min_word_len\"] = df_text[\"plain_text\"].progress_apply(lambda x: np.min([len(word) for word in x.split()]))\n",
      "  0%|                                                                        | 5175/7135571 [00:00<04:11, 28338.73it/s]"
     ]
    },
    {
     "name": "stdout",
     "output_type": "stream",
     "text": [
      "Mean word len\n"
     ]
    },
    {
     "name": "stderr",
     "output_type": "stream",
     "text": [
      "100%|█████████████████████████████████████████████████████████████████████| 7135571/7135571 [02:03<00:00, 57550.85it/s]\n",
      "<ipython-input-3-a6d50b47f981>:93: SettingWithCopyWarning: \n",
      "A value is trying to be set on a copy of a slice from a DataFrame.\n",
      "Try using .loc[row_indexer,col_indexer] = value instead\n",
      "\n",
      "See the caveats in the documentation: https://pandas.pydata.org/pandas-docs/stable/user_guide/indexing.html#returning-a-view-versus-a-copy\n",
      "  df_text[\"mean_word_len\"] = df_text[\"plain_text\"].progress_apply(lambda x: np.mean([len(word) for word in x.split()]))\n",
      "  0%|                                                                          | 1/7135571 [00:00<206:08:16,  9.62it/s]"
     ]
    },
    {
     "name": "stdout",
     "output_type": "stream",
     "text": [
      "Number of UNK\n"
     ]
    },
    {
     "name": "stderr",
     "output_type": "stream",
     "text": [
      "100%|████████████████████████████████████████████████████████████████████| 7135571/7135571 [00:23<00:00, 304830.45it/s]\n",
      "<ipython-input-3-a6d50b47f981>:95: SettingWithCopyWarning: \n",
      "A value is trying to be set on a copy of a slice from a DataFrame.\n",
      "Try using .loc[row_indexer,col_indexer] = value instead\n",
      "\n",
      "See the caveats in the documentation: https://pandas.pydata.org/pandas-docs/stable/user_guide/indexing.html#returning-a-view-versus-a-copy\n",
      "  df_text[\"number_of_UNK\"] = df_text[\"plain_text\"].progress_apply(lambda x: x.split().count('[UNK]'))\n",
      "<ipython-input-3-a6d50b47f981>:97: SettingWithCopyWarning: \n",
      "A value is trying to be set on a copy of a slice from a DataFrame.\n",
      "Try using .loc[row_indexer,col_indexer] = value instead\n",
      "\n",
      "See the caveats in the documentation: https://pandas.pydata.org/pandas-docs/stable/user_guide/indexing.html#returning-a-view-versus-a-copy\n",
      "  df_text[\"ratio_of_UNK\"] = (df_text['number_of_UNK'] /df_text['length_tweet']).astype(np.float32)\n",
      "  0%|                                                                                      | 0/7135571 [00:00<?, ?it/s]"
     ]
    },
    {
     "name": "stdout",
     "output_type": "stream",
     "text": [
      "Ratio of UNK\n",
      "Number of punctuations\n"
     ]
    },
    {
     "name": "stderr",
     "output_type": "stream",
     "text": [
      "100%|████████████████████████████████████████████████████████████████████| 7135571/7135571 [00:35<00:00, 200530.26it/s]\n",
      "<ipython-input-3-a6d50b47f981>:99: SettingWithCopyWarning: \n",
      "A value is trying to be set on a copy of a slice from a DataFrame.\n",
      "Try using .loc[row_indexer,col_indexer] = value instead\n",
      "\n",
      "See the caveats in the documentation: https://pandas.pydata.org/pandas-docs/stable/user_guide/indexing.html#returning-a-view-versus-a-copy\n",
      "  df_text[\"number_of_punctuations\"] = df_text[\"plain_text\"].progress_apply(lambda x: len([c for c in x.split()if c in string.punctuation and c not in addmited_punctuations]))\n",
      "<ipython-input-3-a6d50b47f981>:101: SettingWithCopyWarning: \n",
      "A value is trying to be set on a copy of a slice from a DataFrame.\n",
      "Try using .loc[row_indexer,col_indexer] = value instead\n",
      "\n",
      "See the caveats in the documentation: https://pandas.pydata.org/pandas-docs/stable/user_guide/indexing.html#returning-a-view-versus-a-copy\n",
      "  df_text[\"ratio_of_punctuations\"] = (df_text['number_of_punctuations'] / df_text['length_tweet']).astype(np.float32)\n",
      "  0%|                                                                          | 1/7135571 [00:00<210:06:10,  9.43it/s]"
     ]
    },
    {
     "name": "stdout",
     "output_type": "stream",
     "text": [
      "Ratio of punctuations\n",
      "Kinda Num of keywords\n"
     ]
    },
    {
     "name": "stderr",
     "output_type": "stream",
     "text": [
      "100%|██████████████████████████████████████████████████████████████████████| 7135571/7135571 [16:59<00:00, 6999.21it/s]\n",
      "<ipython-input-3-a6d50b47f981>:103: SettingWithCopyWarning: \n",
      "A value is trying to be set on a copy of a slice from a DataFrame.\n",
      "Try using .loc[row_indexer,col_indexer] = value instead\n",
      "\n",
      "See the caveats in the documentation: https://pandas.pydata.org/pandas-docs/stable/user_guide/indexing.html#returning-a-view-versus-a-copy\n",
      "  df_text[\"kinda_num_of_keywords\"] = df_text[\"plain_text\"].progress_apply(lambda x: len([word for word in x if word.lower() not in common_english_words]))\n",
      "  0%|                                                                        | 3720/7135571 [00:00<05:40, 20943.24it/s]"
     ]
    },
    {
     "name": "stdout",
     "output_type": "stream",
     "text": [
      "Num of keywords\n"
     ]
    },
    {
     "name": "stderr",
     "output_type": "stream",
     "text": [
      "100%|█████████████████████████████████████████████████████████████████████| 7135571/7135571 [02:42<00:00, 43886.63it/s]\n",
      "<ipython-input-3-a6d50b47f981>:105: SettingWithCopyWarning: \n",
      "A value is trying to be set on a copy of a slice from a DataFrame.\n",
      "Try using .loc[row_indexer,col_indexer] = value instead\n",
      "\n",
      "See the caveats in the documentation: https://pandas.pydata.org/pandas-docs/stable/user_guide/indexing.html#returning-a-view-versus-a-copy\n",
      "  df_text[\"num_of_keywords\"] = df_text[\"plain_text\"].progress_apply(lambda x: len([word for word in x.split() if (len(word) > 2) and (word.lower() not in common_english_words)]))\n",
      "<ipython-input-3-a6d50b47f981>:107: SettingWithCopyWarning: \n",
      "A value is trying to be set on a copy of a slice from a DataFrame.\n",
      "Try using .loc[row_indexer,col_indexer] = value instead\n",
      "\n",
      "See the caveats in the documentation: https://pandas.pydata.org/pandas-docs/stable/user_guide/indexing.html#returning-a-view-versus-a-copy\n",
      "  df_text[\"ratio_of_keywords\"] = (df_text[\"num_of_keywords\"] / df_text[\"length_tweet\"]).astype(np.float32)\n",
      "  0%|                                                                          | 1/7135571 [00:00<217:54:04,  9.10it/s]"
     ]
    },
    {
     "name": "stdout",
     "output_type": "stream",
     "text": [
      "Ratio of keywords\n",
      "Tweet length characters\n"
     ]
    },
    {
     "name": "stderr",
     "output_type": "stream",
     "text": [
      "100%|████████████████████████████████████████████████████████████████████| 7135571/7135571 [00:07<00:00, 972197.94it/s]\n",
      "<ipython-input-3-a6d50b47f981>:109: SettingWithCopyWarning: \n",
      "A value is trying to be set on a copy of a slice from a DataFrame.\n",
      "Try using .loc[row_indexer,col_indexer] = value instead\n",
      "\n",
      "See the caveats in the documentation: https://pandas.pydata.org/pandas-docs/stable/user_guide/indexing.html#returning-a-view-versus-a-copy\n",
      "  df_text[\"length_tweet_characters\"] = df_text[\"plain_text\"].progress_apply(lambda x: len(x))\n"
     ]
    },
    {
     "name": "stdout",
     "output_type": "stream",
     "text": [
      "Adding target: reply_timestamp\n"
     ]
    },
    {
     "name": "stderr",
     "output_type": "stream",
     "text": [
      "<ipython-input-3-a6d50b47f981>:137: SettingWithCopyWarning: \n",
      "A value is trying to be set on a copy of a slice from a DataFrame.\n",
      "Try using .loc[row_indexer,col_indexer] = value instead\n",
      "\n",
      "See the caveats in the documentation: https://pandas.pydata.org/pandas-docs/stable/user_guide/indexing.html#returning-a-view-versus-a-copy\n",
      "  df[target] = df[target].apply(lambda x: int(not pd.isna(x)))\n"
     ]
    },
    {
     "name": "stdout",
     "output_type": "stream",
     "text": [
      "Adding target: retweet_timestamp\n",
      "Adding target: quote_timestamp\n",
      "Adding target: like_timestamp\n"
     ]
    },
    {
     "name": "stderr",
     "output_type": "stream",
     "text": [
      "<ipython-input-5-af1bd60c3d1a>:2: SettingWithCopyWarning: \n",
      "A value is trying to be set on a copy of a slice from a DataFrame.\n",
      "Try using .loc[row_indexer,col_indexer] = value instead\n",
      "\n",
      "See the caveats in the documentation: https://pandas.pydata.org/pandas-docs/stable/user_guide/indexing.html#returning-a-view-versus-a-copy\n",
      "  df[\"datetime_tweet_creation\"] = df[\"timestamp\"].apply(lambda x: pd.to_datetime(x, unit='s'))\n"
     ]
    }
   ],
   "source": [
    "data = prepare_data(df_train)"
   ]
  },
  {
   "cell_type": "markdown",
   "id": "divine-pharmacology",
   "metadata": {},
   "source": [
    "## Splitting data by timestamp"
   ]
  },
  {
   "cell_type": "code",
   "execution_count": 16,
   "id": "noticed-probe",
   "metadata": {
    "ExecuteTime": {
     "end_time": "2021-06-16T10:11:01.554283Z",
     "start_time": "2021-06-16T10:10:59.800561Z"
    }
   },
   "outputs": [
    {
     "name": "stdout",
     "output_type": "stream",
     "text": [
      "0.858147689631439\n",
      "0.141852310368561\n"
     ]
    }
   ],
   "source": [
    "date_to_split = pd.to_datetime(\"2021/03/03\")\n",
    "train = data[data[\"datetime_tweet_creation\"] < date_to_split]\n",
    "validation = data[data[\"datetime_tweet_creation\"] >= date_to_split]\n",
    "print(train.shape[0] / (train.shape[0] + validation.shape[0]))\n",
    "print(validation.shape[0] / (train.shape[0] + validation.shape[0]))"
   ]
  },
  {
   "cell_type": "code",
   "execution_count": 13,
   "id": "manufactured-switch",
   "metadata": {
    "ExecuteTime": {
     "end_time": "2021-06-29T19:44:35.738215Z",
     "start_time": "2021-06-29T17:35:27.393276Z"
    },
    "scrolled": false
   },
   "outputs": [
    {
     "name": "stdout",
     "output_type": "stream",
     "text": [
      "reply_timestamp model\n",
      "=============================================\n",
      "[LightGBM] [Info] [cross_entropy:Init]: (objective) labels passed interval [0, 1] check\n",
      "[LightGBM] [Warning] Auto-choosing row-wise multi-threading, the overhead of testing was 0.091855 seconds.\n",
      "You can set `force_row_wise=true` to remove the overhead.\n",
      "And if memory is not enough, you can set `force_col_wise=true`.\n",
      "[LightGBM] [Info] Total Bins 2369\n",
      "[LightGBM] [Info] Number of data points in the train set: 6124136, number of used features: 17\n",
      "[LightGBM] [Info] [cross_entropy:BoostFromScore]: pavg = 0.021100 -> initscore = -3.837143\n",
      "[LightGBM] [Info] Start training from score -3.837143\n",
      "Training until validation scores don't improve for 25 rounds\n",
      "[50]\tvalid_0's rce: 4.75143\tvalid_0's ap: 0.0404225\tvalid_1's rce: 4.86185\tvalid_1's ap: 0.0394753\n",
      "[100]\tvalid_0's rce: 5.06206\tvalid_0's ap: 0.0433633\tvalid_1's rce: 5.03639\tvalid_1's ap: 0.0399259\n",
      "[150]\tvalid_0's rce: 5.30631\tvalid_0's ap: 0.0470059\tvalid_1's rce: 5.0576\tvalid_1's ap: 0.0399863\n",
      "Early stopping, best iteration is:\n",
      "[157]\tvalid_0's rce: 5.32984\tvalid_0's ap: 0.0471032\tvalid_1's rce: 5.06005\tvalid_1's ap: 0.0399908\n",
      "Evaluated only: rce\n",
      "\n",
      "\n",
      "\n",
      "retweet_timestamp model\n",
      "=============================================\n",
      "[LightGBM] [Info] [cross_entropy:Init]: (objective) labels passed interval [0, 1] check\n",
      "[LightGBM] [Warning] Auto-choosing row-wise multi-threading, the overhead of testing was 0.102006 seconds.\n",
      "You can set `force_row_wise=true` to remove the overhead.\n",
      "And if memory is not enough, you can set `force_col_wise=true`.\n",
      "[LightGBM] [Info] Total Bins 2369\n",
      "[LightGBM] [Info] Number of data points in the train set: 6124136, number of used features: 17\n",
      "[LightGBM] [Info] [cross_entropy:BoostFromScore]: pavg = 0.081303 -> initscore = -2.424773\n",
      "[LightGBM] [Info] Start training from score -2.424773\n",
      "Training until validation scores don't improve for 25 rounds\n",
      "[50]\tvalid_0's rce: 5.28518\tvalid_0's ap: 0.184688\tvalid_1's rce: 4.09682\tvalid_1's ap: 0.151123\n",
      "[100]\tvalid_0's rce: 5.61927\tvalid_0's ap: 0.189308\tvalid_1's rce: 4.31293\tvalid_1's ap: 0.153919\n",
      "[150]\tvalid_0's rce: 5.73792\tvalid_0's ap: 0.191207\tvalid_1's rce: 4.36909\tvalid_1's ap: 0.154679\n",
      "[200]\tvalid_0's rce: 5.83638\tvalid_0's ap: 0.192798\tvalid_1's rce: 4.42025\tvalid_1's ap: 0.155406\n",
      "[250]\tvalid_0's rce: 5.92498\tvalid_0's ap: 0.194282\tvalid_1's rce: 4.45746\tvalid_1's ap: 0.156007\n",
      "[300]\tvalid_0's rce: 6.01607\tvalid_0's ap: 0.19588\tvalid_1's rce: 4.49006\tvalid_1's ap: 0.156467\n",
      "[350]\tvalid_0's rce: 6.10203\tvalid_0's ap: 0.197228\tvalid_1's rce: 4.52133\tvalid_1's ap: 0.156945\n",
      "[400]\tvalid_0's rce: 6.19499\tvalid_0's ap: 0.198781\tvalid_1's rce: 4.54778\tvalid_1's ap: 0.157317\n",
      "[450]\tvalid_0's rce: 6.2602\tvalid_0's ap: 0.199699\tvalid_1's rce: 4.56521\tvalid_1's ap: 0.157546\n",
      "[500]\tvalid_0's rce: 6.32582\tvalid_0's ap: 0.200759\tvalid_1's rce: 4.57743\tvalid_1's ap: 0.157736\n",
      "[550]\tvalid_0's rce: 6.38092\tvalid_0's ap: 0.201629\tvalid_1's rce: 4.58916\tvalid_1's ap: 0.157871\n",
      "[600]\tvalid_0's rce: 6.42954\tvalid_0's ap: 0.202302\tvalid_1's rce: 4.59643\tvalid_1's ap: 0.157972\n",
      "[650]\tvalid_0's rce: 6.48135\tvalid_0's ap: 0.203162\tvalid_1's rce: 4.60543\tvalid_1's ap: 0.158114\n",
      "[700]\tvalid_0's rce: 6.53079\tvalid_0's ap: 0.203846\tvalid_1's rce: 4.61243\tvalid_1's ap: 0.15822\n",
      "[750]\tvalid_0's rce: 6.58806\tvalid_0's ap: 0.204763\tvalid_1's rce: 4.61931\tvalid_1's ap: 0.158338\n",
      "[800]\tvalid_0's rce: 6.64259\tvalid_0's ap: 0.205596\tvalid_1's rce: 4.62679\tvalid_1's ap: 0.158471\n",
      "[850]\tvalid_0's rce: 6.69414\tvalid_0's ap: 0.206303\tvalid_1's rce: 4.63198\tvalid_1's ap: 0.158494\n",
      "[900]\tvalid_0's rce: 6.7636\tvalid_0's ap: 0.207392\tvalid_1's rce: 4.6416\tvalid_1's ap: 0.158625\n",
      "Early stopping, best iteration is:\n",
      "[915]\tvalid_0's rce: 6.77595\tvalid_0's ap: 0.207673\tvalid_1's rce: 4.64203\tvalid_1's ap: 0.158644\n",
      "Evaluated only: rce\n",
      "\n",
      "\n",
      "\n",
      "quote_timestamp model\n",
      "=============================================\n",
      "[LightGBM] [Info] [cross_entropy:Init]: (objective) labels passed interval [0, 1] check\n",
      "[LightGBM] [Warning] Auto-choosing row-wise multi-threading, the overhead of testing was 0.107522 seconds.\n",
      "You can set `force_row_wise=true` to remove the overhead.\n",
      "And if memory is not enough, you can set `force_col_wise=true`.\n",
      "[LightGBM] [Info] Total Bins 2369\n",
      "[LightGBM] [Info] Number of data points in the train set: 6124136, number of used features: 17\n",
      "[LightGBM] [Info] [cross_entropy:BoostFromScore]: pavg = 0.005548 -> initscore = -5.188716\n",
      "[LightGBM] [Info] Start training from score -5.188716\n",
      "Training until validation scores don't improve for 25 rounds\n",
      "[50]\tvalid_0's rce: 1.61973\tvalid_0's ap: 0.0114255\tvalid_1's rce: 1.15547\tvalid_1's ap: 0.00811016\n",
      "[100]\tvalid_0's rce: 2.45928\tvalid_0's ap: 0.0208228\tvalid_1's rce: 1.19598\tvalid_1's ap: 0.00804569\n",
      "Early stopping, best iteration is:\n",
      "[82]\tvalid_0's rce: 2.1831\tvalid_0's ap: 0.0157666\tvalid_1's rce: 1.20588\tvalid_1's ap: 0.00811651\n",
      "Evaluated only: rce\n",
      "\n",
      "\n",
      "\n",
      "like_timestamp model\n",
      "=============================================\n",
      "[LightGBM] [Info] [cross_entropy:Init]: (objective) labels passed interval [0, 1] check\n",
      "[LightGBM] [Warning] Auto-choosing row-wise multi-threading, the overhead of testing was 0.106028 seconds.\n",
      "You can set `force_row_wise=true` to remove the overhead.\n",
      "And if memory is not enough, you can set `force_col_wise=true`.\n",
      "[LightGBM] [Info] Total Bins 2369\n",
      "[LightGBM] [Info] Number of data points in the train set: 6124136, number of used features: 17\n",
      "[LightGBM] [Info] [cross_entropy:BoostFromScore]: pavg = 0.405260 -> initscore = -0.383594\n",
      "[LightGBM] [Info] Start training from score -0.383594\n",
      "Training until validation scores don't improve for 25 rounds\n",
      "[50]\tvalid_0's rce: 6.72646\tvalid_0's ap: 0.555722\tvalid_1's rce: 5.79542\tvalid_1's ap: 0.512457\n",
      "[100]\tvalid_0's rce: 7.03265\tvalid_0's ap: 0.557863\tvalid_1's rce: 6.02539\tvalid_1's ap: 0.514656\n",
      "[150]\tvalid_0's rce: 7.14284\tvalid_0's ap: 0.559145\tvalid_1's rce: 6.09991\tvalid_1's ap: 0.515625\n",
      "[200]\tvalid_0's rce: 7.21161\tvalid_0's ap: 0.560299\tvalid_1's rce: 6.13736\tvalid_1's ap: 0.516112\n",
      "[250]\tvalid_0's rce: 7.26798\tvalid_0's ap: 0.561281\tvalid_1's rce: 6.16136\tvalid_1's ap: 0.516481\n",
      "[300]\tvalid_0's rce: 7.31763\tvalid_0's ap: 0.562294\tvalid_1's rce: 6.18466\tvalid_1's ap: 0.516783\n",
      "[350]\tvalid_0's rce: 7.3627\tvalid_0's ap: 0.563204\tvalid_1's rce: 6.20116\tvalid_1's ap: 0.517003\n",
      "[400]\tvalid_0's rce: 7.40464\tvalid_0's ap: 0.563986\tvalid_1's rce: 6.21552\tvalid_1's ap: 0.517179\n",
      "[450]\tvalid_0's rce: 7.44411\tvalid_0's ap: 0.564712\tvalid_1's rce: 6.22961\tvalid_1's ap: 0.51734\n",
      "[500]\tvalid_0's rce: 7.48793\tvalid_0's ap: 0.565428\tvalid_1's rce: 6.24493\tvalid_1's ap: 0.517475\n",
      "[550]\tvalid_0's rce: 7.52532\tvalid_0's ap: 0.566063\tvalid_1's rce: 6.25813\tvalid_1's ap: 0.517667\n",
      "[600]\tvalid_0's rce: 7.56574\tvalid_0's ap: 0.566638\tvalid_1's rce: 6.27238\tvalid_1's ap: 0.51783\n",
      "[650]\tvalid_0's rce: 7.60004\tvalid_0's ap: 0.567148\tvalid_1's rce: 6.2832\tvalid_1's ap: 0.517992\n",
      "[700]\tvalid_0's rce: 7.6333\tvalid_0's ap: 0.567772\tvalid_1's rce: 6.29064\tvalid_1's ap: 0.518077\n",
      "[750]\tvalid_0's rce: 7.66459\tvalid_0's ap: 0.568344\tvalid_1's rce: 6.29892\tvalid_1's ap: 0.518184\n",
      "[800]\tvalid_0's rce: 7.69177\tvalid_0's ap: 0.568835\tvalid_1's rce: 6.30522\tvalid_1's ap: 0.518242\n",
      "[850]\tvalid_0's rce: 7.72348\tvalid_0's ap: 0.569457\tvalid_1's rce: 6.31027\tvalid_1's ap: 0.518291\n",
      "[900]\tvalid_0's rce: 7.75003\tvalid_0's ap: 0.569985\tvalid_1's rce: 6.31415\tvalid_1's ap: 0.518298\n",
      "[950]\tvalid_0's rce: 7.77628\tvalid_0's ap: 0.570437\tvalid_1's rce: 6.319\tvalid_1's ap: 0.51834\n",
      "[1000]\tvalid_0's rce: 7.80139\tvalid_0's ap: 0.570856\tvalid_1's rce: 6.32177\tvalid_1's ap: 0.518344\n",
      "[1050]\tvalid_0's rce: 7.82779\tvalid_0's ap: 0.57147\tvalid_1's rce: 6.32683\tvalid_1's ap: 0.518387\n",
      "[1100]\tvalid_0's rce: 7.85376\tvalid_0's ap: 0.571995\tvalid_1's rce: 6.3313\tvalid_1's ap: 0.518422\n",
      "[1150]\tvalid_0's rce: 7.87667\tvalid_0's ap: 0.572431\tvalid_1's rce: 6.33404\tvalid_1's ap: 0.518418\n",
      "[1200]\tvalid_0's rce: 7.89803\tvalid_0's ap: 0.572851\tvalid_1's rce: 6.33632\tvalid_1's ap: 0.518438\n",
      "[1250]\tvalid_0's rce: 7.92197\tvalid_0's ap: 0.573293\tvalid_1's rce: 6.33817\tvalid_1's ap: 0.51845\n",
      "[1300]\tvalid_0's rce: 7.94587\tvalid_0's ap: 0.573775\tvalid_1's rce: 6.34217\tvalid_1's ap: 0.518488\n",
      "[1350]\tvalid_0's rce: 7.968\tvalid_0's ap: 0.57424\tvalid_1's rce: 6.34508\tvalid_1's ap: 0.518505\n"
     ]
    },
    {
     "name": "stdout",
     "output_type": "stream",
     "text": [
      "[1400]\tvalid_0's rce: 7.99361\tvalid_0's ap: 0.574696\tvalid_1's rce: 6.34814\tvalid_1's ap: 0.518545\n",
      "Early stopping, best iteration is:\n",
      "[1422]\tvalid_0's rce: 8.00279\tvalid_0's ap: 0.574867\tvalid_1's rce: 6.34878\tvalid_1's ap: 0.518541\n",
      "Evaluated only: rce\n",
      "\n",
      "\n",
      "\n"
     ]
    }
   ],
   "source": [
    "# Validation set without TFIDF\n",
    "models = []\n",
    "for target in target_columns:\n",
    "    print(target, \"model\")\n",
    "    print(\"=\"*45)\n",
    "    models.append(train_model(data, target))\n",
    "    print(\"\\n\"*2)"
   ]
  },
  {
   "cell_type": "markdown",
   "id": "composite-median",
   "metadata": {},
   "source": [
    "# Load evaluation data"
   ]
  },
  {
   "cell_type": "code",
   "execution_count": 15,
   "id": "conscious-notice",
   "metadata": {
    "ExecuteTime": {
     "end_time": "2021-06-29T20:26:47.918247Z",
     "start_time": "2021-06-29T20:26:47.895650Z"
    }
   },
   "outputs": [],
   "source": [
    "del df_train"
   ]
  },
  {
   "cell_type": "code",
   "execution_count": 16,
   "id": "graphic-concord",
   "metadata": {
    "ExecuteTime": {
     "end_time": "2021-06-29T22:54:33.395685Z",
     "start_time": "2021-06-29T20:35:27.181060Z"
    }
   },
   "outputs": [
    {
     "name": "stderr",
     "output_type": "stream",
     "text": [
      "  0%|                                                                          | 1/7135572 [00:00<618:48:13,  3.20it/s]"
     ]
    },
    {
     "name": "stdout",
     "output_type": "stream",
     "text": [
      "Bert transformation\n"
     ]
    },
    {
     "name": "stderr",
     "output_type": "stream",
     "text": [
      "100%|██████████████████████████████████████████████████████████████████████| 7135572/7135572 [38:25<00:00, 3094.64it/s]\n",
      "<ipython-input-3-a6d50b47f981>:71: SettingWithCopyWarning: \n",
      "A value is trying to be set on a copy of a slice from a DataFrame.\n",
      "Try using .loc[row_indexer,col_indexer] = value instead\n",
      "\n",
      "See the caveats in the documentation: https://pandas.pydata.org/pandas-docs/stable/user_guide/indexing.html#returning-a-view-versus-a-copy\n",
      "  df_text[\"bert\"] = df_text[\"bert\"].progress_apply(lambda x: x.split('\\t'))\n",
      "  0%|                                                                                      | 0/7135572 [00:00<?, ?it/s]"
     ]
    },
    {
     "name": "stdout",
     "output_type": "stream",
     "text": [
      "Tweet length\n"
     ]
    },
    {
     "name": "stderr",
     "output_type": "stream",
     "text": [
      "100%|████████████████████████████████████████████████████████████████████| 7135572/7135572 [00:07<00:00, 898323.76it/s]\n",
      "<ipython-input-3-a6d50b47f981>:75: SettingWithCopyWarning: \n",
      "A value is trying to be set on a copy of a slice from a DataFrame.\n",
      "Try using .loc[row_indexer,col_indexer] = value instead\n",
      "\n",
      "See the caveats in the documentation: https://pandas.pydata.org/pandas-docs/stable/user_guide/indexing.html#returning-a-view-versus-a-copy\n",
      "  df_text[\"length_tweet\"] = df_text.bert.progress_apply(lambda x: len(x))\n",
      "  0%|                                                                          | 1/7135572 [00:00<340:11:53,  5.83it/s]"
     ]
    },
    {
     "name": "stdout",
     "output_type": "stream",
     "text": [
      "Num unique words\n"
     ]
    },
    {
     "name": "stderr",
     "output_type": "stream",
     "text": [
      "100%|█████████████████████████████████████████████████████████████████████| 7135572/7135572 [01:26<00:00, 82202.27it/s]\n",
      "<ipython-input-3-a6d50b47f981>:77: SettingWithCopyWarning: \n",
      "A value is trying to be set on a copy of a slice from a DataFrame.\n",
      "Try using .loc[row_indexer,col_indexer] = value instead\n",
      "\n",
      "See the caveats in the documentation: https://pandas.pydata.org/pandas-docs/stable/user_guide/indexing.html#returning-a-view-versus-a-copy\n",
      "  df_text[\"num_unique_words\"] = df_text[\"bert\"].progress_apply(lambda x: len(set(x)))\n"
     ]
    },
    {
     "name": "stdout",
     "output_type": "stream",
     "text": [
      "Ratio unique words\n"
     ]
    },
    {
     "name": "stderr",
     "output_type": "stream",
     "text": [
      "<ipython-input-3-a6d50b47f981>:79: SettingWithCopyWarning: \n",
      "A value is trying to be set on a copy of a slice from a DataFrame.\n",
      "Try using .loc[row_indexer,col_indexer] = value instead\n",
      "\n",
      "See the caveats in the documentation: https://pandas.pydata.org/pandas-docs/stable/user_guide/indexing.html#returning-a-view-versus-a-copy\n",
      "  df_text[\"ratio_unique_words\"] = df_text[\"num_unique_words\"] / df_text[\"length_tweet\"]\n",
      "\r",
      "  0%|                                                                                      | 0/7135572 [00:00<?, ?it/s]"
     ]
    },
    {
     "name": "stdout",
     "output_type": "stream",
     "text": [
      "Plain text\n"
     ]
    },
    {
     "name": "stderr",
     "output_type": "stream",
     "text": [
      "100%|██████████████████████████████████████████████████████████████████████| 7135572/7135572 [12:59<00:00, 9154.68it/s]\n",
      "<ipython-input-3-a6d50b47f981>:81: SettingWithCopyWarning: \n",
      "A value is trying to be set on a copy of a slice from a DataFrame.\n",
      "Try using .loc[row_indexer,col_indexer] = value instead\n",
      "\n",
      "See the caveats in the documentation: https://pandas.pydata.org/pandas-docs/stable/user_guide/indexing.html#returning-a-view-versus-a-copy\n",
      "  df_text[\"plain_text\"] = df_text[\"bert\"].progress_apply(lambda x: tokenizer.decode(x))\n",
      "  0%|                                                                          | 1/7135572 [00:00<232:48:59,  8.51it/s]"
     ]
    },
    {
     "name": "stdout",
     "output_type": "stream",
     "text": [
      "Contains worst words\n"
     ]
    },
    {
     "name": "stderr",
     "output_type": "stream",
     "text": [
      "100%|████████████████████████████████████████████████████████████████████| 7135572/7135572 [00:40<00:00, 175672.27it/s]\n",
      "<ipython-input-3-a6d50b47f981>:83: SettingWithCopyWarning: \n",
      "A value is trying to be set on a copy of a slice from a DataFrame.\n",
      "Try using .loc[row_indexer,col_indexer] = value instead\n",
      "\n",
      "See the caveats in the documentation: https://pandas.pydata.org/pandas-docs/stable/user_guide/indexing.html#returning-a-view-versus-a-copy\n",
      "  df_text[\"contains_worst_words\"] = df_text[\"plain_text\"].progress_apply(lambda x: int(len(set(x.split()).intersection(set(worst_words_retweet))) != 0))\n",
      "  0%|                                                                          | 1/7135572 [00:00<224:09:27,  8.84it/s]"
     ]
    },
    {
     "name": "stdout",
     "output_type": "stream",
     "text": [
      "Contains best words\n"
     ]
    },
    {
     "name": "stderr",
     "output_type": "stream",
     "text": [
      "100%|████████████████████████████████████████████████████████████████████| 7135572/7135572 [00:39<00:00, 180327.31it/s]\n",
      "<ipython-input-3-a6d50b47f981>:85: SettingWithCopyWarning: \n",
      "A value is trying to be set on a copy of a slice from a DataFrame.\n",
      "Try using .loc[row_indexer,col_indexer] = value instead\n",
      "\n",
      "See the caveats in the documentation: https://pandas.pydata.org/pandas-docs/stable/user_guide/indexing.html#returning-a-view-versus-a-copy\n",
      "  df_text[\"contains_best_words\"] = df_text[\"plain_text\"].progress_apply(lambda x: int(len(set(x.split()).intersection(set(best_words_retweet))) != 0))\n",
      "  0%|                                                                          | 1/7135572 [00:00<225:15:14,  8.80it/s]"
     ]
    },
    {
     "name": "stdout",
     "output_type": "stream",
     "text": [
      "Contains reply (@)\n"
     ]
    },
    {
     "name": "stderr",
     "output_type": "stream",
     "text": [
      "100%|████████████████████████████████████████████████████████████████████| 7135572/7135572 [00:07<00:00, 970492.44it/s]\n",
      "<ipython-input-3-a6d50b47f981>:87: SettingWithCopyWarning: \n",
      "A value is trying to be set on a copy of a slice from a DataFrame.\n",
      "Try using .loc[row_indexer,col_indexer] = value instead\n",
      "\n",
      "See the caveats in the documentation: https://pandas.pydata.org/pandas-docs/stable/user_guide/indexing.html#returning-a-view-versus-a-copy\n",
      "  df_text[\"contains_reply\"] = df_text[\"plain_text\"].progress_apply(lambda x: int('@' in x))\n",
      "  0%|                                                                          | 1/7135572 [00:00<199:31:39,  9.93it/s]"
     ]
    },
    {
     "name": "stdout",
     "output_type": "stream",
     "text": [
      "Max word len\n"
     ]
    },
    {
     "name": "stderr",
     "output_type": "stream",
     "text": [
      "100%|█████████████████████████████████████████████████████████████████████| 7135572/7135572 [01:52<00:00, 63457.67it/s]\n",
      "<ipython-input-3-a6d50b47f981>:89: SettingWithCopyWarning: \n",
      "A value is trying to be set on a copy of a slice from a DataFrame.\n",
      "Try using .loc[row_indexer,col_indexer] = value instead\n",
      "\n",
      "See the caveats in the documentation: https://pandas.pydata.org/pandas-docs/stable/user_guide/indexing.html#returning-a-view-versus-a-copy\n",
      "  df_text[\"max_word_len\"] = df_text[\"plain_text\"].progress_apply(lambda x: np.max([len(word) for word in x.split()]))\n",
      "  0%|                                                                          | 1/7135572 [00:00<289:51:16,  6.84it/s]"
     ]
    },
    {
     "name": "stdout",
     "output_type": "stream",
     "text": [
      "Min word len\n"
     ]
    },
    {
     "name": "stderr",
     "output_type": "stream",
     "text": [
      "100%|█████████████████████████████████████████████████████████████████████| 7135572/7135572 [02:04<00:00, 57416.11it/s]\n",
      "<ipython-input-3-a6d50b47f981>:91: SettingWithCopyWarning: \n",
      "A value is trying to be set on a copy of a slice from a DataFrame.\n",
      "Try using .loc[row_indexer,col_indexer] = value instead\n",
      "\n",
      "See the caveats in the documentation: https://pandas.pydata.org/pandas-docs/stable/user_guide/indexing.html#returning-a-view-versus-a-copy\n",
      "  df_text[\"min_word_len\"] = df_text[\"plain_text\"].progress_apply(lambda x: np.min([len(word) for word in x.split()]))\n",
      "  0%|                                                                          | 1/7135572 [00:00<297:08:25,  6.67it/s]"
     ]
    },
    {
     "name": "stdout",
     "output_type": "stream",
     "text": [
      "Mean word len\n"
     ]
    },
    {
     "name": "stderr",
     "output_type": "stream",
     "text": [
      "100%|█████████████████████████████████████████████████████████████████████| 7135572/7135572 [02:01<00:00, 58562.17it/s]\n",
      "<ipython-input-3-a6d50b47f981>:93: SettingWithCopyWarning: \n",
      "A value is trying to be set on a copy of a slice from a DataFrame.\n",
      "Try using .loc[row_indexer,col_indexer] = value instead\n",
      "\n",
      "See the caveats in the documentation: https://pandas.pydata.org/pandas-docs/stable/user_guide/indexing.html#returning-a-view-versus-a-copy\n",
      "  df_text[\"mean_word_len\"] = df_text[\"plain_text\"].progress_apply(lambda x: np.mean([len(word) for word in x.split()]))\n",
      "  0%|                                                                          | 1/7135572 [00:00<221:59:38,  8.93it/s]"
     ]
    },
    {
     "name": "stdout",
     "output_type": "stream",
     "text": [
      "Number of UNK\n"
     ]
    },
    {
     "name": "stderr",
     "output_type": "stream",
     "text": [
      "100%|████████████████████████████████████████████████████████████████████| 7135572/7135572 [00:21<00:00, 327069.69it/s]\n",
      "<ipython-input-3-a6d50b47f981>:95: SettingWithCopyWarning: \n",
      "A value is trying to be set on a copy of a slice from a DataFrame.\n",
      "Try using .loc[row_indexer,col_indexer] = value instead\n",
      "\n",
      "See the caveats in the documentation: https://pandas.pydata.org/pandas-docs/stable/user_guide/indexing.html#returning-a-view-versus-a-copy\n",
      "  df_text[\"number_of_UNK\"] = df_text[\"plain_text\"].progress_apply(lambda x: x.split().count('[UNK]'))\n",
      "<ipython-input-3-a6d50b47f981>:97: SettingWithCopyWarning: \n",
      "A value is trying to be set on a copy of a slice from a DataFrame.\n",
      "Try using .loc[row_indexer,col_indexer] = value instead\n",
      "\n",
      "See the caveats in the documentation: https://pandas.pydata.org/pandas-docs/stable/user_guide/indexing.html#returning-a-view-versus-a-copy\n",
      "  df_text[\"ratio_of_UNK\"] = (df_text['number_of_UNK'] /df_text['length_tweet']).astype(np.float32)\n",
      "  0%|                                                                                      | 0/7135572 [00:00<?, ?it/s]"
     ]
    },
    {
     "name": "stdout",
     "output_type": "stream",
     "text": [
      "Ratio of UNK\n",
      "Number of punctuations\n"
     ]
    },
    {
     "name": "stderr",
     "output_type": "stream",
     "text": [
      "100%|████████████████████████████████████████████████████████████████████| 7135572/7135572 [00:40<00:00, 176448.89it/s]\n",
      "<ipython-input-3-a6d50b47f981>:99: SettingWithCopyWarning: \n",
      "A value is trying to be set on a copy of a slice from a DataFrame.\n",
      "Try using .loc[row_indexer,col_indexer] = value instead\n",
      "\n",
      "See the caveats in the documentation: https://pandas.pydata.org/pandas-docs/stable/user_guide/indexing.html#returning-a-view-versus-a-copy\n",
      "  df_text[\"number_of_punctuations\"] = df_text[\"plain_text\"].progress_apply(lambda x: len([c for c in x.split()if c in string.punctuation and c not in addmited_punctuations]))\n",
      "<ipython-input-3-a6d50b47f981>:101: SettingWithCopyWarning: \n",
      "A value is trying to be set on a copy of a slice from a DataFrame.\n",
      "Try using .loc[row_indexer,col_indexer] = value instead\n",
      "\n",
      "See the caveats in the documentation: https://pandas.pydata.org/pandas-docs/stable/user_guide/indexing.html#returning-a-view-versus-a-copy\n",
      "  df_text[\"ratio_of_punctuations\"] = (df_text['number_of_punctuations'] / df_text['length_tweet']).astype(np.float32)\n",
      "  0%|                                                                          | 1/7135572 [00:00<230:00:26,  8.62it/s]"
     ]
    },
    {
     "name": "stdout",
     "output_type": "stream",
     "text": [
      "Ratio of punctuations\n",
      "Kinda Num of keywords\n"
     ]
    },
    {
     "name": "stderr",
     "output_type": "stream",
     "text": [
      "100%|██████████████████████████████████████████████████████████████████████| 7135572/7135572 [16:29<00:00, 7208.40it/s]\n",
      "<ipython-input-3-a6d50b47f981>:103: SettingWithCopyWarning: \n",
      "A value is trying to be set on a copy of a slice from a DataFrame.\n",
      "Try using .loc[row_indexer,col_indexer] = value instead\n",
      "\n",
      "See the caveats in the documentation: https://pandas.pydata.org/pandas-docs/stable/user_guide/indexing.html#returning-a-view-versus-a-copy\n",
      "  df_text[\"kinda_num_of_keywords\"] = df_text[\"plain_text\"].progress_apply(lambda x: len([word for word in x if word.lower() not in common_english_words]))\n",
      "  0%|                                                                          | 1/7135572 [00:00<212:05:15,  9.35it/s]"
     ]
    },
    {
     "name": "stdout",
     "output_type": "stream",
     "text": [
      "Num of keywords\n"
     ]
    },
    {
     "name": "stderr",
     "output_type": "stream",
     "text": [
      "100%|█████████████████████████████████████████████████████████████████████| 7135572/7135572 [02:31<00:00, 47215.77it/s]\n",
      "<ipython-input-3-a6d50b47f981>:105: SettingWithCopyWarning: \n",
      "A value is trying to be set on a copy of a slice from a DataFrame.\n",
      "Try using .loc[row_indexer,col_indexer] = value instead\n",
      "\n",
      "See the caveats in the documentation: https://pandas.pydata.org/pandas-docs/stable/user_guide/indexing.html#returning-a-view-versus-a-copy\n",
      "  df_text[\"num_of_keywords\"] = df_text[\"plain_text\"].progress_apply(lambda x: len([word for word in x.split() if (len(word) > 2) and (word.lower() not in common_english_words)]))\n",
      "<ipython-input-3-a6d50b47f981>:107: SettingWithCopyWarning: \n",
      "A value is trying to be set on a copy of a slice from a DataFrame.\n",
      "Try using .loc[row_indexer,col_indexer] = value instead\n",
      "\n",
      "See the caveats in the documentation: https://pandas.pydata.org/pandas-docs/stable/user_guide/indexing.html#returning-a-view-versus-a-copy\n",
      "  df_text[\"ratio_of_keywords\"] = (df_text[\"num_of_keywords\"] / df_text[\"length_tweet\"]).astype(np.float32)\n",
      "  0%|                                                                          | 1/7135572 [00:00<198:12:55, 10.00it/s]"
     ]
    },
    {
     "name": "stdout",
     "output_type": "stream",
     "text": [
      "Ratio of keywords\n",
      "Tweet length characters\n"
     ]
    },
    {
     "name": "stderr",
     "output_type": "stream",
     "text": [
      "100%|███████████████████████████████████████████████████████████████████| 7135572/7135572 [00:06<00:00, 1032354.43it/s]\n",
      "<ipython-input-3-a6d50b47f981>:109: SettingWithCopyWarning: \n",
      "A value is trying to be set on a copy of a slice from a DataFrame.\n",
      "Try using .loc[row_indexer,col_indexer] = value instead\n",
      "\n",
      "See the caveats in the documentation: https://pandas.pydata.org/pandas-docs/stable/user_guide/indexing.html#returning-a-view-versus-a-copy\n",
      "  df_text[\"length_tweet_characters\"] = df_text[\"plain_text\"].progress_apply(lambda x: len(x))\n"
     ]
    },
    {
     "name": "stdout",
     "output_type": "stream",
     "text": [
      "Adding target: reply_timestamp\n"
     ]
    },
    {
     "name": "stderr",
     "output_type": "stream",
     "text": [
      "<ipython-input-3-a6d50b47f981>:137: SettingWithCopyWarning: \n",
      "A value is trying to be set on a copy of a slice from a DataFrame.\n",
      "Try using .loc[row_indexer,col_indexer] = value instead\n",
      "\n",
      "See the caveats in the documentation: https://pandas.pydata.org/pandas-docs/stable/user_guide/indexing.html#returning-a-view-versus-a-copy\n",
      "  df[target] = df[target].apply(lambda x: int(not pd.isna(x)))\n"
     ]
    },
    {
     "name": "stdout",
     "output_type": "stream",
     "text": [
      "Adding target: retweet_timestamp\n",
      "Adding target: quote_timestamp\n",
      "Adding target: like_timestamp\n"
     ]
    },
    {
     "name": "stderr",
     "output_type": "stream",
     "text": [
      "<ipython-input-5-af1bd60c3d1a>:2: SettingWithCopyWarning: \n",
      "A value is trying to be set on a copy of a slice from a DataFrame.\n",
      "Try using .loc[row_indexer,col_indexer] = value instead\n",
      "\n",
      "See the caveats in the documentation: https://pandas.pydata.org/pandas-docs/stable/user_guide/indexing.html#returning-a-view-versus-a-copy\n",
      "  df[\"datetime_tweet_creation\"] = df[\"timestamp\"].apply(lambda x: pd.to_datetime(x, unit='s'))\n"
     ]
    }
   ],
   "source": [
    "test = prepare_data(df_test)"
   ]
  },
  {
   "cell_type": "markdown",
   "id": "broad-lodge",
   "metadata": {},
   "source": [
    "## Results"
   ]
  },
  {
   "cell_type": "code",
   "execution_count": 17,
   "id": "religious-calgary",
   "metadata": {
    "ExecuteTime": {
     "end_time": "2021-06-29T23:12:24.930751Z",
     "start_time": "2021-06-29T23:08:13.288272Z"
    },
    "scrolled": false
   },
   "outputs": [
    {
     "name": "stdout",
     "output_type": "stream",
     "text": [
      "reply_timestamp model\n",
      "=============================================\n",
      "Mean of the predictions: 0.02107629770356069\n",
      "Std of the predictions: 0.013618282894114373\n",
      "Histogram of the predictions:\n"
     ]
    },
    {
     "data": {
      "image/png": "[encoded data removed]",
      "text/plain": [
       "<Figure size 432x288 with 1 Axes>"
      ]
     },
     "metadata": {
      "needs_background": "light"
     },
     "output_type": "display_data"
    },
    {
     "name": "stdout",
     "output_type": "stream",
     "text": [
      "RCE: 4.975608521034214\n",
      "AP: 0.04118574579651155\n",
      "Feature importance by 'gain':\n"
     ]
    },
    {
     "data": {
      "image/png": "[encoded data removed]",
      "text/plain": [
       "<Figure size 432x288 with 1 Axes>"
      ]
     },
     "metadata": {
      "needs_background": "light"
     },
     "output_type": "display_data"
    },
    {
     "name": "stdout",
     "output_type": "stream",
     "text": [
      "\n",
      "\n",
      "\n",
      "retweet_timestamp model\n",
      "=============================================\n",
      "Mean of the predictions: 0.08107525591947742\n",
      "Std of the predictions: 0.058731354270224204\n",
      "Histogram of the predictions:\n"
     ]
    },
    {
     "data": {
      "image/png": "[encoded data removed]",
      "text/plain": [
       "<Figure size 432x288 with 1 Axes>"
      ]
     },
     "metadata": {
      "needs_background": "light"
     },
     "output_type": "display_data"
    },
    {
     "name": "stdout",
     "output_type": "stream",
     "text": [
      "RCE: 5.9755353766602015\n",
      "AP: 0.18967488976612548\n",
      "Feature importance by 'gain':\n"
     ]
    },
    {
     "data": {
      "image/png": "[encoded data removed]",
      "text/plain": [
       "<Figure size 432x288 with 1 Axes>"
      ]
     },
     "metadata": {
      "needs_background": "light"
     },
     "output_type": "display_data"
    },
    {
     "name": "stdout",
     "output_type": "stream",
     "text": [
      "\n",
      "\n",
      "\n",
      "quote_timestamp model\n",
      "=============================================\n",
      "Mean of the predictions: 0.005553009378848819\n",
      "Std of the predictions: 0.0021906159992100007\n",
      "Histogram of the predictions:\n"
     ]
    },
    {
     "data": {
      "image/png": "[encoded data removed]",
      "text/plain": [
       "<Figure size 432x288 with 1 Axes>"
      ]
     },
     "metadata": {
      "needs_background": "light"
     },
     "output_type": "display_data"
    },
    {
     "name": "stdout",
     "output_type": "stream",
     "text": [
      "RCE: 1.1683485125522641\n",
      "AP: 0.008519285465361803\n",
      "Feature importance by 'gain':\n"
     ]
    },
    {
     "data": {
      "image/png": "[encoded data removed]",
      "text/plain": [
       "<Figure size 432x288 with 1 Axes>"
      ]
     },
     "metadata": {
      "needs_background": "light"
     },
     "output_type": "display_data"
    },
    {
     "name": "stdout",
     "output_type": "stream",
     "text": [
      "\n",
      "\n",
      "\n",
      "like_timestamp model\n",
      "=============================================\n",
      "Mean of the predictions: 0.4043237599932002\n",
      "Std of the predictions: 0.1476811581510651\n",
      "Histogram of the predictions:\n"
     ]
    },
    {
     "data": {
      "image/png": "[encoded data removed]",
      "text/plain": [
       "<Figure size 432x288 with 1 Axes>"
      ]
     },
     "metadata": {
      "needs_background": "light"
     },
     "output_type": "display_data"
    },
    {
     "name": "stdout",
     "output_type": "stream",
     "text": [
      "RCE: 7.277164912145628\n",
      "AP: 0.5572406577554099\n",
      "Feature importance by 'gain':\n"
     ]
    },
    {
     "data": {
      "image/png": "[encoded data removed]",
      "text/plain": [
       "<Figure size 432x288 with 1 Axes>"
      ]
     },
     "metadata": {
      "needs_background": "light"
     },
     "output_type": "display_data"
    },
    {
     "name": "stdout",
     "output_type": "stream",
     "text": [
      "\n",
      "\n",
      "\n"
     ]
    }
   ],
   "source": [
    "# new data without TFIDF\n",
    "\n",
    "for target, model in zip(target_columns, models):\n",
    "    print(target, \"model\")\n",
    "    print(\"=\"*45)\n",
    "    evaluate_model(model, test, target, train_columns)\n",
    "    print(\"\\n\"*2)"
   ]
  },
  {
   "cell_type": "code",
   "execution_count": 30,
   "id": "damaged-farmer",
   "metadata": {
    "ExecuteTime": {
     "end_time": "2021-06-30T22:48:14.378220Z",
     "start_time": "2021-06-30T22:48:13.816834Z"
    }
   },
   "outputs": [
    {
     "data": {
      "image/png": "[encoded data removed]",
      "text/plain": [
       "<Figure size 1440x720 with 1 Axes>"
      ]
     },
     "metadata": {
      "needs_background": "light"
     },
     "output_type": "display_data"
    },
    {
     "data": {
      "text/plain": [
       "<Figure size 432x288 with 0 Axes>"
      ]
     },
     "metadata": {},
     "output_type": "display_data"
    }
   ],
   "source": [
    "import matplotlib.pyplot as plt\n",
    "import seaborn as sns\n",
    "import warnings\n",
    "warnings.simplefilter(action='ignore', category=FutureWarning)\n",
    "\n",
    "\n",
    "# sorted(zip(clf.feature_importances_, X.columns), reverse=True)\n",
    "feature_imp = pd.DataFrame(sorted(zip(models[0].feature_importance(),train_columns)), columns=['Value','Feature'])\n",
    "\n",
    "plt.figure(figsize=(20, 10))\n",
    "sns.barplot(x=\"Value\", y=\"Feature\", data=feature_imp.sort_values(by=\"Value\", ascending=False))\n",
    "plt.title('LightGBM Features reply_bool')\n",
    "plt.tight_layout()\n",
    "plt.show()\n",
    "plt.savefig('lgbm_importances-01.png')"
   ]
  },
  {
   "cell_type": "markdown",
   "id": "thermal-compromise",
   "metadata": {},
   "source": [
    "## Feature importance"
   ]
  },
  {
   "cell_type": "code",
   "execution_count": 31,
   "id": "pointed-azerbaijan",
   "metadata": {
    "ExecuteTime": {
     "end_time": "2021-06-30T23:13:52.261891Z",
     "start_time": "2021-06-30T23:13:51.313928Z"
    }
   },
   "outputs": [
    {
     "data": {
      "image/png": "[encoded data removed]",
      "text/plain": [
       "<Figure size 1440x720 with 1 Axes>"
      ]
     },
     "metadata": {
      "needs_background": "light"
     },
     "output_type": "display_data"
    },
    {
     "data": {
      "text/plain": [
       "<Figure size 432x288 with 0 Axes>"
      ]
     },
     "metadata": {},
     "output_type": "display_data"
    }
   ],
   "source": [
    "import matplotlib.pyplot as plt\n",
    "import seaborn as sns\n",
    "import warnings\n",
    "warnings.simplefilter(action='ignore', category=FutureWarning)\n",
    "\n",
    "\n",
    "# sorted(zip(clf.feature_importances_, X.columns), reverse=True)\n",
    "feature_imp = pd.DataFrame(sorted(zip(models[1].feature_importance(),train_columns)), columns=['Value','Feature'])\n",
    "\n",
    "plt.figure(figsize=(20, 10))\n",
    "sns.barplot(x=\"Value\", y=\"Feature\", data=feature_imp.sort_values(by=\"Value\", ascending=False))\n",
    "plt.title('LightGBM Features retweet_bool')\n",
    "plt.tight_layout()\n",
    "plt.show()\n",
    "plt.savefig('lgbm_importances-01.png')"
   ]
  },
  {
   "cell_type": "code",
   "execution_count": 32,
   "id": "stuffed-means",
   "metadata": {
    "ExecuteTime": {
     "end_time": "2021-06-30T23:38:20.791854Z",
     "start_time": "2021-06-30T23:38:19.993449Z"
    }
   },
   "outputs": [
    {
     "data": {
      "image/png": "[encoded data removed]",
      "text/plain": [
       "<Figure size 1440x720 with 1 Axes>"
      ]
     },
     "metadata": {
      "needs_background": "light"
     },
     "output_type": "display_data"
    },
    {
     "data": {
      "text/plain": [
       "<Figure size 432x288 with 0 Axes>"
      ]
     },
     "metadata": {},
     "output_type": "display_data"
    }
   ],
   "source": [
    "import matplotlib.pyplot as plt\n",
    "import seaborn as sns\n",
    "import warnings\n",
    "warnings.simplefilter(action='ignore', category=FutureWarning)\n",
    "\n",
    "\n",
    "# sorted(zip(clf.feature_importances_, X.columns), reverse=True)\n",
    "feature_imp = pd.DataFrame(sorted(zip(models[2].feature_importance(),train_columns)), columns=['Value','Feature'])\n",
    "\n",
    "plt.figure(figsize=(20, 10))\n",
    "sns.barplot(x=\"Value\", y=\"Feature\", data=feature_imp.sort_values(by=\"Value\", ascending=False))\n",
    "plt.title('LightGBM Features like_bool')\n",
    "plt.tight_layout()\n",
    "plt.show()\n",
    "plt.savefig('lgbm_importances-01.png')"
   ]
  },
  {
   "cell_type": "code",
   "execution_count": 33,
   "id": "inside-puppy",
   "metadata": {
    "ExecuteTime": {
     "end_time": "2021-07-01T00:05:38.865564Z",
     "start_time": "2021-07-01T00:05:37.950471Z"
    }
   },
   "outputs": [
    {
     "data": {
      "image/png": "[encoded data removed]",
      "text/plain": [
       "<Figure size 1440x720 with 1 Axes>"
      ]
     },
     "metadata": {
      "needs_background": "light"
     },
     "output_type": "display_data"
    },
    {
     "data": {
      "text/plain": [
       "<Figure size 432x288 with 0 Axes>"
      ]
     },
     "metadata": {},
     "output_type": "display_data"
    }
   ],
   "source": [
    "import matplotlib.pyplot as plt\n",
    "import seaborn as sns\n",
    "import warnings\n",
    "warnings.simplefilter(action='ignore', category=FutureWarning)\n",
    "\n",
    "\n",
    "# sorted(zip(clf.feature_importances_, X.columns), reverse=True)\n",
    "feature_imp = pd.DataFrame(sorted(zip(models[3].feature_importance(),train_columns)), columns=['Value','Feature'])\n",
    "\n",
    "plt.figure(figsize=(20, 10))\n",
    "sns.barplot(x=\"Value\", y=\"Feature\", data=feature_imp.sort_values(by=\"Value\", ascending=False))\n",
    "plt.title('LightGBM Features quote_bool')\n",
    "plt.tight_layout()\n",
    "plt.show()\n",
    "plt.savefig('lgbm_importances-01.png')"
   ]
  },
  {
   "cell_type": "markdown",
   "id": "anonymous-rally",
   "metadata": {},
   "source": [
    "# Save trained models"
   ]
  },
  {
   "cell_type": "code",
   "execution_count": 34,
   "id": "ruled-envelope",
   "metadata": {
    "ExecuteTime": {
     "end_time": "2021-06-16T09:14:21.737797Z",
     "start_time": "2021-06-16T09:14:21.498799Z"
    }
   },
   "outputs": [],
   "source": [
    "for target, model in zip(target_columns, models):\n",
    "    save_model(model, \"Text_Model_\"+target.split('_')[0]+\".mod\")"
   ]
  },
  {
   "cell_type": "markdown",
   "id": "critical-spectrum",
   "metadata": {},
   "source": [
    "---"
   ]
  }
 ],
 "metadata": {
  "hide_input": false,
  "kernelspec": {
   "display_name": "Python 3",
   "language": "python",
   "name": "python3"
  },
  "language_info": {
   "codemirror_mode": {
    "name": "ipython",
    "version": 3
   },
   "file_extension": ".py",
   "mimetype": "text/x-python",
   "name": "python",
   "nbconvert_exporter": "python",
   "pygments_lexer": "ipython3",
   "version": "3.8.5"
  },
  "latex_envs": {
   "LaTeX_envs_menu_present": true,
   "autoclose": false,
   "autocomplete": true,
   "bibliofile": "biblio.bib",
   "cite_by": "apalike",
   "current_citInitial": 1,
   "eqLabelWithNumbers": true,
   "eqNumInitial": 1,
   "hotkeys": {
    "equation": "Ctrl-E",
    "itemize": "Ctrl-I"
   },
   "labels_anchors": false,
   "latex_user_defs": false,
   "report_style_numbering": false,
   "user_envs_cfg": false
  },
  "toc": {
   "base_numbering": 1,
   "nav_menu": {},
   "number_sections": true,
   "sideBar": true,
   "skip_h1_title": false,
   "title_cell": "Table of Contents",
   "title_sidebar": "Contents",
   "toc_cell": false,
   "toc_position": {
    "height": "calc(100% - 180px)",
    "left": "10px",
    "top": "150px",
    "width": "265.469px"
   },
   "toc_section_display": true,
   "toc_window_display": true
  },
  "varInspector": {
   "cols": {
    "lenName": 16,
    "lenType": 16,
    "lenVar": 40
   },
   "kernels_config": {
    "python": {
     "delete_cmd_postfix": "",
     "delete_cmd_prefix": "del ",
     "library": "var_list.py",
     "varRefreshCmd": "print(var_dic_list())"
    },
    "r": {
     "delete_cmd_postfix": ") ",
     "delete_cmd_prefix": "rm(",
     "library": "var_list.r",
     "varRefreshCmd": "cat(var_dic_list()) "
    }
   },
   "oldHeight": 1116.961364,
   "position": {
    "height": "40px",
    "left": "1621.96px",
    "right": "20px",
    "top": "51.9261px",
    "width": "655.938px"
   },
   "types_to_exclude": [
    "module",
    "function",
    "builtin_function_or_method",
    "instance",
    "_Feature"
   ],
   "varInspector_section_display": "none",
   "window_display": false
  }
 },
 "nbformat": 4,
 "nbformat_minor": 5
}

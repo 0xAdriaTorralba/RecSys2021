{
  "nbformat": 4,
  "nbformat_minor": 0,
  "metadata": {
    "colab": {
      "name": "Non_Text_Based_Model.ipynb",
      "provenance": [],
      "collapsed_sections": [],
      "machine_shape": "hm"
    },
    "kernelspec": {
      "name": "python3",
      "display_name": "Python 3"
    }
  },
  "cells": [
    {
      "cell_type": "markdown",
      "metadata": {
        "id": "oD8gR-IbCeJh"
      },
      "source": [
        "Disclaimer: the actual output corresponds to running a smaller version of the validation set, for a faster (and slightly worse) computation. "
      ]
    },
    {
      "cell_type": "code",
      "metadata": {
        "id": "tZRSiDYNQLSr",
        "colab": {
          "base_uri": "https://localhost:8080/"
        },
        "outputId": "25fa1e1b-4415-4932-9b1d-43cee7838804"
      },
      "source": [
        "# Aquest notebook té 25GB\n",
        "\n",
        "from google.colab import drive\n",
        "\n",
        "drive.mount('/content/gdrive')"
      ],
      "execution_count": 1,
      "outputs": [
        {
          "output_type": "stream",
          "text": [
            "Mounted at /content/gdrive\n"
          ],
          "name": "stdout"
        }
      ]
    },
    {
      "cell_type": "code",
      "metadata": {
        "id": "20cKCchLra58"
      },
      "source": [
        "# !python -m pip install dask[dataframe] --upgrade  # or python -m pip install"
      ],
      "execution_count": null,
      "outputs": []
    },
    {
      "cell_type": "code",
      "metadata": {
        "id": "Zg-bD2t98Asb",
        "colab": {
          "base_uri": "https://localhost:8080/"
        },
        "outputId": "743fbadf-85c3-42a3-fefe-c4d376a1019e"
      },
      "source": [
        "!pip uninstall lightgbm # reinstall lightgbm to obtain the latest version in colab\n",
        "!pip install lightgbm"
      ],
      "execution_count": 2,
      "outputs": [
        {
          "output_type": "stream",
          "text": [
            "Uninstalling lightgbm-2.2.3:\n",
            "  Would remove:\n",
            "    /usr/local/lib/python3.7/dist-packages/lightgbm-2.2.3.dist-info/*\n",
            "    /usr/local/lib/python3.7/dist-packages/lightgbm/*\n",
            "Proceed (y/n)? y\n",
            "  Successfully uninstalled lightgbm-2.2.3\n",
            "Collecting lightgbm\n",
            "\u001b[?25l  Downloading https://files.pythonhosted.org/packages/18/b2/fff8370f48549ce223f929fe8cab4ee6bf285a41f86037d91312b48ed95b/lightgbm-3.2.1-py3-none-manylinux1_x86_64.whl (2.0MB)\n",
            "\u001b[K     |████████████████████████████████| 2.0MB 13.1MB/s \n",
            "\u001b[?25hRequirement already satisfied: scipy in /usr/local/lib/python3.7/dist-packages (from lightgbm) (1.4.1)\n",
            "Requirement already satisfied: wheel in /usr/local/lib/python3.7/dist-packages (from lightgbm) (0.36.2)\n",
            "Requirement already satisfied: scikit-learn!=0.22.0 in /usr/local/lib/python3.7/dist-packages (from lightgbm) (0.22.2.post1)\n",
            "Requirement already satisfied: numpy in /usr/local/lib/python3.7/dist-packages (from lightgbm) (1.19.5)\n",
            "Requirement already satisfied: joblib>=0.11 in /usr/local/lib/python3.7/dist-packages (from scikit-learn!=0.22.0->lightgbm) (1.0.1)\n",
            "Installing collected packages: lightgbm\n",
            "Successfully installed lightgbm-3.2.1\n"
          ],
          "name": "stdout"
        }
      ]
    },
    {
      "cell_type": "markdown",
      "metadata": {
        "id": "uzczSqTivBuo"
      },
      "source": [
        "# Train"
      ]
    },
    {
      "cell_type": "markdown",
      "metadata": {
        "id": "8_NcRFHzvG4M"
      },
      "source": [
        "# Load data"
      ]
    },
    {
      "cell_type": "code",
      "metadata": {
        "id": "yCfP3xEoqLT2"
      },
      "source": [
        "import pandas as pd\n",
        "# import dask.array as da\n",
        "# import dask.dataframe as dd\n",
        "import os\n",
        "import numpy as np\n",
        "\n",
        "path = './gdrive/MyDrive/validation/'\n",
        "df =  pd.read_csv(path + 'part-00000', sep='\u0001', encoding='utf-8', header=None) \n",
        "all_features = ['bert', 'hashtags', 'tweet_id', 'media', 'links', 'domains', 'type',\n",
        "       'language', 'timestamp', 'EWUF_user_id', 'EWUF_follower_count',\n",
        "       'EWUF_following_count', 'EWUF_verified', 'EWUF_account_creation',\n",
        "       'EUF_user_id', 'EUF_follower_count', 'EUF_following_count',\n",
        "       'EUF_verified', 'EUF_account_creation', 'engagee_follows_engager',\n",
        "       'replay_timestamp', 'retweet_timestamp', 'quote_timestamp',\n",
        "       'like_timestamp']\n",
        "       \n",
        "df.columns = all_features"
      ],
      "execution_count": 3,
      "outputs": []
    },
    {
      "cell_type": "markdown",
      "metadata": {
        "id": "u3fionxjvKaV"
      },
      "source": [
        "### Split with repeating tweets "
      ]
    },
    {
      "cell_type": "code",
      "metadata": {
        "id": "9q0CAIx9YQSF"
      },
      "source": [
        "from sklearn.model_selection import train_test_split\n",
        "\n",
        "df_train, df_test = train_test_split(df, test_size=0.5, random_state = 17)"
      ],
      "execution_count": 4,
      "outputs": []
    },
    {
      "cell_type": "code",
      "metadata": {
        "id": "WeawaPZKvTyw"
      },
      "source": [
        "df_train = df_train.sample(frac=0.4, replace=True, random_state=1) # make smaller training set"
      ],
      "execution_count": 5,
      "outputs": []
    },
    {
      "cell_type": "markdown",
      "metadata": {
        "id": "Pl5vkeiWvXsr"
      },
      "source": [
        "### Liberate memory"
      ]
    },
    {
      "cell_type": "code",
      "metadata": {
        "id": "BwWVe4GV1rbm"
      },
      "source": [
        "del df_test; del df"
      ],
      "execution_count": 6,
      "outputs": []
    },
    {
      "cell_type": "markdown",
      "metadata": {
        "id": "670O3NhJ0jWz"
      },
      "source": [
        "# Transform"
      ]
    },
    {
      "cell_type": "markdown",
      "metadata": {
        "id": "y2IXmYv0vfDQ"
      },
      "source": [
        "### Transformation functions"
      ]
    },
    {
      "cell_type": "code",
      "metadata": {
        "id": "YCQRY8YwYomE"
      },
      "source": [
        "from datetime import datetime\n",
        "timestamp_columns = ['timestamp','EUF_account_creation', 'EWUF_account_creation','replay_timestamp','retweet_timestamp','quote_timestamp','like_timestamp']\n",
        "hoursCombinations = ['EUF_time_from_creation', 'EWUF_time_from_creation', 'diff_from_creation', 'weekday', 'hoursweekday']\n",
        "popular_hashtags_encoded = ['06B910C9B63253EC90A2CFEFDBCA16CE', '39C7D662C61AA442BA20D2A006EAA12E', '7E9AEB766F61E95966456D010AD862AF', '30B81B3A82D3B7BB28B0665B9BDB64B4',\n",
        "                              'C1B1B9901E33AA2663BE92BE667A022A', '5C7186255EA0910671FE63609A7740C3', 'EEDFB04300BC76ECE64AE7AB8DFF999C', 'D145847A7C57F6DE2E7C16CA981F29CA',\n",
        "                              '50D49D761DBC587AD19073D8A41BE4D0', '9004114120258A56A5F42E1B321E5D4D', '7A58C9993F3EDDEEE0193CF84AACB435',\n",
        "                              'C97F51206BB66832B1B76DE40C7936E2', '01A8672B101954842C0D6809ADE4C250', '620B9E3FE9B8231E8767F3731E1E74E1', '1A69D94DA6E8A5D1F79192D3FB80C775', \n",
        "                              '7683BBB548DE14CCB45ACA60F0AD9B83', '86101A70061DA4A3A216AE11F48BD5E1','C442A089DA33B1C7411F3CC6274F60E2', '580CF8A679C838C2C063A631744A7B22', '05BBC3A142403B01286F8A8ABDB2EEFF', '91C8A9A97AF0D1B666ABC447B808B812',\n",
        "                           '15ED32AEEAD0896AAE12BA7850052B94', '86F5C36DD25C658130A4F125005CE8EB', '95247C93BA4711381143E86AB039407E', '19875E4EA694E7A74B4025ECCF4E19CF',\n",
        "                           '9B597ACF49E09186820C359759D325FF', 'D9F46EFE32A7D46EACAD96E4D552054B', 'AC6785EF8C88D1509EF755EAAEA4C875', 'BBD612D7A4C2EB59B3334456AB2D70A3',\n",
        "                           '08C02CD16B3412A168D03171FA80C58E', 'C7DB5645FD9D5D8B81407F819CE78A06', '881264CF821C09C4F851A080C82CA83D']\n",
        "\n",
        "def transform_basic_features(df, timestamp_columns = timestamp_columns):\n",
        "  df[timestamp_columns] = df[timestamp_columns].apply(lambda x: pd.to_datetime(x,unit='s'))\n",
        "\n",
        "  df['EWUF_follow_ratio'] = (df['EWUF_following_count']/ df['EWUF_follower_count'].apply(lambda x : x+1e-6) )\n",
        "  df['cross_following_ratio'] = (df['EWUF_following_count']/ df['EUF_following_count'].apply(lambda x : x+1e-6) )\n",
        "\n",
        "  df['EUF_follow_ratio'] = (df['EUF_following_count']/ df['EUF_follower_count'].apply(lambda x : x+1e-6) )\n",
        "  df['cross_follower_ratio'] = (df['EWUF_follower_count']/ df['EUF_follower_count'].apply(lambda x : x+1e-6) )\n",
        "\n",
        "  df['EWUF_follow_ratio_bins'] = pd.qcut(df['EWUF_follow_ratio'], q=[0, 0.2, 0.4, 0.6, 0.80, 1], labels=False, precision=1)\n",
        "  df['EUF_follow_ratio_bins'] = pd.qcut(df['EUF_follow_ratio'], q=[0, 0.2, 0.4, 0.6, 0.80, 1], labels=False, precision=1)\n",
        "\n",
        "  df['EUF_verified'] = df['EUF_verified'].astype(int)\n",
        "  df['EWUF_verified'] = df['EUF_verified'].astype(int)\n",
        "  df['EUF_time_from_creation'] = df.EUF_account_creation.apply(lambda x: (datetime.now() - x).total_seconds()/60)\n",
        "  df['EWUF_time_from_creation'] =  df.EWUF_account_creation.apply(lambda x: (datetime.now() - x).total_seconds()/60)\n",
        "  df['diff_from_creation'] = (df.EUF_time_from_creation - df.EWUF_time_from_creation)\n",
        "  df['engagee_follows_engager'] = df['engagee_follows_engager'].astype(int)\n",
        "  df['ratioxratio'] = df['EWUF_follow_ratio']*df['EUF_follow_ratio']\n",
        "  df['relevance'] = df['EUF_verified'] & df['EWUF_verified']\n",
        "\n",
        "  df['replay_bool'] = df['replay_timestamp'].notna().astype(int)\n",
        "  df['retweet_bool'] = df['retweet_timestamp'].notna().astype(int)\n",
        "  df['quote_bool'] = df['quote_timestamp'].notna().astype(int)\n",
        "  df['like_bool'] = df['like_timestamp'].notna().astype(int)\n",
        "\n",
        "  df['hours'] = df.timestamp.dt.hour\n",
        "  df['weekday'] = df.timestamp.dt.weekday\n",
        "  df['hoursweekday'] = df['hours']/24 + df['weekday']/7\n",
        "  df['numHashtags'] = df.hashtags.apply(lambda x: len(str(x).split('\\t')) if pd.isna(x) == False else 0)\n",
        "  df['numLinks'] = df.links.apply(lambda x: len(str(x).split('\\t')) if pd.isna(x) == False else 0)\n",
        "  df['numDomains'] = df.domains.apply(lambda x: len(str(x).split('\\t')) if pd.isna(x) == False else 0)\n",
        "  df['numMedia'] = df.media.apply(lambda x: len(str(x).split('\\t')) if pd.isna(x) == False else 0)\n",
        "  df['numVideo'] = df.media.apply(lambda x: x.count('Video') if pd.isna(x) == False else 0).sum()\n",
        "  df['numPhoto'] = df.media.apply(lambda x: x.count('Photo') if pd.isna(x) == False else 0).sum()\n",
        "  df['numGIF'] = df.media.apply(lambda x: x.count('GIF') if pd.isna(x) == False else 0).sum()\n",
        "  return df\n",
        "\n",
        "def transform_OHE(df, n = 40):\n",
        "  # dummies of media\n",
        "  df['Video'] = df.media.str.contains('Video', na=False).map({\n",
        "      True: 1,\n",
        "      False: 0\n",
        "  })\n",
        "  df['Photo'] = df.media.str.contains('Photo', na=False).map({\n",
        "      True: 1,\n",
        "      False: 0\n",
        "  })\n",
        "  df['GIF'] = df.media.str.contains('GIF', na=False).map({True: 1, False: 0})\n",
        "\n",
        "  # dummies of type\n",
        "  dummies = pd.get_dummies(df.type)\n",
        "  df = pd.concat([df, dummies], axis=1)\n",
        "\n",
        "  df['hours'] = df.timestamp.dt.hour\n",
        "  df['weekday'] = df.timestamp.dt.weekday\n",
        "  df['hoursweekday'] = df['hours']/24 + df['weekday']/7\n",
        "\n",
        "  topHashtags = df['hashtags'].value_counts()[:n].index.tolist()\n",
        "  pattern = '|'.join(list(topHashtags))\n",
        "  df['topHashtags'] = df.hashtags.str.contains(pattern).replace({pd.NA : False}).astype(int)\n",
        "\n",
        "  topDomains = df['domains'].value_counts()[:n].index.tolist()\n",
        "  pattern = '|'.join(list(topDomains))\n",
        "  df['topDomains'] = df.domains.str.contains(pattern).replace({pd.NA : False}).astype(int)\n",
        "\n",
        "  topLinks = df['links'].value_counts()[:n].index.tolist()\n",
        "  pattern = '|'.join(list(topLinks))\n",
        "  df['topLinks'] = df.links.str.contains(pattern).replace({pd.NA : False}).astype(int)\n",
        "  return df\n",
        "\n",
        "def transform_popular_hashtags(df, popular_hashtags_encoded = popular_hashtags_encoded):\n",
        "  pattern = '|'.join(list(popular_hashtags_encoded))\n",
        "  df['topHashtagsInternet'] = df.hashtags.str.contains(pattern).replace({pd.NA : False}).astype(int)\n",
        "\n",
        "  for kw in popular_hashtags_encoded:\n",
        "      df[kw] = df.hashtags.str.contains(kw, na=False).map({True: 1, False: 0})\n",
        "  return df"
      ],
      "execution_count": 7,
      "outputs": []
    },
    {
      "cell_type": "markdown",
      "metadata": {
        "id": "bPjxyrBPvkl9"
      },
      "source": [
        "### Apply transform"
      ]
    },
    {
      "cell_type": "code",
      "metadata": {
        "id": "xBQs6_L-Zalm",
        "colab": {
          "base_uri": "https://localhost:8080/"
        },
        "outputId": "71eac9c2-d640-4321-b83b-347a738f563d"
      },
      "source": [
        "%%time\n",
        "df_train = transform_basic_features(df_train, timestamp_columns = timestamp_columns)\n",
        "df_train = transform_OHE(df_train, n = 40)\n",
        "df_train = transform_popular_hashtags(df_train, popular_hashtags_encoded = popular_hashtags_encoded)"
      ],
      "execution_count": 8,
      "outputs": [
        {
          "output_type": "stream",
          "text": [
            "CPU times: user 3min 3s, sys: 2.12 s, total: 3min 5s\n",
            "Wall time: 3min 4s\n"
          ],
          "name": "stdout"
        }
      ]
    },
    {
      "cell_type": "markdown",
      "metadata": {
        "id": "P2FNvV_t0nbv"
      },
      "source": [
        "# Split Train/Val"
      ]
    },
    {
      "cell_type": "code",
      "metadata": {
        "id": "nkDmPzK8tyFo",
        "colab": {
          "base_uri": "https://localhost:8080/",
          "height": 281
        },
        "outputId": "f8c5d030-6780-4d06-d212-bd1ff40720f6"
      },
      "source": [
        "df_train.timestamp.hist()"
      ],
      "execution_count": 9,
      "outputs": [
        {
          "output_type": "execute_result",
          "data": {
            "text/plain": [
              "<matplotlib.axes._subplots.AxesSubplot at 0x7fe664c1e6d0>"
            ]
          },
          "metadata": {
            "tags": []
          },
          "execution_count": 9
        },
        {
          "output_type": "display_data",
          "data": {
            "image/png": "[encoded data removed]",
            "text/plain": [
              "<Figure size 432x288 with 1 Axes>"
            ]
          },
          "metadata": {
            "tags": [],
            "needs_background": "light"
          }
        }
      ]
    },
    {
      "cell_type": "code",
      "metadata": {
        "id": "lTWliVnsaRES"
      },
      "source": [
        "df_val = df_train[df_train['timestamp'] > '2021-03-03 00:00:00']\n",
        "df_train = df_train[df_train['timestamp'] <= '2021-03-03 00:00:00']"
      ],
      "execution_count": 10,
      "outputs": []
    },
    {
      "cell_type": "markdown",
      "metadata": {
        "id": "wvbns0Xk01Hj"
      },
      "source": [
        "# Train the model"
      ]
    },
    {
      "cell_type": "markdown",
      "metadata": {
        "id": "1WWOMNMrxtsR"
      },
      "source": [
        "### Functions for RCE/AP"
      ]
    },
    {
      "cell_type": "code",
      "metadata": {
        "id": "HSqwvfKYwDIX"
      },
      "source": [
        "from sklearn.metrics import average_precision_score, log_loss\n",
        "\n",
        "def calculate_ctr(gt):\n",
        "    positive = len([x for x in gt if x == 1])\n",
        "    ctr = positive/float(len(gt))\n",
        "    return ctr\n",
        "\n",
        "def compute_rce(pred, gt):\n",
        "    cross_entropy = log_loss(gt, pred)\n",
        "    data_ctr = calculate_ctr(gt)\n",
        "    strawman_cross_entropy = log_loss(gt, [data_ctr for _ in range(len(gt))])\n",
        "    return (1.0 - cross_entropy/strawman_cross_entropy)*100.0\n",
        "\n",
        "def compute_ap_lgb(pred, g):\n",
        "    gt = np.array(g.get_label())\n",
        "    pred = np.array(pred)\n",
        "    ap = average_precision_score(gt, pred)\n",
        "    return 'ap', ap, True\n",
        "\n",
        "def compute_rce_lgb(pred, g):\n",
        "    gt = np.array(g.get_label())\n",
        "    pred = np.array(pred)\n",
        "    rce = compute_rce(pred, gt)\n",
        "    return 'rce',rce,True"
      ],
      "execution_count": 11,
      "outputs": []
    },
    {
      "cell_type": "markdown",
      "metadata": {
        "id": "zdpklQddxyJI"
      },
      "source": [
        "### Actual training"
      ]
    },
    {
      "cell_type": "code",
      "metadata": {
        "id": "vWquBltcwGK4",
        "colab": {
          "base_uri": "https://localhost:8080/"
        },
        "outputId": "1586549b-efff-4ffb-96dc-d6c7bea3c130"
      },
      "source": [
        "import lightgbm as lgb\n",
        "from sklearn.model_selection import train_test_split\n",
        "from sklearn.metrics import roc_auc_score\n",
        "import pickle\n",
        "\n",
        "selected_features = ['EWUF_verified', 'EUF_verified', 'engagee_follows_engager', 'ratioxratio', 'hours', 'EWUF_follow_ratio', 'EUF_follow_ratio', \n",
        "                     'topHashtags', 'EWUF_follow_ratio_bins', 'EUF_follow_ratio_bins', 'cross_following_ratio', 'cross_follower_ratio',\n",
        "                     'topHashtagsInternet', 'numHashtags', 'topDomains', 'numDomains', 'numVideo', 'numPhoto', 'numGIF', \n",
        "                     'topLinks', 'numLinks', 'Retweet', 'Quote', 'TopLevel', 'Photo', 'Video', 'GIF', \n",
        "                     'numMedia'] + hoursCombinations + popular_hashtags_encoded \n",
        "\n",
        "targets = ['replay_bool','retweet_bool','quote_bool','like_bool']\n",
        "\n",
        "for target in targets:\n",
        "  X_train = df_train[selected_features]; X_test = df_val[selected_features]\n",
        "  y_train = df_train[target]; y_test = df_val[target] \n",
        "  train_data = lgb.Dataset(X_train, label=y_train)\n",
        "  test_data = lgb.Dataset(X_test, label=y_test)\n",
        "  rand_idx = np.random.permutation(len(X_train))[:150000]\n",
        "  train_sampled_data = lgb.Dataset(X_train.iloc[rand_idx], y_train.iloc[rand_idx])\n",
        "\n",
        "  param2 = {'max_depth':10, \n",
        "            'num_leaves':10,         \n",
        "            'lambda_l1':10,\n",
        "            'lambda_l2':10,\n",
        "            'learning_rate': 0.5,\n",
        "            'feature_fraction': 0.8, \n",
        "            'bagging_freq':10,        # Always perform bagging\n",
        "            'bagging_fraction':0.8, # % of rows selected in each tree\n",
        "            'objective':'cross_entropy',\n",
        "      #          'eval_metric':'aucpr',\n",
        "          'metric': 'None'   # For the null metric use 'None' instead of None:\n",
        "                                  #  None  -> ob\n",
        "          }\n",
        "      \n",
        "  # mirar com usar nomes la primera metrica en early stopping\n",
        "\n",
        "  callbacks=[\n",
        "    # First metric only to use only RCE for early stopping\n",
        "    # since it is the one with higher impact\n",
        "    lgb.early_stopping(50, first_metric_only=True)\n",
        "  ]\n",
        "\n",
        "  model_wd = lgb.train(param2,\n",
        "                      train_data,\n",
        "                      callbacks=callbacks,\n",
        "                      valid_sets=[train_sampled_data, test_data],\n",
        "                      num_boost_round=5000,\n",
        "                      feval=[compute_rce_lgb, compute_ap_lgb],\n",
        "                      verbose_eval=50) # quan estigui amb moltes dades treure el prauc\n",
        "\n",
        "  filename = 'Non_Text_' + target + '_Model.sav'\n",
        "  pickle.dump(model_wd, open(path + '/final/' + filename, 'wb'))"
      ],
      "execution_count": 12,
      "outputs": [
        {
          "output_type": "stream",
          "text": [
            "[LightGBM] [Info] [cross_entropy:Init]: (objective) labels passed interval [0, 1] check\n",
            "[LightGBM] [Warning] Auto-choosing row-wise multi-threading, the overhead of testing was 0.395463 seconds.\n",
            "You can set `force_row_wise=true` to remove the overhead.\n",
            "And if memory is not enough, you can set `force_col_wise=true`.\n",
            "[LightGBM] [Info] Total Bins 2334\n",
            "[LightGBM] [Info] Number of data points in the train set: 2482135, number of used features: 49\n",
            "[LightGBM] [Info] [cross_entropy:BoostFromScore]: pavg = 0.021206 -> initscore = -3.832021\n",
            "[LightGBM] [Info] Start training from score -3.832021\n",
            "Training until validation scores don't improve for 50 rounds\n",
            "[50]\tvalid_0's rce: 9.73185\tvalid_0's ap: 0.0700282\tvalid_1's rce: 10.3413\tvalid_1's ap: 0.0684475\n",
            "[100]\tvalid_0's rce: 10.1587\tvalid_0's ap: 0.0729126\tvalid_1's rce: 10.306\tvalid_1's ap: 0.0682241\n",
            "Early stopping, best iteration is:\n",
            "[79]\tvalid_0's rce: 10.003\tvalid_0's ap: 0.0717086\tvalid_1's rce: 10.3751\tvalid_1's ap: 0.0684651\n",
            "Evaluated only: rce\n",
            "[LightGBM] [Info] [cross_entropy:Init]: (objective) labels passed interval [0, 1] check\n",
            "[LightGBM] [Warning] Auto-choosing row-wise multi-threading, the overhead of testing was 0.355248 seconds.\n",
            "You can set `force_row_wise=true` to remove the overhead.\n",
            "And if memory is not enough, you can set `force_col_wise=true`.\n",
            "[LightGBM] [Info] Total Bins 2334\n",
            "[LightGBM] [Info] Number of data points in the train set: 2482135, number of used features: 49\n",
            "[LightGBM] [Info] [cross_entropy:BoostFromScore]: pavg = 0.081528 -> initscore = -2.421762\n",
            "[LightGBM] [Info] Start training from score -2.421762\n",
            "Training until validation scores don't improve for 50 rounds\n",
            "[50]\tvalid_0's rce: 4.55119\tvalid_0's ap: 0.151093\tvalid_1's rce: 3.9708\tvalid_1's ap: 0.130103\n",
            "[100]\tvalid_0's rce: 5.06433\tvalid_0's ap: 0.159257\tvalid_1's rce: 4.23046\tvalid_1's ap: 0.133264\n",
            "[150]\tvalid_0's rce: 5.38047\tvalid_0's ap: 0.164351\tvalid_1's rce: 4.27902\tvalid_1's ap: 0.134421\n",
            "[200]\tvalid_0's rce: 5.63748\tvalid_0's ap: 0.167778\tvalid_1's rce: 4.33707\tvalid_1's ap: 0.135128\n",
            "[250]\tvalid_0's rce: 5.84175\tvalid_0's ap: 0.170904\tvalid_1's rce: 4.34027\tvalid_1's ap: 0.135284\n",
            "Early stopping, best iteration is:\n",
            "[236]\tvalid_0's rce: 5.78031\tvalid_0's ap: 0.169943\tvalid_1's rce: 4.34827\tvalid_1's ap: 0.135288\n",
            "Evaluated only: rce\n",
            "[LightGBM] [Info] [cross_entropy:Init]: (objective) labels passed interval [0, 1] check\n",
            "[LightGBM] [Warning] Auto-choosing row-wise multi-threading, the overhead of testing was 0.372311 seconds.\n",
            "You can set `force_row_wise=true` to remove the overhead.\n",
            "And if memory is not enough, you can set `force_col_wise=true`.\n",
            "[LightGBM] [Info] Total Bins 2334\n",
            "[LightGBM] [Info] Number of data points in the train set: 2482135, number of used features: 49\n",
            "[LightGBM] [Info] [cross_entropy:BoostFromScore]: pavg = 0.005600 -> initscore = -5.179297\n",
            "[LightGBM] [Info] Start training from score -5.179297\n",
            "Training until validation scores don't improve for 50 rounds\n",
            "[50]\tvalid_0's rce: 4.92436\tvalid_0's ap: 0.0195377\tvalid_1's rce: 2.57774\tvalid_1's ap: 0.0112983\n",
            "Early stopping, best iteration is:\n",
            "[44]\tvalid_0's rce: 4.81069\tvalid_0's ap: 0.018848\tvalid_1's rce: 2.61398\tvalid_1's ap: 0.0112966\n",
            "Evaluated only: rce\n",
            "[LightGBM] [Info] [cross_entropy:Init]: (objective) labels passed interval [0, 1] check\n",
            "[LightGBM] [Warning] Auto-choosing col-wise multi-threading, the overhead of testing was 0.565536 seconds.\n",
            "You can set `force_col_wise=true` to remove the overhead.\n",
            "[LightGBM] [Info] Total Bins 2334\n",
            "[LightGBM] [Info] Number of data points in the train set: 2482135, number of used features: 49\n",
            "[LightGBM] [Info] [cross_entropy:BoostFromScore]: pavg = 0.404227 -> initscore = -0.387881\n",
            "[LightGBM] [Info] Start training from score -0.387881\n",
            "Training until validation scores don't improve for 50 rounds\n",
            "[50]\tvalid_0's rce: 9.40648\tvalid_0's ap: 0.584764\tvalid_1's rce: 8.53736\tvalid_1's ap: 0.546618\n",
            "[100]\tvalid_0's rce: 9.68456\tvalid_0's ap: 0.589178\tvalid_1's rce: 8.76358\tvalid_1's ap: 0.549765\n",
            "[150]\tvalid_0's rce: 9.85094\tvalid_0's ap: 0.59151\tvalid_1's rce: 8.85253\tvalid_1's ap: 0.551618\n",
            "[200]\tvalid_0's rce: 9.97871\tvalid_0's ap: 0.59381\tvalid_1's rce: 8.88526\tvalid_1's ap: 0.552418\n",
            "[250]\tvalid_0's rce: 10.0885\tvalid_0's ap: 0.59564\tvalid_1's rce: 8.90461\tvalid_1's ap: 0.552815\n",
            "[300]\tvalid_0's rce: 10.2176\tvalid_0's ap: 0.59773\tvalid_1's rce: 8.94398\tvalid_1's ap: 0.553798\n",
            "[350]\tvalid_0's rce: 10.3308\tvalid_0's ap: 0.599734\tvalid_1's rce: 8.94435\tvalid_1's ap: 0.553447\n",
            "[400]\tvalid_0's rce: 10.4358\tvalid_0's ap: 0.601468\tvalid_1's rce: 8.95275\tvalid_1's ap: 0.553885\n",
            "[450]\tvalid_0's rce: 10.5359\tvalid_0's ap: 0.603305\tvalid_1's rce: 8.97774\tvalid_1's ap: 0.554904\n",
            "Early stopping, best iteration is:\n",
            "[437]\tvalid_0's rce: 10.513\tvalid_0's ap: 0.60291\tvalid_1's rce: 8.98661\tvalid_1's ap: 0.554833\n",
            "Evaluated only: rce\n"
          ],
          "name": "stdout"
        }
      ]
    },
    {
      "cell_type": "markdown",
      "metadata": {
        "id": "jTTMXcnsyfCQ"
      },
      "source": [
        "### Gain feature importance"
      ]
    },
    {
      "cell_type": "code",
      "metadata": {
        "colab": {
          "base_uri": "https://localhost:8080/",
          "height": 311
        },
        "id": "apG1-LD6Y4So",
        "outputId": "6be8ad16-4981-4c01-d617-87f725142c62"
      },
      "source": [
        "lgb.plot_importance(model_wd, importance_type='gain', max_num_features= 20)"
      ],
      "execution_count": 13,
      "outputs": [
        {
          "output_type": "execute_result",
          "data": {
            "text/plain": [
              "<matplotlib.axes._subplots.AxesSubplot at 0x7fe6a21f9550>"
            ]
          },
          "metadata": {
            "tags": []
          },
          "execution_count": 13
        },
        {
          "output_type": "display_data",
          "data": {
            "image/png": "[encoded data removed]",
            "text/plain": [
              "<Figure size 432x288 with 1 Axes>"
            ]
          },
          "metadata": {
            "tags": [],
            "needs_background": "light"
          }
        }
      ]
    },
    {
      "cell_type": "markdown",
      "metadata": {
        "id": "j8PzxLEs055y"
      },
      "source": [
        "# Test"
      ]
    },
    {
      "cell_type": "markdown",
      "metadata": {
        "id": "DSjzIQOOzSw8"
      },
      "source": [
        "# Load data"
      ]
    },
    {
      "cell_type": "code",
      "metadata": {
        "id": "D7c0_kC4zcEy"
      },
      "source": [
        "import pandas as pd\n",
        "# import dask.array as da\n",
        "# import dask.dataframe as dd\n",
        "import os\n",
        "import numpy as np\n",
        "\n",
        "\n",
        "path = './gdrive/MyDrive/validation/'\n",
        "df =  pd.read_csv(path + 'part-00000', sep='\u0001', encoding='utf-8', header=None) \n",
        "all_features = ['bert', 'hashtags', 'tweet_id', 'media', 'links', 'domains', 'type',\n",
        "       'language', 'timestamp', 'EWUF_user_id', 'EWUF_follower_count',\n",
        "       'EWUF_following_count', 'EWUF_verified', 'EWUF_account_creation',\n",
        "       'EUF_user_id', 'EUF_follower_count', 'EUF_following_count',\n",
        "       'EUF_verified', 'EUF_account_creation', 'engagee_follows_engager',\n",
        "       'replay_timestamp', 'retweet_timestamp', 'quote_timestamp',\n",
        "       'like_timestamp']\n",
        "       \n",
        "df.columns = all_features"
      ],
      "execution_count": 1,
      "outputs": []
    },
    {
      "cell_type": "markdown",
      "metadata": {
        "id": "JEx6vK5nzi7L"
      },
      "source": [
        "### Split with repeating tweets"
      ]
    },
    {
      "cell_type": "code",
      "metadata": {
        "id": "QGhFj9yezkZb"
      },
      "source": [
        "from sklearn.model_selection import train_test_split\n",
        "\n",
        "df_train, df_test = train_test_split( df, test_size=0.5, random_state=17)"
      ],
      "execution_count": 2,
      "outputs": []
    },
    {
      "cell_type": "code",
      "metadata": {
        "id": "1PXsC5uEzkMA"
      },
      "source": [
        "df_test = df_test.sample(frac=0.5, replace=True, random_state=1) # make smaller test set"
      ],
      "execution_count": 3,
      "outputs": []
    },
    {
      "cell_type": "markdown",
      "metadata": {
        "id": "r8ZGDFfGzrmJ"
      },
      "source": [
        "### Liberate memory"
      ]
    },
    {
      "cell_type": "code",
      "metadata": {
        "id": "anHitIiX-0uD"
      },
      "source": [
        "del df_train, df"
      ],
      "execution_count": 4,
      "outputs": []
    },
    {
      "cell_type": "markdown",
      "metadata": {
        "id": "fbNO8nLezxhZ"
      },
      "source": [
        "# Transformation"
      ]
    },
    {
      "cell_type": "markdown",
      "metadata": {
        "id": "2K_jyYqlz0TG"
      },
      "source": [
        "### Run transformation functions"
      ]
    },
    {
      "cell_type": "code",
      "metadata": {
        "id": "tjPNmz3cz5BA"
      },
      "source": [
        "from datetime import datetime\n",
        "timestamp_columns = ['timestamp','EUF_account_creation', 'EWUF_account_creation','replay_timestamp','retweet_timestamp','quote_timestamp','like_timestamp']\n",
        "hoursCombinations = ['EUF_time_from_creation', 'EWUF_time_from_creation', 'diff_from_creation', 'weekday', 'hoursweekday']\n",
        "popular_hashtags_encoded = ['06B910C9B63253EC90A2CFEFDBCA16CE', '39C7D662C61AA442BA20D2A006EAA12E', '7E9AEB766F61E95966456D010AD862AF', '30B81B3A82D3B7BB28B0665B9BDB64B4',\n",
        "                              'C1B1B9901E33AA2663BE92BE667A022A', '5C7186255EA0910671FE63609A7740C3', 'EEDFB04300BC76ECE64AE7AB8DFF999C', 'D145847A7C57F6DE2E7C16CA981F29CA',\n",
        "                              '50D49D761DBC587AD19073D8A41BE4D0', '9004114120258A56A5F42E1B321E5D4D', '7A58C9993F3EDDEEE0193CF84AACB435',\n",
        "                              'C97F51206BB66832B1B76DE40C7936E2', '01A8672B101954842C0D6809ADE4C250', '620B9E3FE9B8231E8767F3731E1E74E1', '1A69D94DA6E8A5D1F79192D3FB80C775', \n",
        "                              '7683BBB548DE14CCB45ACA60F0AD9B83', '86101A70061DA4A3A216AE11F48BD5E1','C442A089DA33B1C7411F3CC6274F60E2', '580CF8A679C838C2C063A631744A7B22', '05BBC3A142403B01286F8A8ABDB2EEFF', '91C8A9A97AF0D1B666ABC447B808B812',\n",
        "                           '15ED32AEEAD0896AAE12BA7850052B94', '86F5C36DD25C658130A4F125005CE8EB', '95247C93BA4711381143E86AB039407E', '19875E4EA694E7A74B4025ECCF4E19CF',\n",
        "                           '9B597ACF49E09186820C359759D325FF', 'D9F46EFE32A7D46EACAD96E4D552054B', 'AC6785EF8C88D1509EF755EAAEA4C875', 'BBD612D7A4C2EB59B3334456AB2D70A3',\n",
        "                           '08C02CD16B3412A168D03171FA80C58E', 'C7DB5645FD9D5D8B81407F819CE78A06', '881264CF821C09C4F851A080C82CA83D']\n",
        "\n",
        "def transform_basic_features(df, timestamp_columns = timestamp_columns):\n",
        "  df[timestamp_columns] = df[timestamp_columns].apply(lambda x: pd.to_datetime(x,unit='s'))\n",
        "\n",
        "  df['EWUF_follow_ratio'] = (df['EWUF_following_count']/ df['EWUF_follower_count'].apply(lambda x : x+1e-6) )\n",
        "  df['cross_following_ratio'] = (df['EWUF_following_count']/ df['EUF_following_count'].apply(lambda x : x+1e-6) )\n",
        "\n",
        "  df['EUF_follow_ratio'] = (df['EUF_following_count']/ df['EUF_follower_count'].apply(lambda x : x+1e-6) )\n",
        "  df['cross_follower_ratio'] = (df['EWUF_follower_count']/ df['EUF_follower_count'].apply(lambda x : x+1e-6) )\n",
        "\n",
        "  df['EWUF_follow_ratio_bins'] = pd.qcut(df['EWUF_follow_ratio'], q=[0, 0.2, 0.4, 0.6, 0.80, 1], labels=False, precision=1)\n",
        "  df['EUF_follow_ratio_bins'] = pd.qcut(df['EUF_follow_ratio'], q=[0, 0.2, 0.4, 0.6, 0.80, 1], labels=False, precision=1)\n",
        "\n",
        "  df['EUF_verified'] = df['EUF_verified'].astype(int)\n",
        "  df['EWUF_verified'] = df['EUF_verified'].astype(int)\n",
        "  df['EUF_time_from_creation'] = df.EUF_account_creation.apply(lambda x: (datetime.now() - x).total_seconds()/60)\n",
        "  df['EWUF_time_from_creation'] =  df.EWUF_account_creation.apply(lambda x: (datetime.now() - x).total_seconds()/60)\n",
        "  df['diff_from_creation'] = (df.EUF_time_from_creation - df.EWUF_time_from_creation)\n",
        "  df['engagee_follows_engager'] = df['engagee_follows_engager'].astype(int)\n",
        "  df['ratioxratio'] = df['EWUF_follow_ratio']*df['EUF_follow_ratio']\n",
        "  df['relevance'] = df['EUF_verified'] & df['EWUF_verified']\n",
        "\n",
        "  df['replay_bool'] = df['replay_timestamp'].notna().astype(int)\n",
        "  df['retweet_bool'] = df['retweet_timestamp'].notna().astype(int)\n",
        "  df['quote_bool'] = df['quote_timestamp'].notna().astype(int)\n",
        "  df['like_bool'] = df['like_timestamp'].notna().astype(int)\n",
        "\n",
        "  df['hours'] = df.timestamp.dt.hour\n",
        "  df['weekday'] = df.timestamp.dt.weekday\n",
        "  df['hoursweekday'] = df['hours']/24 + df['weekday']/7\n",
        "  df['numHashtags'] = df.hashtags.apply(lambda x: len(str(x).split('\\t')) if pd.isna(x) == False else 0)\n",
        "  df['numLinks'] = df.links.apply(lambda x: len(str(x).split('\\t')) if pd.isna(x) == False else 0)\n",
        "  df['numDomains'] = df.domains.apply(lambda x: len(str(x).split('\\t')) if pd.isna(x) == False else 0)\n",
        "  df['numMedia'] = df.media.apply(lambda x: len(str(x).split('\\t')) if pd.isna(x) == False else 0)\n",
        "  df['numVideo'] = df.media.apply(lambda x: x.count('Video') if pd.isna(x) == False else 0).sum()\n",
        "  df['numPhoto'] = df.media.apply(lambda x: x.count('Photo') if pd.isna(x) == False else 0).sum()\n",
        "  df['numGIF'] = df.media.apply(lambda x: x.count('GIF') if pd.isna(x) == False else 0).sum()\n",
        "  return df\n",
        "\n",
        "def transform_OHE(df, n = 40):\n",
        "  # dummies of media\n",
        "  df['Video'] = df.media.str.contains('Video', na=False).map({\n",
        "      True: 1,\n",
        "      False: 0\n",
        "  })\n",
        "  df['Photo'] = df.media.str.contains('Photo', na=False).map({\n",
        "      True: 1,\n",
        "      False: 0\n",
        "  })\n",
        "  df['GIF'] = df.media.str.contains('GIF', na=False).map({True: 1, False: 0})\n",
        "\n",
        "  # dummies of type\n",
        "  dummies = pd.get_dummies(df.type)\n",
        "  df = pd.concat([df, dummies], axis=1)\n",
        "\n",
        "  df['hours'] = df.timestamp.dt.hour\n",
        "  df['weekday'] = df.timestamp.dt.weekday\n",
        "  df['hoursweekday'] = df['hours']/24 + df['weekday']/7\n",
        "\n",
        "  topHashtags = df['hashtags'].value_counts()[:n].index.tolist()\n",
        "  pattern = '|'.join(list(topHashtags))\n",
        "  df['topHashtags'] = df.hashtags.str.contains(pattern).replace({pd.NA : False}).astype(int)\n",
        "\n",
        "  topDomains = df['domains'].value_counts()[:n].index.tolist()\n",
        "  pattern = '|'.join(list(topDomains))\n",
        "  df['topDomains'] = df.domains.str.contains(pattern).replace({pd.NA : False}).astype(int)\n",
        "\n",
        "  topLinks = df['links'].value_counts()[:n].index.tolist()\n",
        "  pattern = '|'.join(list(topLinks))\n",
        "  df['topLinks'] = df.links.str.contains(pattern).replace({pd.NA : False}).astype(int)\n",
        "  return df\n",
        "\n",
        "def transform_popular_hashtags(df, popular_hashtags_encoded = popular_hashtags_encoded):\n",
        "  pattern = '|'.join(list(popular_hashtags_encoded))\n",
        "  df['topHashtagsInternet'] = df.hashtags.str.contains(pattern).replace({pd.NA : False}).astype(int)\n",
        "\n",
        "  for kw in popular_hashtags_encoded:\n",
        "      df[kw] = df.hashtags.str.contains(kw, na=False).map({True: 1, False: 0})\n",
        "  return df"
      ],
      "execution_count": 5,
      "outputs": []
    },
    {
      "cell_type": "markdown",
      "metadata": {
        "id": "UaA5hjRBz-B1"
      },
      "source": [
        "### Transform"
      ]
    },
    {
      "cell_type": "code",
      "metadata": {
        "id": "mZtgRxWfqjOU"
      },
      "source": [
        "df_test = transform_basic_features(df_test, timestamp_columns = timestamp_columns)\n",
        "df_test = transform_OHE(df_test, n = 40)\n",
        "df_test = transform_popular_hashtags(df_test, popular_hashtags_encoded = popular_hashtags_encoded)\n",
        "\n",
        "hoursCombinations = ['EUF_time_from_creation', 'EWUF_time_from_creation', 'diff_from_creation', 'weekday', 'hoursweekday']\n",
        "popular_hashtags_encoded = ['06B910C9B63253EC90A2CFEFDBCA16CE', '39C7D662C61AA442BA20D2A006EAA12E', '7E9AEB766F61E95966456D010AD862AF', '30B81B3A82D3B7BB28B0665B9BDB64B4',\n",
        "                              'C1B1B9901E33AA2663BE92BE667A022A', '5C7186255EA0910671FE63609A7740C3', 'EEDFB04300BC76ECE64AE7AB8DFF999C', 'D145847A7C57F6DE2E7C16CA981F29CA',\n",
        "                              '50D49D761DBC587AD19073D8A41BE4D0', '9004114120258A56A5F42E1B321E5D4D', '7A58C9993F3EDDEEE0193CF84AACB435',\n",
        "                              'C97F51206BB66832B1B76DE40C7936E2', '01A8672B101954842C0D6809ADE4C250', '620B9E3FE9B8231E8767F3731E1E74E1', '1A69D94DA6E8A5D1F79192D3FB80C775', \n",
        "                              '7683BBB548DE14CCB45ACA60F0AD9B83', '86101A70061DA4A3A216AE11F48BD5E1','C442A089DA33B1C7411F3CC6274F60E2', '580CF8A679C838C2C063A631744A7B22', '05BBC3A142403B01286F8A8ABDB2EEFF', '91C8A9A97AF0D1B666ABC447B808B812',\n",
        "                           '15ED32AEEAD0896AAE12BA7850052B94', '86F5C36DD25C658130A4F125005CE8EB', '95247C93BA4711381143E86AB039407E', '19875E4EA694E7A74B4025ECCF4E19CF',\n",
        "                           '9B597ACF49E09186820C359759D325FF', 'D9F46EFE32A7D46EACAD96E4D552054B', 'AC6785EF8C88D1509EF755EAAEA4C875', 'BBD612D7A4C2EB59B3334456AB2D70A3',\n",
        "                           '08C02CD16B3412A168D03171FA80C58E', 'C7DB5645FD9D5D8B81407F819CE78A06', '881264CF821C09C4F851A080C82CA83D']\n",
        "selected_features = ['EWUF_verified', 'EUF_verified', 'engagee_follows_engager', 'ratioxratio', 'hours', 'EWUF_follow_ratio', 'EUF_follow_ratio', \n",
        "                     'topHashtags', 'EWUF_follow_ratio_bins', 'EUF_follow_ratio_bins', 'cross_following_ratio', 'cross_follower_ratio',\n",
        "                     'topHashtagsInternet', 'numHashtags', 'topDomains', 'numDomains', 'numVideo', 'numPhoto', 'numGIF', \n",
        "                     'topLinks', 'numLinks', 'Retweet', 'Quote', 'TopLevel', 'Photo', 'Video', 'GIF', \n",
        "                     'numMedia'] + hoursCombinations + popular_hashtags_encoded \n",
        "\n",
        "X = df_test[selected_features]\n",
        "targets = ['replay_bool','retweet_bool','quote_bool','like_bool']\n",
        "gt = df_test[targets]\n",
        "del df_test"
      ],
      "execution_count": 6,
      "outputs": []
    },
    {
      "cell_type": "markdown",
      "metadata": {
        "id": "i09rDD3p0SMb"
      },
      "source": [
        "# Obtaining metrics"
      ]
    },
    {
      "cell_type": "code",
      "metadata": {
        "id": "cjOB5G_Sw3p7",
        "colab": {
          "base_uri": "https://localhost:8080/"
        },
        "outputId": "027ff872-fcd3-4dd3-fbe2-b153c2708891"
      },
      "source": [
        "from sklearn.metrics import average_precision_score, log_loss\n",
        "import pickle \n",
        "\n",
        "def calculate_ctr(gt):\n",
        "    positive = len([x for x in gt if x == 1])\n",
        "    ctr = positive/float(len(gt))\n",
        "    return ctr\n",
        "\n",
        "def compute_rce(pred, gt):\n",
        "    cross_entropy = log_loss(gt, pred)\n",
        "    data_ctr = calculate_ctr(gt)\n",
        "    strawman_cross_entropy = log_loss(gt, [data_ctr for _ in range(len(gt))])\n",
        "    return (1.0 - cross_entropy/strawman_cross_entropy)*100.0\n",
        "\n",
        "path = './gdrive/MyDrive/validation/final/'\n",
        "engagement = ['replay', 'retweet', 'quote', 'like']\n",
        "for eng, target in zip(engagement, targets):\n",
        "  print(eng)\n",
        "  Model = pickle.load(open(path + 'Non_Text_' + target + '_Model.sav', 'rb'))\n",
        "  predictions = Model.predict(X)\n",
        "  rce = compute_rce(predictions, gt[target].values)\n",
        "  average_precision = average_precision_score(gt[target].values, predictions)\n",
        "  print(f'RCE: {rce}')\n",
        "  print(f'AP: {average_precision}')"
      ],
      "execution_count": 7,
      "outputs": [
        {
          "output_type": "stream",
          "text": [
            "replay\n",
            "RCE: 9.764998165884453\n",
            "AP: 0.06534085229363844\n",
            "retweet\n",
            "RCE: 4.998924133212357\n",
            "AP: 0.15599132687438175\n",
            "quote\n",
            "RCE: 2.732163327223436\n",
            "AP: 0.011214393381142874\n",
            "like\n",
            "RCE: 9.770212440400583\n",
            "AP: 0.590805672935449\n"
          ],
          "name": "stdout"
        }
      ]
    }
  ]
}
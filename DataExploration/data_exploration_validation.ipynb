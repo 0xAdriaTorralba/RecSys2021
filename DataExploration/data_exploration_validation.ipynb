{
 "cells": [
  {
   "cell_type": "markdown",
   "id": "agreed-envelope",
   "metadata": {},
   "source": [
    "# Imports"
   ]
  },
  {
   "cell_type": "code",
   "execution_count": 1,
   "id": "framed-stick",
   "metadata": {
    "ExecuteTime": {
     "end_time": "2021-06-22T20:12:48.469832Z",
     "start_time": "2021-06-22T20:12:46.025125Z"
    }
   },
   "outputs": [],
   "source": [
    "import numpy as np\n",
    "import dask.dataframe as dd\n",
    "from dask.distributed import Client\n",
    "client = Client()  # start distributed scheduler locally.  Launch dashboard\n",
    "import os,sys,inspect\n",
    "currentdir = os.path.dirname(os.path.abspath(inspect.getfile(inspect.currentframe())))\n",
    "parentdir = os.path.dirname(currentdir)\n",
    "sys.path.insert(0,parentdir)"
   ]
  },
  {
   "cell_type": "code",
   "execution_count": 2,
   "id": "revolutionary-wages",
   "metadata": {
    "ExecuteTime": {
     "end_time": "2021-06-22T20:12:50.188994Z",
     "start_time": "2021-06-22T20:12:48.470833Z"
    }
   },
   "outputs": [
    {
     "data": {
      "text/html": [
       "<div>\n",
       "<style scoped>\n",
       "    .dataframe tbody tr th:only-of-type {\n",
       "        vertical-align: middle;\n",
       "    }\n",
       "\n",
       "    .dataframe tbody tr th {\n",
       "        vertical-align: top;\n",
       "    }\n",
       "\n",
       "    .dataframe thead th {\n",
       "        text-align: right;\n",
       "    }\n",
       "</style>\n",
       "<table border=\"1\" class=\"dataframe\">\n",
       "  <thead>\n",
       "    <tr style=\"text-align: right;\">\n",
       "      <th></th>\n",
       "      <th>bert</th>\n",
       "      <th>hashtags</th>\n",
       "      <th>tweet_id</th>\n",
       "      <th>media</th>\n",
       "      <th>links</th>\n",
       "      <th>domains</th>\n",
       "      <th>type</th>\n",
       "      <th>language</th>\n",
       "      <th>timestamp</th>\n",
       "      <th>AUTHOR_user_id</th>\n",
       "      <th>...</th>\n",
       "      <th>INTERACTOR_user_id</th>\n",
       "      <th>INTERACTOR_follower_count</th>\n",
       "      <th>INTERACTOR_following_count</th>\n",
       "      <th>INTERACTOR_verified</th>\n",
       "      <th>INTERACTOR_account_creation</th>\n",
       "      <th>AUTHOR_follows_INTERACTOR</th>\n",
       "      <th>reply_timestamp</th>\n",
       "      <th>retweet_timestamp</th>\n",
       "      <th>quote_timestamp</th>\n",
       "      <th>like_timestamp</th>\n",
       "    </tr>\n",
       "  </thead>\n",
       "  <tbody>\n",
       "    <tr>\n",
       "      <th>0</th>\n",
       "      <td>101\\t27158\\t42682\\t14444\\t188\\t16218\\t10173\\t4...</td>\n",
       "      <td>A338C5C1637BEDA847BC1237241145BC</td>\n",
       "      <td>620B83CB3963A1A24D59AD1CDA2C1E10</td>\n",
       "      <td>NaN</td>\n",
       "      <td>NaN</td>\n",
       "      <td>NaN</td>\n",
       "      <td>TopLevel</td>\n",
       "      <td>B8B04128918BBF54E2E178BFF1ABA833</td>\n",
       "      <td>1614476822</td>\n",
       "      <td>6B1525449DEC20FFB77526D2A86B1563</td>\n",
       "      <td>...</td>\n",
       "      <td>F16C923EEEF0C56FA8E03C9947A70CAB</td>\n",
       "      <td>1316</td>\n",
       "      <td>1261</td>\n",
       "      <td>False</td>\n",
       "      <td>1470337501</td>\n",
       "      <td>True</td>\n",
       "      <td>&lt;NA&gt;</td>\n",
       "      <td>&lt;NA&gt;</td>\n",
       "      <td>&lt;NA&gt;</td>\n",
       "      <td>&lt;NA&gt;</td>\n",
       "    </tr>\n",
       "    <tr>\n",
       "      <th>1</th>\n",
       "      <td>101\\t56898\\t137\\t32385\\t61620\\t12659\\t22471\\t1...</td>\n",
       "      <td>NaN</td>\n",
       "      <td>5614711FC32B65D6315447666196B362</td>\n",
       "      <td>Video</td>\n",
       "      <td>NaN</td>\n",
       "      <td>NaN</td>\n",
       "      <td>Retweet</td>\n",
       "      <td>E7F038DE3EAD397AEC9193686C911677</td>\n",
       "      <td>1614593752</td>\n",
       "      <td>437B4EF4128B8FE8079BB81A5ACF656C</td>\n",
       "      <td>...</td>\n",
       "      <td>86FADA0FC87B8668B34C4C9EA41EEF54</td>\n",
       "      <td>417</td>\n",
       "      <td>411</td>\n",
       "      <td>False</td>\n",
       "      <td>1576241664</td>\n",
       "      <td>True</td>\n",
       "      <td>&lt;NA&gt;</td>\n",
       "      <td>&lt;NA&gt;</td>\n",
       "      <td>&lt;NA&gt;</td>\n",
       "      <td>&lt;NA&gt;</td>\n",
       "    </tr>\n",
       "    <tr>\n",
       "      <th>2</th>\n",
       "      <td>101\\t10117\\t11424\\t25441\\t10135\\t100\\t14120\\t1...</td>\n",
       "      <td>NaN</td>\n",
       "      <td>50733D80B3733168FBEBA7B7E6F76328</td>\n",
       "      <td>Photo\\tPhoto</td>\n",
       "      <td>NaN</td>\n",
       "      <td>NaN</td>\n",
       "      <td>TopLevel</td>\n",
       "      <td>488B32D24BD4BB44172EB981C1BCA6FA</td>\n",
       "      <td>1614316064</td>\n",
       "      <td>96BD65F70F3659D17C532D17EE89E378</td>\n",
       "      <td>...</td>\n",
       "      <td>CF3CCAA5F335FC784FD5635CF433688C</td>\n",
       "      <td>3</td>\n",
       "      <td>60</td>\n",
       "      <td>False</td>\n",
       "      <td>1602401250</td>\n",
       "      <td>False</td>\n",
       "      <td>&lt;NA&gt;</td>\n",
       "      <td>&lt;NA&gt;</td>\n",
       "      <td>&lt;NA&gt;</td>\n",
       "      <td>1614356568</td>\n",
       "    </tr>\n",
       "    <tr>\n",
       "      <th>3</th>\n",
       "      <td>101\\t55531\\t8641\\t6824\\t1933\\t15802\\t14725\\t10...</td>\n",
       "      <td>NaN</td>\n",
       "      <td>9AF23572E97D092F188F89B98026F970</td>\n",
       "      <td>NaN</td>\n",
       "      <td>NaN</td>\n",
       "      <td>NaN</td>\n",
       "      <td>TopLevel</td>\n",
       "      <td>E7F038DE3EAD397AEC9193686C911677</td>\n",
       "      <td>1614349500</td>\n",
       "      <td>0076D50D707E65CA929490588036C58A</td>\n",
       "      <td>...</td>\n",
       "      <td>AC30E66EC27F4C07FE1278D6DDC2FBEB</td>\n",
       "      <td>136</td>\n",
       "      <td>211</td>\n",
       "      <td>False</td>\n",
       "      <td>1571210700</td>\n",
       "      <td>True</td>\n",
       "      <td>&lt;NA&gt;</td>\n",
       "      <td>&lt;NA&gt;</td>\n",
       "      <td>&lt;NA&gt;</td>\n",
       "      <td>&lt;NA&gt;</td>\n",
       "    </tr>\n",
       "    <tr>\n",
       "      <th>4</th>\n",
       "      <td>101\\t14120\\t131\\t120\\t120\\t188\\t119\\t11170\\t12...</td>\n",
       "      <td>NaN</td>\n",
       "      <td>B36D41BF88D41BFBE799B25EBF22E434</td>\n",
       "      <td>Photo</td>\n",
       "      <td>NaN</td>\n",
       "      <td>NaN</td>\n",
       "      <td>TopLevel</td>\n",
       "      <td>313ECD3A1E5BB07406E4249475C2D6D6</td>\n",
       "      <td>1614713508</td>\n",
       "      <td>91E0392CF72A3DF6A3647BE7CC19D21A</td>\n",
       "      <td>...</td>\n",
       "      <td>147B32F040009C62E69FDCAF23F9C800</td>\n",
       "      <td>273</td>\n",
       "      <td>416</td>\n",
       "      <td>False</td>\n",
       "      <td>1574020061</td>\n",
       "      <td>False</td>\n",
       "      <td>&lt;NA&gt;</td>\n",
       "      <td>&lt;NA&gt;</td>\n",
       "      <td>&lt;NA&gt;</td>\n",
       "      <td>1614717199</td>\n",
       "    </tr>\n",
       "  </tbody>\n",
       "</table>\n",
       "<p>5 rows × 24 columns</p>\n",
       "</div>"
      ],
      "text/plain": [
       "                                                bert  \\\n",
       "0  101\\t27158\\t42682\\t14444\\t188\\t16218\\t10173\\t4...   \n",
       "1  101\\t56898\\t137\\t32385\\t61620\\t12659\\t22471\\t1...   \n",
       "2  101\\t10117\\t11424\\t25441\\t10135\\t100\\t14120\\t1...   \n",
       "3  101\\t55531\\t8641\\t6824\\t1933\\t15802\\t14725\\t10...   \n",
       "4  101\\t14120\\t131\\t120\\t120\\t188\\t119\\t11170\\t12...   \n",
       "\n",
       "                           hashtags                          tweet_id  \\\n",
       "0  A338C5C1637BEDA847BC1237241145BC  620B83CB3963A1A24D59AD1CDA2C1E10   \n",
       "1                               NaN  5614711FC32B65D6315447666196B362   \n",
       "2                               NaN  50733D80B3733168FBEBA7B7E6F76328   \n",
       "3                               NaN  9AF23572E97D092F188F89B98026F970   \n",
       "4                               NaN  B36D41BF88D41BFBE799B25EBF22E434   \n",
       "\n",
       "          media links domains      type                          language  \\\n",
       "0           NaN   NaN     NaN  TopLevel  B8B04128918BBF54E2E178BFF1ABA833   \n",
       "1         Video   NaN     NaN   Retweet  E7F038DE3EAD397AEC9193686C911677   \n",
       "2  Photo\\tPhoto   NaN     NaN  TopLevel  488B32D24BD4BB44172EB981C1BCA6FA   \n",
       "3           NaN   NaN     NaN  TopLevel  E7F038DE3EAD397AEC9193686C911677   \n",
       "4         Photo   NaN     NaN  TopLevel  313ECD3A1E5BB07406E4249475C2D6D6   \n",
       "\n",
       "    timestamp                    AUTHOR_user_id  ...  \\\n",
       "0  1614476822  6B1525449DEC20FFB77526D2A86B1563  ...   \n",
       "1  1614593752  437B4EF4128B8FE8079BB81A5ACF656C  ...   \n",
       "2  1614316064  96BD65F70F3659D17C532D17EE89E378  ...   \n",
       "3  1614349500  0076D50D707E65CA929490588036C58A  ...   \n",
       "4  1614713508  91E0392CF72A3DF6A3647BE7CC19D21A  ...   \n",
       "\n",
       "                 INTERACTOR_user_id  INTERACTOR_follower_count  \\\n",
       "0  F16C923EEEF0C56FA8E03C9947A70CAB                       1316   \n",
       "1  86FADA0FC87B8668B34C4C9EA41EEF54                        417   \n",
       "2  CF3CCAA5F335FC784FD5635CF433688C                          3   \n",
       "3  AC30E66EC27F4C07FE1278D6DDC2FBEB                        136   \n",
       "4  147B32F040009C62E69FDCAF23F9C800                        273   \n",
       "\n",
       "   INTERACTOR_following_count  INTERACTOR_verified  \\\n",
       "0                        1261                False   \n",
       "1                         411                False   \n",
       "2                          60                False   \n",
       "3                         211                False   \n",
       "4                         416                False   \n",
       "\n",
       "  INTERACTOR_account_creation  AUTHOR_follows_INTERACTOR  reply_timestamp  \\\n",
       "0                  1470337501                       True             <NA>   \n",
       "1                  1576241664                       True             <NA>   \n",
       "2                  1602401250                      False             <NA>   \n",
       "3                  1571210700                       True             <NA>   \n",
       "4                  1574020061                      False             <NA>   \n",
       "\n",
       "   retweet_timestamp  quote_timestamp  like_timestamp  \n",
       "0               <NA>             <NA>            <NA>  \n",
       "1               <NA>             <NA>            <NA>  \n",
       "2               <NA>             <NA>      1614356568  \n",
       "3               <NA>             <NA>            <NA>  \n",
       "4               <NA>             <NA>      1614717199  \n",
       "\n",
       "[5 rows x 24 columns]"
      ]
     },
     "execution_count": 2,
     "metadata": {},
     "output_type": "execute_result"
    }
   ],
   "source": [
    "column_types = {\n",
    "    'bert': str,\n",
    "    'hashtags': str,\n",
    "    'tweet_id': str,\n",
    "    'media': str,\n",
    "    'links': str,\n",
    "    'domains': str,\n",
    "    'type': str,\n",
    "    'language': str,\n",
    "    'timestamp': np.uint32,\n",
    "    'AUTHOR_user_id': str,\n",
    "    'AUTHOR_follower_count': np.uint32,\n",
    "    'AUTHOR_following_count': np.uint32,\n",
    "    'AUTHOR_verified': bool,\n",
    "    'AUTHOR_account_creation': np.uint32,\n",
    "    'INTERACTOR_user_id': str,\n",
    "    'INTERACTOR_follower_count': np.uint32,\n",
    "    'INTERACTOR_following_count': np.uint32,\n",
    "    'INTERACTOR_verified': bool,\n",
    "    'INTERACTOR_account_creation': np.uint32,\n",
    "    'AUTHOR_follows_INTERACTOR': bool,\n",
    "    'reply_timestamp': 'Int32',\n",
    "    'retweet_timestamp': 'Int32',\n",
    "    'quote_timestamp': 'Int32',\n",
    "    'like_timestamp': 'Int32'\n",
    "}\n",
    "\n",
    "df = dd.read_csv('sample_validation/part-*',\n",
    "                 names=list(column_types.keys()),\n",
    "                 header=0,\n",
    "                 sep='\u0001',\n",
    "                 dtype=column_types)\n",
    "df.head()"
   ]
  },
  {
   "cell_type": "code",
   "execution_count": 3,
   "id": "convenient-trunk",
   "metadata": {
    "ExecuteTime": {
     "end_time": "2021-06-22T20:14:34.796817Z",
     "start_time": "2021-06-22T20:12:50.189995Z"
    }
   },
   "outputs": [],
   "source": [
    "df = df.compute()"
   ]
  },
  {
   "cell_type": "code",
   "execution_count": 4,
   "id": "geographic-purple",
   "metadata": {
    "ExecuteTime": {
     "end_time": "2021-06-22T20:14:35.374301Z",
     "start_time": "2021-06-22T20:14:34.804637Z"
    }
   },
   "outputs": [],
   "source": [
    "import matplotlib.pyplot as plt\n",
    "%matplotlib inline"
   ]
  },
  {
   "cell_type": "markdown",
   "id": "green-protest",
   "metadata": {},
   "source": [
    "# Data Exploration"
   ]
  },
  {
   "cell_type": "markdown",
   "id": "satellite-genre",
   "metadata": {},
   "source": [
    "## Distribution of the languages"
   ]
  },
  {
   "cell_type": "code",
   "execution_count": 6,
   "id": "compliant-stocks",
   "metadata": {
    "ExecuteTime": {
     "end_time": "2021-06-22T20:15:54.708286Z",
     "start_time": "2021-06-22T20:15:54.691742Z"
    }
   },
   "outputs": [
    {
     "ename": "NameError",
     "evalue": "name 'languages' is not defined",
     "output_type": "error",
     "traceback": [
      "\u001b[1;31m---------------------------------------------------------------------------\u001b[0m",
      "\u001b[1;31mNameError\u001b[0m                                 Traceback (most recent call last)",
      "\u001b[1;32m<ipython-input-6-5f01a6f7a2c2>\u001b[0m in \u001b[0;36m<module>\u001b[1;34m\u001b[0m\n\u001b[0;32m      1\u001b[0m \u001b[1;31m# Pie chart, where the slices will be ordered and plotted counter-clockwise:\u001b[0m\u001b[1;33m\u001b[0m\u001b[1;33m\u001b[0m\u001b[1;33m\u001b[0m\u001b[0m\n\u001b[1;32m----> 2\u001b[1;33m \u001b[0mlabels\u001b[0m \u001b[1;33m=\u001b[0m \u001b[0mlist\u001b[0m\u001b[1;33m(\u001b[0m\u001b[0mlanguages\u001b[0m\u001b[1;33m.\u001b[0m\u001b[0mindex\u001b[0m\u001b[1;33m.\u001b[0m\u001b[0mvalues\u001b[0m\u001b[1;33m)\u001b[0m\u001b[1;33m\u001b[0m\u001b[1;33m\u001b[0m\u001b[0m\n\u001b[0m\u001b[0;32m      3\u001b[0m \u001b[0msizes\u001b[0m \u001b[1;33m=\u001b[0m \u001b[0mlist\u001b[0m\u001b[1;33m(\u001b[0m\u001b[0mlanguages\u001b[0m\u001b[1;33m.\u001b[0m\u001b[0mvalues\u001b[0m\u001b[1;33m)\u001b[0m\u001b[1;33m\u001b[0m\u001b[1;33m\u001b[0m\u001b[0m\n\u001b[0;32m      4\u001b[0m \u001b[0mexplode\u001b[0m \u001b[1;33m=\u001b[0m \u001b[1;33m(\u001b[0m\u001b[1;36m0\u001b[0m \u001b[1;32mfor\u001b[0m \u001b[0mi\u001b[0m \u001b[1;32min\u001b[0m \u001b[0mrange\u001b[0m\u001b[1;33m(\u001b[0m\u001b[0mlen\u001b[0m\u001b[1;33m(\u001b[0m\u001b[0mlanguages\u001b[0m\u001b[1;33m.\u001b[0m\u001b[0mindex\u001b[0m\u001b[1;33m.\u001b[0m\u001b[0mvalues\u001b[0m\u001b[1;33m)\u001b[0m\u001b[1;33m)\u001b[0m\u001b[1;33m)\u001b[0m  \u001b[1;31m# only \"explode\" the 2nd slice (i.e. 'Hogs')\u001b[0m\u001b[1;33m\u001b[0m\u001b[1;33m\u001b[0m\u001b[0m\n\u001b[0;32m      5\u001b[0m \u001b[1;33m\u001b[0m\u001b[0m\n",
      "\u001b[1;31mNameError\u001b[0m: name 'languages' is not defined"
     ]
    }
   ],
   "source": [
    "# Pie chart, where the slices will be ordered and plotted counter-clockwise:\n",
    "labels = list(languages.index.values)\n",
    "sizes = list(languages.values)\n",
    "explode = (0 for i in range(len(languages.index.values)))  # only \"explode\" the 2nd slice (i.e. 'Hogs')\n",
    "\n",
    "fig1, ax1 = plt.subplots()\n",
    "ax1.pie(sizes, labels=labels, autopct='%1.1f%%',\n",
    "        shadow=True, startangle=90)\n",
    "ax1.axis('equal')  # Equal aspect ratio ensures that pie is drawn as a circle.\n",
    "\n",
    "plt.show()"
   ]
  },
  {
   "cell_type": "markdown",
   "id": "cubic-balance",
   "metadata": {},
   "source": [
    "## Small class problem?"
   ]
  },
  {
   "cell_type": "markdown",
   "id": "senior-outreach",
   "metadata": {},
   "source": [
    "### Reply"
   ]
  },
  {
   "cell_type": "code",
   "execution_count": 7,
   "id": "adjusted-clone",
   "metadata": {
    "ExecuteTime": {
     "end_time": "2021-06-22T20:15:59.024755Z",
     "start_time": "2021-06-22T20:15:54.797314Z"
    }
   },
   "outputs": [],
   "source": [
    "negative_reply = df[df['reply_timestamp'].isna()].shape[0]\n",
    "positive_reply = df[~df['reply_timestamp'].isna()].shape[0]"
   ]
  },
  {
   "cell_type": "code",
   "execution_count": 8,
   "id": "about-knowing",
   "metadata": {
    "ExecuteTime": {
     "end_time": "2021-06-22T20:15:59.210065Z",
     "start_time": "2021-06-22T20:15:59.025757Z"
    }
   },
   "outputs": [
    {
     "data": {
      "image/png": "[encoded data removed]",
      "text/plain": [
       "<Figure size 432x288 with 1 Axes>"
      ]
     },
     "metadata": {},
     "output_type": "display_data"
    }
   ],
   "source": [
    "\n",
    "# Pie chart, where the slices will be ordered and plotted counter-clockwise:\n",
    "labels = 'Positive Reply', 'Negative Reply'\n",
    "sizes = [positive_reply, negative_reply]\n",
    "explode = (0.1, 0)  # only \"explode\" the 2nd slice (i.e. 'Hogs')\n",
    "\n",
    "fig1, ax1 = plt.subplots()\n",
    "ax1.pie(sizes, explode=explode, labels=labels, autopct='%1.1f%%',\n",
    "        shadow=True, startangle=90)\n",
    "ax1.axis('equal')  # Equal aspect ratio ensures that pie is drawn as a circle.\n",
    "\n",
    "plt.show()"
   ]
  },
  {
   "cell_type": "markdown",
   "id": "accessible-adoption",
   "metadata": {},
   "source": [
    "###  Retweet"
   ]
  },
  {
   "cell_type": "code",
   "execution_count": 9,
   "id": "professional-detector",
   "metadata": {
    "ExecuteTime": {
     "end_time": "2021-06-22T20:16:03.217819Z",
     "start_time": "2021-06-22T20:15:59.211064Z"
    }
   },
   "outputs": [],
   "source": [
    "negative_retweet = df[df['retweet_timestamp'].isna()].shape[0]\n",
    "positive_retweet = df[~df['retweet_timestamp'].isna()].shape[0]"
   ]
  },
  {
   "cell_type": "code",
   "execution_count": 10,
   "id": "disciplinary-wildlife",
   "metadata": {
    "ExecuteTime": {
     "end_time": "2021-06-22T20:16:03.340735Z",
     "start_time": "2021-06-22T20:16:03.219842Z"
    }
   },
   "outputs": [
    {
     "data": {
      "image/png": "[encoded data removed]",
      "text/plain": [
       "<Figure size 432x288 with 1 Axes>"
      ]
     },
     "metadata": {},
     "output_type": "display_data"
    }
   ],
   "source": [
    "# Pie chart, where the slices will be ordered and plotted counter-clockwise:\n",
    "labels = 'Positive Retweet', 'Negative Retweet'\n",
    "sizes = [positive_retweet, negative_retweet]\n",
    "explode = (0.1, 0)  # only \"explode\" the 2nd slice (i.e. 'Hogs')\n",
    "\n",
    "fig1, ax1 = plt.subplots()\n",
    "ax1.pie(sizes, explode=explode, labels=labels, autopct='%1.1f%%',\n",
    "        shadow=True, startangle=90)\n",
    "ax1.axis('equal')  # Equal aspect ratio ensures that pie is drawn as a circle.\n",
    "\n",
    "plt.show()"
   ]
  },
  {
   "cell_type": "markdown",
   "id": "welsh-agenda",
   "metadata": {},
   "source": [
    "### Like"
   ]
  },
  {
   "cell_type": "code",
   "execution_count": 11,
   "id": "charitable-morris",
   "metadata": {
    "ExecuteTime": {
     "end_time": "2021-06-22T20:16:07.837775Z",
     "start_time": "2021-06-22T20:16:03.344734Z"
    }
   },
   "outputs": [],
   "source": [
    "negative_like = df[df['like_timestamp'].isna()].shape[0]\n",
    "positive_like = df[~df['like_timestamp'].isna()].shape[0]"
   ]
  },
  {
   "cell_type": "code",
   "execution_count": 12,
   "id": "compressed-universal",
   "metadata": {
    "ExecuteTime": {
     "end_time": "2021-06-22T20:16:07.979840Z",
     "start_time": "2021-06-22T20:16:07.838776Z"
    }
   },
   "outputs": [
    {
     "data": {
      "image/png": "[encoded data removed]",
      "text/plain": [
       "<Figure size 432x288 with 1 Axes>"
      ]
     },
     "metadata": {},
     "output_type": "display_data"
    }
   ],
   "source": [
    "# Pie chart, where the slices will be ordered and plotted counter-clockwise:\n",
    "labels = 'Positive Like', 'Negative Like'\n",
    "sizes = [positive_like, negative_like]\n",
    "explode = (0.1, 0)  # only \"explode\" the 2nd slice (i.e. 'Hogs')\n",
    "\n",
    "fig1, ax1 = plt.subplots()\n",
    "ax1.pie(sizes, explode=explode, labels=labels, autopct='%1.1f%%',\n",
    "        shadow=True, startangle=90)\n",
    "ax1.axis('equal')  # Equal aspect ratio ensures that pie is drawn as a circle.\n",
    "\n",
    "plt.show()"
   ]
  },
  {
   "cell_type": "markdown",
   "id": "acting-moscow",
   "metadata": {},
   "source": [
    "### Retweet + Comment (Quote)"
   ]
  },
  {
   "cell_type": "code",
   "execution_count": 13,
   "id": "prime-beaver",
   "metadata": {
    "ExecuteTime": {
     "end_time": "2021-06-22T20:16:11.856033Z",
     "start_time": "2021-06-22T20:16:07.981524Z"
    }
   },
   "outputs": [],
   "source": [
    "negative_retweet_comment = df[df['quote_timestamp'].isna()].shape[0]\n",
    "positive_retweet_comment = df[~df['quote_timestamp'].isna()].shape[0]"
   ]
  },
  {
   "cell_type": "code",
   "execution_count": 14,
   "id": "explicit-twist",
   "metadata": {
    "ExecuteTime": {
     "end_time": "2021-06-22T20:16:11.995388Z",
     "start_time": "2021-06-22T20:16:11.858026Z"
    }
   },
   "outputs": [
    {
     "data": {
      "image/png": "[encoded data removed]",
      "text/plain": [
       "<Figure size 432x288 with 1 Axes>"
      ]
     },
     "metadata": {},
     "output_type": "display_data"
    }
   ],
   "source": [
    "# Pie chart, where the slices will be ordered and plotted counter-clockwise:\n",
    "labels = 'Positive Quote', 'Negative Quote'\n",
    "sizes = [positive_retweet_comment, negative_retweet_comment]\n",
    "explode = (0.1, 0)  # only \"explode\" the 2nd slice (i.e. 'Hogs')\n",
    "\n",
    "fig1, ax1 = plt.subplots()\n",
    "ax1.pie(sizes, explode=explode, labels=labels, autopct='%1.1f%%',\n",
    "        shadow=True, startangle=90)\n",
    "ax1.axis('equal')  # Equal aspect ratio ensures that pie is drawn as a circle.\n",
    "\n",
    "plt.show()"
   ]
  },
  {
   "cell_type": "markdown",
   "id": "saving-hybrid",
   "metadata": {},
   "source": [
    "## Distribution along the day of the week"
   ]
  },
  {
   "cell_type": "code",
   "execution_count": 15,
   "id": "median-abortion",
   "metadata": {
    "ExecuteTime": {
     "end_time": "2021-06-22T20:16:12.026747Z",
     "start_time": "2021-06-22T20:16:11.997391Z"
    }
   },
   "outputs": [],
   "source": [
    "import pandas as pd\n",
    "from datetime import datetime\n",
    "from tqdm import tqdm\n",
    "\n",
    "week_days = {\n",
    "    0: \"monday\",\n",
    "    1: \"tuesday\",\n",
    "    2: \"wednesday\",\n",
    "    3: \"thursday\",\n",
    "    4: \"friday\",\n",
    "    5: \"saturday\",\n",
    "    6: \"sunday\"\n",
    "}\n",
    "\n",
    "def create_datetime(df):\n",
    "    tqdm.pandas()\n",
    "    df[\"datetime_tweet_creation\"] = df[\"timestamp\"].progress_apply(lambda x: pd.to_datetime(x, unit='s'))\n",
    "    df[\"weekday_tweet_creation\"] = df[\"datetime_tweet_creation\"].progress_apply(lambda x: x.weekday())\n",
    "    return df"
   ]
  },
  {
   "cell_type": "code",
   "execution_count": 16,
   "id": "prerequisite-galaxy",
   "metadata": {
    "ExecuteTime": {
     "end_time": "2021-06-22T20:42:16.719983Z",
     "start_time": "2021-06-22T20:16:12.027739Z"
    }
   },
   "outputs": [
    {
     "name": "stderr",
     "output_type": "stream",
     "text": [
      "100%|████████████████████████████████████████████████████████████████████| 14271143/14271143 [25:11<00:00, 9439.22it/s]\n",
      "100%|██████████████████████████████████████████████████████████████████| 14271143/14271143 [00:52<00:00, 270763.51it/s]\n"
     ]
    }
   ],
   "source": [
    "df = create_datetime(df)"
   ]
  },
  {
   "cell_type": "code",
   "execution_count": 17,
   "id": "bound-bulletin",
   "metadata": {
    "ExecuteTime": {
     "end_time": "2021-06-22T20:42:24.954224Z",
     "start_time": "2021-06-22T20:42:16.721921Z"
    }
   },
   "outputs": [],
   "source": [
    "day_grouped = df.groupby(\"weekday_tweet_creation\").count()"
   ]
  },
  {
   "cell_type": "code",
   "execution_count": 18,
   "id": "black-sculpture",
   "metadata": {
    "ExecuteTime": {
     "end_time": "2021-06-22T20:42:24.986217Z",
     "start_time": "2021-06-22T20:42:24.955217Z"
    }
   },
   "outputs": [
    {
     "data": {
      "text/html": [
       "<div>\n",
       "<style scoped>\n",
       "    .dataframe tbody tr th:only-of-type {\n",
       "        vertical-align: middle;\n",
       "    }\n",
       "\n",
       "    .dataframe tbody tr th {\n",
       "        vertical-align: top;\n",
       "    }\n",
       "\n",
       "    .dataframe thead th {\n",
       "        text-align: right;\n",
       "    }\n",
       "</style>\n",
       "<table border=\"1\" class=\"dataframe\">\n",
       "  <thead>\n",
       "    <tr style=\"text-align: right;\">\n",
       "      <th></th>\n",
       "      <th>bert</th>\n",
       "      <th>hashtags</th>\n",
       "      <th>tweet_id</th>\n",
       "      <th>media</th>\n",
       "      <th>links</th>\n",
       "      <th>domains</th>\n",
       "      <th>type</th>\n",
       "      <th>language</th>\n",
       "      <th>timestamp</th>\n",
       "      <th>AUTHOR_user_id</th>\n",
       "      <th>...</th>\n",
       "      <th>INTERACTOR_follower_count</th>\n",
       "      <th>INTERACTOR_following_count</th>\n",
       "      <th>INTERACTOR_verified</th>\n",
       "      <th>INTERACTOR_account_creation</th>\n",
       "      <th>AUTHOR_follows_INTERACTOR</th>\n",
       "      <th>reply_timestamp</th>\n",
       "      <th>retweet_timestamp</th>\n",
       "      <th>quote_timestamp</th>\n",
       "      <th>like_timestamp</th>\n",
       "      <th>datetime_tweet_creation</th>\n",
       "    </tr>\n",
       "    <tr>\n",
       "      <th>weekday_tweet_creation</th>\n",
       "      <th></th>\n",
       "      <th></th>\n",
       "      <th></th>\n",
       "      <th></th>\n",
       "      <th></th>\n",
       "      <th></th>\n",
       "      <th></th>\n",
       "      <th></th>\n",
       "      <th></th>\n",
       "      <th></th>\n",
       "      <th></th>\n",
       "      <th></th>\n",
       "      <th></th>\n",
       "      <th></th>\n",
       "      <th></th>\n",
       "      <th></th>\n",
       "      <th></th>\n",
       "      <th></th>\n",
       "      <th></th>\n",
       "      <th></th>\n",
       "      <th></th>\n",
       "    </tr>\n",
       "  </thead>\n",
       "  <tbody>\n",
       "    <tr>\n",
       "      <th>0</th>\n",
       "      <td>1921769</td>\n",
       "      <td>416853</td>\n",
       "      <td>1921769</td>\n",
       "      <td>747734</td>\n",
       "      <td>254648</td>\n",
       "      <td>254648</td>\n",
       "      <td>1921769</td>\n",
       "      <td>1921769</td>\n",
       "      <td>1921769</td>\n",
       "      <td>1921769</td>\n",
       "      <td>...</td>\n",
       "      <td>1921769</td>\n",
       "      <td>1921769</td>\n",
       "      <td>1921769</td>\n",
       "      <td>1921769</td>\n",
       "      <td>1921769</td>\n",
       "      <td>40001</td>\n",
       "      <td>153710</td>\n",
       "      <td>10590</td>\n",
       "      <td>786556</td>\n",
       "      <td>1921769</td>\n",
       "    </tr>\n",
       "    <tr>\n",
       "      <th>1</th>\n",
       "      <td>2020795</td>\n",
       "      <td>423883</td>\n",
       "      <td>2020795</td>\n",
       "      <td>777416</td>\n",
       "      <td>266674</td>\n",
       "      <td>266674</td>\n",
       "      <td>2020795</td>\n",
       "      <td>2020795</td>\n",
       "      <td>2020795</td>\n",
       "      <td>2020795</td>\n",
       "      <td>...</td>\n",
       "      <td>2020795</td>\n",
       "      <td>2020795</td>\n",
       "      <td>2020795</td>\n",
       "      <td>2020795</td>\n",
       "      <td>2020795</td>\n",
       "      <td>43230</td>\n",
       "      <td>159380</td>\n",
       "      <td>11463</td>\n",
       "      <td>817329</td>\n",
       "      <td>2020795</td>\n",
       "    </tr>\n",
       "    <tr>\n",
       "      <th>2</th>\n",
       "      <td>2022229</td>\n",
       "      <td>439652</td>\n",
       "      <td>2022229</td>\n",
       "      <td>736613</td>\n",
       "      <td>267677</td>\n",
       "      <td>267677</td>\n",
       "      <td>2022229</td>\n",
       "      <td>2022229</td>\n",
       "      <td>2022229</td>\n",
       "      <td>2022229</td>\n",
       "      <td>...</td>\n",
       "      <td>2022229</td>\n",
       "      <td>2022229</td>\n",
       "      <td>2022229</td>\n",
       "      <td>2022229</td>\n",
       "      <td>2022229</td>\n",
       "      <td>40374</td>\n",
       "      <td>152430</td>\n",
       "      <td>10664</td>\n",
       "      <td>748572</td>\n",
       "      <td>2022229</td>\n",
       "    </tr>\n",
       "    <tr>\n",
       "      <th>3</th>\n",
       "      <td>2098821</td>\n",
       "      <td>445180</td>\n",
       "      <td>2098821</td>\n",
       "      <td>808819</td>\n",
       "      <td>283204</td>\n",
       "      <td>283204</td>\n",
       "      <td>2098821</td>\n",
       "      <td>2098821</td>\n",
       "      <td>2098821</td>\n",
       "      <td>2098821</td>\n",
       "      <td>...</td>\n",
       "      <td>2098821</td>\n",
       "      <td>2098821</td>\n",
       "      <td>2098821</td>\n",
       "      <td>2098821</td>\n",
       "      <td>2098821</td>\n",
       "      <td>44025</td>\n",
       "      <td>172178</td>\n",
       "      <td>12128</td>\n",
       "      <td>826397</td>\n",
       "      <td>2098821</td>\n",
       "    </tr>\n",
       "    <tr>\n",
       "      <th>4</th>\n",
       "      <td>2075027</td>\n",
       "      <td>453956</td>\n",
       "      <td>2075027</td>\n",
       "      <td>785339</td>\n",
       "      <td>288334</td>\n",
       "      <td>288334</td>\n",
       "      <td>2075027</td>\n",
       "      <td>2075027</td>\n",
       "      <td>2075027</td>\n",
       "      <td>2075027</td>\n",
       "      <td>...</td>\n",
       "      <td>2075027</td>\n",
       "      <td>2075027</td>\n",
       "      <td>2075027</td>\n",
       "      <td>2075027</td>\n",
       "      <td>2075027</td>\n",
       "      <td>44017</td>\n",
       "      <td>165745</td>\n",
       "      <td>11686</td>\n",
       "      <td>821763</td>\n",
       "      <td>2075027</td>\n",
       "    </tr>\n",
       "    <tr>\n",
       "      <th>5</th>\n",
       "      <td>2059422</td>\n",
       "      <td>434456</td>\n",
       "      <td>2059422</td>\n",
       "      <td>761132</td>\n",
       "      <td>231492</td>\n",
       "      <td>231492</td>\n",
       "      <td>2059422</td>\n",
       "      <td>2059422</td>\n",
       "      <td>2059422</td>\n",
       "      <td>2059422</td>\n",
       "      <td>...</td>\n",
       "      <td>2059422</td>\n",
       "      <td>2059422</td>\n",
       "      <td>2059422</td>\n",
       "      <td>2059422</td>\n",
       "      <td>2059422</td>\n",
       "      <td>44378</td>\n",
       "      <td>178351</td>\n",
       "      <td>11051</td>\n",
       "      <td>839304</td>\n",
       "      <td>2059422</td>\n",
       "    </tr>\n",
       "    <tr>\n",
       "      <th>6</th>\n",
       "      <td>2073080</td>\n",
       "      <td>471155</td>\n",
       "      <td>2073080</td>\n",
       "      <td>859845</td>\n",
       "      <td>228142</td>\n",
       "      <td>228142</td>\n",
       "      <td>2073080</td>\n",
       "      <td>2073080</td>\n",
       "      <td>2073080</td>\n",
       "      <td>2073080</td>\n",
       "      <td>...</td>\n",
       "      <td>2073080</td>\n",
       "      <td>2073080</td>\n",
       "      <td>2073080</td>\n",
       "      <td>2073080</td>\n",
       "      <td>2073080</td>\n",
       "      <td>42642</td>\n",
       "      <td>166930</td>\n",
       "      <td>11223</td>\n",
       "      <td>871817</td>\n",
       "      <td>2073080</td>\n",
       "    </tr>\n",
       "  </tbody>\n",
       "</table>\n",
       "<p>7 rows × 25 columns</p>\n",
       "</div>"
      ],
      "text/plain": [
       "                           bert  hashtags  tweet_id   media   links  domains  \\\n",
       "weekday_tweet_creation                                                         \n",
       "0                       1921769    416853   1921769  747734  254648   254648   \n",
       "1                       2020795    423883   2020795  777416  266674   266674   \n",
       "2                       2022229    439652   2022229  736613  267677   267677   \n",
       "3                       2098821    445180   2098821  808819  283204   283204   \n",
       "4                       2075027    453956   2075027  785339  288334   288334   \n",
       "5                       2059422    434456   2059422  761132  231492   231492   \n",
       "6                       2073080    471155   2073080  859845  228142   228142   \n",
       "\n",
       "                           type  language  timestamp  AUTHOR_user_id  ...  \\\n",
       "weekday_tweet_creation                                                ...   \n",
       "0                       1921769   1921769    1921769         1921769  ...   \n",
       "1                       2020795   2020795    2020795         2020795  ...   \n",
       "2                       2022229   2022229    2022229         2022229  ...   \n",
       "3                       2098821   2098821    2098821         2098821  ...   \n",
       "4                       2075027   2075027    2075027         2075027  ...   \n",
       "5                       2059422   2059422    2059422         2059422  ...   \n",
       "6                       2073080   2073080    2073080         2073080  ...   \n",
       "\n",
       "                        INTERACTOR_follower_count  INTERACTOR_following_count  \\\n",
       "weekday_tweet_creation                                                          \n",
       "0                                         1921769                     1921769   \n",
       "1                                         2020795                     2020795   \n",
       "2                                         2022229                     2022229   \n",
       "3                                         2098821                     2098821   \n",
       "4                                         2075027                     2075027   \n",
       "5                                         2059422                     2059422   \n",
       "6                                         2073080                     2073080   \n",
       "\n",
       "                        INTERACTOR_verified  INTERACTOR_account_creation  \\\n",
       "weekday_tweet_creation                                                     \n",
       "0                                   1921769                      1921769   \n",
       "1                                   2020795                      2020795   \n",
       "2                                   2022229                      2022229   \n",
       "3                                   2098821                      2098821   \n",
       "4                                   2075027                      2075027   \n",
       "5                                   2059422                      2059422   \n",
       "6                                   2073080                      2073080   \n",
       "\n",
       "                        AUTHOR_follows_INTERACTOR  reply_timestamp  \\\n",
       "weekday_tweet_creation                                               \n",
       "0                                         1921769            40001   \n",
       "1                                         2020795            43230   \n",
       "2                                         2022229            40374   \n",
       "3                                         2098821            44025   \n",
       "4                                         2075027            44017   \n",
       "5                                         2059422            44378   \n",
       "6                                         2073080            42642   \n",
       "\n",
       "                        retweet_timestamp  quote_timestamp  like_timestamp  \\\n",
       "weekday_tweet_creation                                                       \n",
       "0                                  153710            10590          786556   \n",
       "1                                  159380            11463          817329   \n",
       "2                                  152430            10664          748572   \n",
       "3                                  172178            12128          826397   \n",
       "4                                  165745            11686          821763   \n",
       "5                                  178351            11051          839304   \n",
       "6                                  166930            11223          871817   \n",
       "\n",
       "                        datetime_tweet_creation  \n",
       "weekday_tweet_creation                           \n",
       "0                                       1921769  \n",
       "1                                       2020795  \n",
       "2                                       2022229  \n",
       "3                                       2098821  \n",
       "4                                       2075027  \n",
       "5                                       2059422  \n",
       "6                                       2073080  \n",
       "\n",
       "[7 rows x 25 columns]"
      ]
     },
     "execution_count": 18,
     "metadata": {},
     "output_type": "execute_result"
    }
   ],
   "source": [
    "day_grouped"
   ]
  },
  {
   "cell_type": "code",
   "execution_count": 19,
   "id": "optimum-driver",
   "metadata": {
    "ExecuteTime": {
     "end_time": "2021-06-22T20:42:25.158217Z",
     "start_time": "2021-06-22T20:42:24.988218Z"
    }
   },
   "outputs": [
    {
     "data": {
      "text/plain": [
       "<BarContainer object of 7 artists>"
      ]
     },
     "execution_count": 19,
     "metadata": {},
     "output_type": "execute_result"
    },
    {
     "data": {
      "image/png": "[encoded data removed]",
      "text/plain": [
       "<Figure size 504x504 with 1 Axes>"
      ]
     },
     "metadata": {
      "needs_background": "light"
     },
     "output_type": "display_data"
    }
   ],
   "source": [
    "plt.figure(figsize=(7, 7))\n",
    "plt.bar([week_days[idx] for idx in day_grouped.index], day_grouped[\"tweet_id\"].values, width=0.35)"
   ]
  },
  {
   "cell_type": "markdown",
   "id": "unable-hostel",
   "metadata": {},
   "source": [
    "### Like"
   ]
  },
  {
   "cell_type": "code",
   "execution_count": 20,
   "id": "burning-stroke",
   "metadata": {
    "ExecuteTime": {
     "end_time": "2021-06-22T20:42:38.212303Z",
     "start_time": "2021-06-22T20:42:25.159216Z"
    }
   },
   "outputs": [],
   "source": [
    "positive_like_weekday = df[~df['like_timestamp'].isna()].groupby(\"weekday_tweet_creation\").count()\n",
    "negative_like_weekday = df[df['like_timestamp'].isna()].groupby(\"weekday_tweet_creation\").count()"
   ]
  },
  {
   "cell_type": "code",
   "execution_count": 21,
   "id": "coordinated-leone",
   "metadata": {
    "ExecuteTime": {
     "end_time": "2021-06-22T20:42:38.459304Z",
     "start_time": "2021-06-22T20:42:38.214306Z"
    }
   },
   "outputs": [
    {
     "data": {
      "image/png": "[encoded data removed]",
      "text/plain": [
       "<Figure size 504x504 with 1 Axes>"
      ]
     },
     "metadata": {
      "needs_background": "light"
     },
     "output_type": "display_data"
    }
   ],
   "source": [
    "labels = [week_days[idx] for idx in day_grouped.index]\n",
    "\n",
    "positive = positive_like_weekday[\"tweet_id\"].values\n",
    "negative = negative_like_weekday[\"tweet_id\"].values\n",
    "width = 0.35       # the width of the bars: can also be len(x) sequence\n",
    "\n",
    "fig, ax = plt.subplots()\n",
    "\n",
    "fig.set_figheight(7)\n",
    "fig.set_figwidth(7)\n",
    "\n",
    "ax.bar(labels, positive, width, label='Positive')\n",
    "ax.bar(labels, negative, width, bottom=positive,\n",
    "       label='Negative')\n",
    "\n",
    "ax.set_ylabel('Count')\n",
    "ax.set_title('Positive and negative of Like by weekday')\n",
    "ax.legend()\n",
    "\n",
    "plt.show()"
   ]
  },
  {
   "cell_type": "markdown",
   "id": "usual-jewelry",
   "metadata": {},
   "source": [
    "### Reply"
   ]
  },
  {
   "cell_type": "code",
   "execution_count": 22,
   "id": "smoking-facility",
   "metadata": {
    "ExecuteTime": {
     "end_time": "2021-06-22T20:42:50.317392Z",
     "start_time": "2021-06-22T20:42:38.460305Z"
    }
   },
   "outputs": [],
   "source": [
    "positive_reply_weekday = df[~df['reply_timestamp'].isna()].groupby(\"weekday_tweet_creation\").count()\n",
    "negative_reply_weekday = df[df['reply_timestamp'].isna()].groupby(\"weekday_tweet_creation\").count()"
   ]
  },
  {
   "cell_type": "code",
   "execution_count": 23,
   "id": "quarterly-wrong",
   "metadata": {
    "ExecuteTime": {
     "end_time": "2021-06-22T20:42:50.532384Z",
     "start_time": "2021-06-22T20:42:50.319382Z"
    }
   },
   "outputs": [
    {
     "data": {
      "image/png": "[encoded data removed]",
      "text/plain": [
       "<Figure size 504x504 with 1 Axes>"
      ]
     },
     "metadata": {
      "needs_background": "light"
     },
     "output_type": "display_data"
    }
   ],
   "source": [
    "labels = [week_days[idx] for idx in day_grouped.index]\n",
    "positive = positive_reply_weekday[\"tweet_id\"].values\n",
    "negative = negative_reply_weekday[\"tweet_id\"].values\n",
    "width = 0.35       # the width of the bars: can also be len(x) sequence\n",
    "\n",
    "fig, ax = plt.subplots()\n",
    "\n",
    "fig.set_figheight(7)\n",
    "fig.set_figwidth(7)\n",
    "\n",
    "ax.bar(labels, positive, width, label='Positive')\n",
    "ax.bar(labels, negative, width, bottom=positive,\n",
    "       label='Negative')\n",
    "\n",
    "ax.set_ylabel('Count')\n",
    "ax.set_title('Positive and negative of Reply by weekday')\n",
    "ax.legend()\n",
    "\n",
    "plt.show()"
   ]
  },
  {
   "cell_type": "markdown",
   "id": "impressed-connectivity",
   "metadata": {},
   "source": [
    "### Retweet"
   ]
  },
  {
   "cell_type": "code",
   "execution_count": 24,
   "id": "recognized-hepatitis",
   "metadata": {
    "ExecuteTime": {
     "end_time": "2021-06-22T20:43:02.517373Z",
     "start_time": "2021-06-22T20:42:50.534384Z"
    }
   },
   "outputs": [],
   "source": [
    "positive_retweet_weekday = df[~df['retweet_timestamp'].isna()].groupby(\"weekday_tweet_creation\").count()\n",
    "negative_retweet_weekday = df[df['retweet_timestamp'].isna()].groupby(\"weekday_tweet_creation\").count()"
   ]
  },
  {
   "cell_type": "code",
   "execution_count": 25,
   "id": "efficient-candle",
   "metadata": {
    "ExecuteTime": {
     "end_time": "2021-06-22T20:43:02.712399Z",
     "start_time": "2021-06-22T20:43:02.518364Z"
    }
   },
   "outputs": [
    {
     "data": {
      "image/png": "[encoded data removed]",
      "text/plain": [
       "<Figure size 504x504 with 1 Axes>"
      ]
     },
     "metadata": {
      "needs_background": "light"
     },
     "output_type": "display_data"
    }
   ],
   "source": [
    "labels = [week_days[idx] for idx in day_grouped.index]\n",
    "positive = positive_retweet_weekday[\"tweet_id\"].values\n",
    "negative = negative_retweet_weekday[\"tweet_id\"].values\n",
    "width = 0.35       # the width of the bars: can also be len(x) sequence\n",
    "\n",
    "fig, ax = plt.subplots()\n",
    "\n",
    "\n",
    "fig.set_figheight(7)\n",
    "fig.set_figwidth(7)\n",
    "\n",
    "ax.bar(labels, positive, width, label='Positive')\n",
    "ax.bar(labels, negative, width, bottom=positive,\n",
    "       label='Negative')\n",
    "\n",
    "ax.set_ylabel('Count')\n",
    "ax.set_title('Positive and negative of Retweet by weekday')\n",
    "ax.legend()\n",
    "\n",
    "plt.show()"
   ]
  },
  {
   "cell_type": "markdown",
   "id": "controlled-definition",
   "metadata": {},
   "source": [
    "### Quote"
   ]
  },
  {
   "cell_type": "code",
   "execution_count": 26,
   "id": "verified-implement",
   "metadata": {
    "ExecuteTime": {
     "end_time": "2021-06-22T20:43:13.944365Z",
     "start_time": "2021-06-22T20:43:02.713365Z"
    }
   },
   "outputs": [],
   "source": [
    "positive_retweet_comment_weekday = df[~df['quote_timestamp'].isna()].groupby(\"weekday_tweet_creation\").count()\n",
    "negative_retweet_comment_weekday = df[df['quote_timestamp'].isna()].groupby(\"weekday_tweet_creation\").count()"
   ]
  },
  {
   "cell_type": "code",
   "execution_count": 27,
   "id": "attached-burns",
   "metadata": {
    "ExecuteTime": {
     "end_time": "2021-06-22T20:43:14.167364Z",
     "start_time": "2021-06-22T20:43:13.945381Z"
    }
   },
   "outputs": [
    {
     "data": {
      "image/png": "[encoded data removed]",
      "text/plain": [
       "<Figure size 504x504 with 1 Axes>"
      ]
     },
     "metadata": {
      "needs_background": "light"
     },
     "output_type": "display_data"
    }
   ],
   "source": [
    "labels = [week_days[idx] for idx in day_grouped.index]\n",
    "positive = positive_retweet_comment_weekday[\"tweet_id\"].values\n",
    "negative = negative_retweet_comment_weekday[\"tweet_id\"].values\n",
    "width = 0.35       # the width of the bars: can also be len(x) sequence\n",
    "\n",
    "fig, ax = plt.subplots()\n",
    "\n",
    "\n",
    "fig.set_figheight(7)\n",
    "fig.set_figwidth(7)\n",
    "\n",
    "ax.bar(labels, positive, width, label='Positive')\n",
    "ax.bar(labels, negative, width, bottom=positive,\n",
    "       label='Negative')\n",
    "\n",
    "ax.set_ylabel('Count')\n",
    "ax.set_title('Positive and negative of Quote by weekday')\n",
    "ax.legend()\n",
    "\n",
    "plt.show()"
   ]
  },
  {
   "cell_type": "markdown",
   "id": "conventional-thailand",
   "metadata": {},
   "source": [
    "## Histogram of Author users"
   ]
  },
  {
   "cell_type": "code",
   "execution_count": 28,
   "id": "acoustic-publisher",
   "metadata": {
    "ExecuteTime": {
     "end_time": "2021-06-22T20:43:16.065846Z",
     "start_time": "2021-06-22T20:43:14.168365Z"
    }
   },
   "outputs": [
    {
     "name": "stdout",
     "output_type": "stream",
     "text": [
      "Requirement already satisfied: seaborn in c:\\users\\adryt\\anaconda3\\envs\\tfm\\lib\\site-packages (0.11.1)\n",
      "Requirement already satisfied: pandas>=0.23 in c:\\users\\adryt\\anaconda3\\envs\\tfm\\lib\\site-packages (from seaborn) (1.2.3)\n",
      "Requirement already satisfied: numpy>=1.15 in c:\\users\\adryt\\anaconda3\\envs\\tfm\\lib\\site-packages (from seaborn) (1.19.5)\n",
      "Requirement already satisfied: matplotlib>=2.2 in c:\\users\\adryt\\anaconda3\\envs\\tfm\\lib\\site-packages (from seaborn) (3.3.4)\n",
      "Requirement already satisfied: scipy>=1.0 in c:\\users\\adryt\\anaconda3\\envs\\tfm\\lib\\site-packages (from seaborn) (1.6.1)\n",
      "Requirement already satisfied: pyparsing!=2.0.4,!=2.1.2,!=2.1.6,>=2.0.3 in c:\\users\\adryt\\anaconda3\\envs\\tfm\\lib\\site-packages (from matplotlib>=2.2->seaborn) (2.4.7)\n",
      "Requirement already satisfied: python-dateutil>=2.1 in c:\\users\\adryt\\anaconda3\\envs\\tfm\\lib\\site-packages (from matplotlib>=2.2->seaborn) (2.8.1)\n",
      "Requirement already satisfied: kiwisolver>=1.0.1 in c:\\users\\adryt\\anaconda3\\envs\\tfm\\lib\\site-packages (from matplotlib>=2.2->seaborn) (1.3.1)\n",
      "Requirement already satisfied: pillow>=6.2.0 in c:\\users\\adryt\\anaconda3\\envs\\tfm\\lib\\site-packages (from matplotlib>=2.2->seaborn) (8.1.2)\n",
      "Requirement already satisfied: cycler>=0.10 in c:\\users\\adryt\\anaconda3\\envs\\tfm\\lib\\site-packages (from matplotlib>=2.2->seaborn) (0.10.0)\n",
      "Requirement already satisfied: six in c:\\users\\adryt\\anaconda3\\envs\\tfm\\lib\\site-packages (from cycler>=0.10->matplotlib>=2.2->seaborn) (1.15.0)\n",
      "Requirement already satisfied: pytz>=2017.3 in c:\\users\\adryt\\anaconda3\\envs\\tfm\\lib\\site-packages (from pandas>=0.23->seaborn) (2021.1)\n"
     ]
    }
   ],
   "source": [
    "!pip install seaborn"
   ]
  },
  {
   "cell_type": "code",
   "execution_count": 29,
   "id": "challenging-ukraine",
   "metadata": {
    "ExecuteTime": {
     "end_time": "2021-06-22T20:45:00.654171Z",
     "start_time": "2021-06-22T20:43:16.071845Z"
    }
   },
   "outputs": [
    {
     "name": "stderr",
     "output_type": "stream",
     "text": [
      "C:\\Users\\adryt\\anaconda3\\envs\\TFM\\lib\\site-packages\\seaborn\\distributions.py:2557: FutureWarning: `distplot` is a deprecated function and will be removed in a future version. Please adapt your code to use either `displot` (a figure-level function with similar flexibility) or `histplot` (an axes-level function for histograms).\n",
      "  warnings.warn(msg, FutureWarning)\n"
     ]
    },
    {
     "data": {
      "text/plain": [
       "<AxesSubplot:xlabel='AUTHOR_follower_count', ylabel='Density'>"
      ]
     },
     "execution_count": 29,
     "metadata": {},
     "output_type": "execute_result"
    },
    {
     "data": {
      "image/png": "[encoded data removed]",
      "text/plain": [
       "<Figure size 432x288 with 1 Axes>"
      ]
     },
     "metadata": {
      "needs_background": "light"
     },
     "output_type": "display_data"
    }
   ],
   "source": [
    "import seaborn as sns\n",
    "sns.distplot(df[\"AUTHOR_follower_count\"])"
   ]
  },
  {
   "cell_type": "code",
   "execution_count": 30,
   "id": "matched-judge",
   "metadata": {
    "ExecuteTime": {
     "end_time": "2021-06-22T20:45:01.060809Z",
     "start_time": "2021-06-22T20:45:00.656166Z"
    }
   },
   "outputs": [
    {
     "data": {
      "text/plain": [
       "(array([1.4040864e+07, 1.1878300e+05, 5.7174000e+04, 1.8269000e+04,\n",
       "        1.5080000e+04, 7.6900000e+03, 6.7450000e+03, 2.0960000e+03,\n",
       "        2.8250000e+03, 1.6170000e+03]),\n",
       " array([1.00000000e+00, 1.29448467e+07, 2.58896924e+07, 3.88345381e+07,\n",
       "        5.17793838e+07, 6.47242295e+07, 7.76690752e+07, 9.06139209e+07,\n",
       "        1.03558767e+08, 1.16503612e+08, 1.29448458e+08]),\n",
       " <BarContainer object of 10 artists>)"
      ]
     },
     "execution_count": 30,
     "metadata": {},
     "output_type": "execute_result"
    },
    {
     "data": {
      "image/png": "[encoded data removed]",
      "text/plain": [
       "<Figure size 432x288 with 1 Axes>"
      ]
     },
     "metadata": {
      "needs_background": "light"
     },
     "output_type": "display_data"
    }
   ],
   "source": [
    "plt.hist(df[\"AUTHOR_follower_count\"])"
   ]
  },
  {
   "cell_type": "code",
   "execution_count": 31,
   "id": "separated-duplicate",
   "metadata": {
    "ExecuteTime": {
     "end_time": "2021-06-22T20:45:01.403464Z",
     "start_time": "2021-06-22T20:45:01.062811Z"
    }
   },
   "outputs": [
    {
     "data": {
      "text/plain": [
       "(array([1.4255009e+07, 1.0529000e+04, 3.7660000e+03, 1.0800000e+03,\n",
       "        5.2200000e+02, 1.3600000e+02, 0.0000000e+00, 0.0000000e+00,\n",
       "        0.0000000e+00, 1.0100000e+02]),\n",
       " array([      0. ,  425325.9,  850651.8, 1275977.7, 1701303.6, 2126629.5,\n",
       "        2551955.4, 2977281.3, 3402607.2, 3827933.1, 4253259. ]),\n",
       " <BarContainer object of 10 artists>)"
      ]
     },
     "execution_count": 31,
     "metadata": {},
     "output_type": "execute_result"
    },
    {
     "data": {
      "image/png": "[encoded data removed]",
      "text/plain": [
       "<Figure size 432x288 with 1 Axes>"
      ]
     },
     "metadata": {
      "needs_background": "light"
     },
     "output_type": "display_data"
    }
   ],
   "source": [
    "plt.hist(df[\"AUTHOR_following_count\"])"
   ]
  },
  {
   "cell_type": "code",
   "execution_count": 32,
   "id": "interior-picnic",
   "metadata": {
    "ExecuteTime": {
     "end_time": "2021-06-22T20:45:01.760049Z",
     "start_time": "2021-06-22T20:45:01.405328Z"
    }
   },
   "outputs": [
    {
     "data": {
      "text/plain": [
       "(array([1.4270958e+07, 1.0700000e+02, 4.9000000e+01, 1.7000000e+01,\n",
       "        8.0000000e+00, 0.0000000e+00, 0.0000000e+00, 0.0000000e+00,\n",
       "        2.0000000e+00, 2.0000000e+00]),\n",
       " array([       0. ,  1829092.3,  3658184.6,  5487276.9,  7316369.2,\n",
       "         9145461.5, 10974553.8, 12803646.1, 14632738.4, 16461830.7,\n",
       "        18290923. ]),\n",
       " <BarContainer object of 10 artists>)"
      ]
     },
     "execution_count": 32,
     "metadata": {},
     "output_type": "execute_result"
    },
    {
     "data": {
      "image/png": "[encoded data removed]",
      "text/plain": [
       "<Figure size 432x288 with 1 Axes>"
      ]
     },
     "metadata": {
      "needs_background": "light"
     },
     "output_type": "display_data"
    }
   ],
   "source": [
    "plt.hist(df[\"INTERACTOR_follower_count\"])"
   ]
  },
  {
   "cell_type": "code",
   "execution_count": 33,
   "id": "russian-tunnel",
   "metadata": {
    "ExecuteTime": {
     "end_time": "2021-06-22T20:45:02.120150Z",
     "start_time": "2021-06-22T20:45:01.761992Z"
    }
   },
   "outputs": [
    {
     "data": {
      "text/plain": [
       "(array([1.4270988e+07, 1.0400000e+02, 3.4000000e+01, 3.0000000e+00,\n",
       "        4.0000000e+00, 4.0000000e+00, 5.0000000e+00, 0.0000000e+00,\n",
       "        0.0000000e+00, 1.0000000e+00]),\n",
       " array([1.0000000e+00, 1.6047870e+05, 3.2095640e+05, 4.8143410e+05,\n",
       "        6.4191180e+05, 8.0238950e+05, 9.6286720e+05, 1.1233449e+06,\n",
       "        1.2838226e+06, 1.4443003e+06, 1.6047780e+06]),\n",
       " <BarContainer object of 10 artists>)"
      ]
     },
     "execution_count": 33,
     "metadata": {},
     "output_type": "execute_result"
    },
    {
     "data": {
      "image/png": "[encoded data removed]",
      "text/plain": [
       "<Figure size 432x288 with 1 Axes>"
      ]
     },
     "metadata": {
      "needs_background": "light"
     },
     "output_type": "display_data"
    }
   ],
   "source": [
    "plt.hist(df[\"INTERACTOR_following_count\"])"
   ]
  },
  {
   "cell_type": "code",
   "execution_count": null,
   "id": "radical-default",
   "metadata": {},
   "outputs": [],
   "source": []
  }
 ],
 "metadata": {
  "hide_input": false,
  "kernelspec": {
   "display_name": "Python 3",
   "language": "python",
   "name": "python3"
  },
  "language_info": {
   "codemirror_mode": {
    "name": "ipython",
    "version": 3
   },
   "file_extension": ".py",
   "mimetype": "text/x-python",
   "name": "python",
   "nbconvert_exporter": "python",
   "pygments_lexer": "ipython3",
   "version": "3.8.5"
  },
  "latex_envs": {
   "LaTeX_envs_menu_present": true,
   "autoclose": false,
   "autocomplete": true,
   "bibliofile": "biblio.bib",
   "cite_by": "apalike",
   "current_citInitial": 1,
   "eqLabelWithNumbers": true,
   "eqNumInitial": 1,
   "hotkeys": {
    "equation": "Ctrl-E",
    "itemize": "Ctrl-I"
   },
   "labels_anchors": false,
   "latex_user_defs": false,
   "report_style_numbering": false,
   "user_envs_cfg": false
  },
  "toc": {
   "base_numbering": 1,
   "nav_menu": {},
   "number_sections": true,
   "sideBar": true,
   "skip_h1_title": false,
   "title_cell": "Table of Contents",
   "title_sidebar": "Contents",
   "toc_cell": false,
   "toc_position": {
    "height": "calc(100% - 180px)",
    "left": "10px",
    "top": "150px",
    "width": "503.797px"
   },
   "toc_section_display": true,
   "toc_window_display": true
  },
  "varInspector": {
   "cols": {
    "lenName": 16,
    "lenType": 16,
    "lenVar": 40
   },
   "kernels_config": {
    "python": {
     "delete_cmd_postfix": "",
     "delete_cmd_prefix": "del ",
     "library": "var_list.py",
     "varRefreshCmd": "print(var_dic_list())"
    },
    "r": {
     "delete_cmd_postfix": ") ",
     "delete_cmd_prefix": "rm(",
     "library": "var_list.r",
     "varRefreshCmd": "cat(var_dic_list()) "
    }
   },
   "types_to_exclude": [
    "module",
    "function",
    "builtin_function_or_method",
    "instance",
    "_Feature"
   ],
   "window_display": false
  }
 },
 "nbformat": 4,
 "nbformat_minor": 5
}

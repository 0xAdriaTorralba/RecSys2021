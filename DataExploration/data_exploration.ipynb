{
 "cells": [
  {
   "cell_type": "markdown",
   "id": "proof-middle",
   "metadata": {},
   "source": [
    "# Imports"
   ]
  },
  {
   "cell_type": "code",
   "execution_count": 1,
   "id": "documentary-space",
   "metadata": {
    "ExecuteTime": {
     "end_time": "2021-06-22T17:14:46.739371Z",
     "start_time": "2021-06-22T17:14:44.919408Z"
    }
   },
   "outputs": [],
   "source": [
    "import numpy as np\n",
    "import dask.dataframe as dd\n",
    "from dask.distributed import Client\n",
    "client = Client()  # start distributed scheduler locally.  Launch dashboard\n",
    "import os,sys,inspect\n",
    "currentdir = os.path.dirname(os.path.abspath(inspect.getfile(inspect.currentframe())))\n",
    "parentdir = os.path.dirname(currentdir)\n",
    "sys.path.insert(0,parentdir)"
   ]
  },
  {
   "cell_type": "code",
   "execution_count": 3,
   "id": "prompt-membrane",
   "metadata": {
    "ExecuteTime": {
     "end_time": "2021-06-22T17:16:03.295591Z",
     "start_time": "2021-06-22T17:16:01.882310Z"
    }
   },
   "outputs": [
    {
     "data": {
      "text/html": [
       "<div>\n",
       "<style scoped>\n",
       "    .dataframe tbody tr th:only-of-type {\n",
       "        vertical-align: middle;\n",
       "    }\n",
       "\n",
       "    .dataframe tbody tr th {\n",
       "        vertical-align: top;\n",
       "    }\n",
       "\n",
       "    .dataframe thead th {\n",
       "        text-align: right;\n",
       "    }\n",
       "</style>\n",
       "<table border=\"1\" class=\"dataframe\">\n",
       "  <thead>\n",
       "    <tr style=\"text-align: right;\">\n",
       "      <th></th>\n",
       "      <th>bert</th>\n",
       "      <th>hashtags</th>\n",
       "      <th>tweet_id</th>\n",
       "      <th>media</th>\n",
       "      <th>links</th>\n",
       "      <th>domains</th>\n",
       "      <th>type</th>\n",
       "      <th>language</th>\n",
       "      <th>timestamp</th>\n",
       "      <th>AUTHOR_user_id</th>\n",
       "      <th>...</th>\n",
       "      <th>INTERACTOR_user_id</th>\n",
       "      <th>INTERACTOR_follower_count</th>\n",
       "      <th>INTERACTOR_following_count</th>\n",
       "      <th>INTERACTOR_verified</th>\n",
       "      <th>INTERACTOR_account_creation</th>\n",
       "      <th>AUTHOR_follows_INTERACTOR</th>\n",
       "      <th>reply_timestamp</th>\n",
       "      <th>retweet_timestamp</th>\n",
       "      <th>quote_timestamp</th>\n",
       "      <th>like_timestamp</th>\n",
       "    </tr>\n",
       "  </thead>\n",
       "  <tbody>\n",
       "    <tr>\n",
       "      <th>0</th>\n",
       "      <td>101\\t56898\\t137\\t11783\\t40825\\t30832\\t131\\t248...</td>\n",
       "      <td>NaN</td>\n",
       "      <td>2FCFEA2661EDA3C3F3001A88EBFF19AE</td>\n",
       "      <td>NaN</td>\n",
       "      <td>NaN</td>\n",
       "      <td>NaN</td>\n",
       "      <td>Retweet</td>\n",
       "      <td>488B32D24BD4BB44172EB981C1BCA6FA</td>\n",
       "      <td>1612398390</td>\n",
       "      <td>D6CEEB156EF994594ADB318AFB29C994</td>\n",
       "      <td>...</td>\n",
       "      <td>A9E4E000DB7BDD87635A35528975A52D</td>\n",
       "      <td>670</td>\n",
       "      <td>250</td>\n",
       "      <td>False</td>\n",
       "      <td>1321581661</td>\n",
       "      <td>True</td>\n",
       "      <td>&lt;NA&gt;</td>\n",
       "      <td>&lt;NA&gt;</td>\n",
       "      <td>&lt;NA&gt;</td>\n",
       "      <td>&lt;NA&gt;</td>\n",
       "    </tr>\n",
       "    <tr>\n",
       "      <th>1</th>\n",
       "      <td>101\\t47821\\t30455\\t23200\\t13096\\t10142\\t10106\\...</td>\n",
       "      <td>NaN</td>\n",
       "      <td>FD9F6F01E3DF352E0E46CDE43D80C0CA</td>\n",
       "      <td>NaN</td>\n",
       "      <td>NaN</td>\n",
       "      <td>NaN</td>\n",
       "      <td>TopLevel</td>\n",
       "      <td>488B32D24BD4BB44172EB981C1BCA6FA</td>\n",
       "      <td>1612398934</td>\n",
       "      <td>7579B6A157E965E68839938C6F27C717</td>\n",
       "      <td>...</td>\n",
       "      <td>3669C3300C71A6FC09553061C7863415</td>\n",
       "      <td>199</td>\n",
       "      <td>896</td>\n",
       "      <td>False</td>\n",
       "      <td>1212989004</td>\n",
       "      <td>False</td>\n",
       "      <td>&lt;NA&gt;</td>\n",
       "      <td>&lt;NA&gt;</td>\n",
       "      <td>&lt;NA&gt;</td>\n",
       "      <td>1612403200</td>\n",
       "    </tr>\n",
       "    <tr>\n",
       "      <th>2</th>\n",
       "      <td>101\\t146\\t65000\\t100\\t188\\t69110\\t10136\\t10435...</td>\n",
       "      <td>NaN</td>\n",
       "      <td>EDE3281757D0B359CD36C4FDB8D1A417</td>\n",
       "      <td>NaN</td>\n",
       "      <td>NaN</td>\n",
       "      <td>NaN</td>\n",
       "      <td>TopLevel</td>\n",
       "      <td>488B32D24BD4BB44172EB981C1BCA6FA</td>\n",
       "      <td>1612397895</td>\n",
       "      <td>BCE4EB1ADE0B7240B408A6307741C01D</td>\n",
       "      <td>...</td>\n",
       "      <td>57552E50289A30F9AD6E44934033D218</td>\n",
       "      <td>2142</td>\n",
       "      <td>1456</td>\n",
       "      <td>False</td>\n",
       "      <td>1340229176</td>\n",
       "      <td>True</td>\n",
       "      <td>&lt;NA&gt;</td>\n",
       "      <td>&lt;NA&gt;</td>\n",
       "      <td>&lt;NA&gt;</td>\n",
       "      <td>1612402400</td>\n",
       "    </tr>\n",
       "    <tr>\n",
       "      <th>3</th>\n",
       "      <td>101\\t100\\t14120\\t131\\t120\\t120\\t188\\t119\\t1117...</td>\n",
       "      <td>NaN</td>\n",
       "      <td>E868BA29C8690700C28AD29364704D76</td>\n",
       "      <td>Photo</td>\n",
       "      <td>NaN</td>\n",
       "      <td>NaN</td>\n",
       "      <td>TopLevel</td>\n",
       "      <td>488B32D24BD4BB44172EB981C1BCA6FA</td>\n",
       "      <td>1612399189</td>\n",
       "      <td>53233A53F1DF14908FBCA96EBA6C0712</td>\n",
       "      <td>...</td>\n",
       "      <td>B23F678A062B7F289BAE5956A8546B90</td>\n",
       "      <td>1565</td>\n",
       "      <td>144</td>\n",
       "      <td>False</td>\n",
       "      <td>1570416644</td>\n",
       "      <td>False</td>\n",
       "      <td>1612402000</td>\n",
       "      <td>&lt;NA&gt;</td>\n",
       "      <td>&lt;NA&gt;</td>\n",
       "      <td>1612402000</td>\n",
       "    </tr>\n",
       "    <tr>\n",
       "      <th>4</th>\n",
       "      <td>101\\t10841\\t11337\\t32560\\t161\\t10840\\t15772\\t1...</td>\n",
       "      <td>NaN</td>\n",
       "      <td>266DCA26093CA5D5DF952B84A8AC8C8D</td>\n",
       "      <td>Photo</td>\n",
       "      <td>NaN</td>\n",
       "      <td>NaN</td>\n",
       "      <td>TopLevel</td>\n",
       "      <td>488B32D24BD4BB44172EB981C1BCA6FA</td>\n",
       "      <td>1612399230</td>\n",
       "      <td>5DF93364C80554D4EA3FB238CA6CEB01</td>\n",
       "      <td>...</td>\n",
       "      <td>A38A2B0F8693BC5FE608B9B6D1EEAB11</td>\n",
       "      <td>530</td>\n",
       "      <td>393</td>\n",
       "      <td>False</td>\n",
       "      <td>1488181494</td>\n",
       "      <td>True</td>\n",
       "      <td>&lt;NA&gt;</td>\n",
       "      <td>&lt;NA&gt;</td>\n",
       "      <td>&lt;NA&gt;</td>\n",
       "      <td>1612399400</td>\n",
       "    </tr>\n",
       "  </tbody>\n",
       "</table>\n",
       "<p>5 rows × 24 columns</p>\n",
       "</div>"
      ],
      "text/plain": [
       "                                                bert hashtags  \\\n",
       "0  101\\t56898\\t137\\t11783\\t40825\\t30832\\t131\\t248...      NaN   \n",
       "1  101\\t47821\\t30455\\t23200\\t13096\\t10142\\t10106\\...      NaN   \n",
       "2  101\\t146\\t65000\\t100\\t188\\t69110\\t10136\\t10435...      NaN   \n",
       "3  101\\t100\\t14120\\t131\\t120\\t120\\t188\\t119\\t1117...      NaN   \n",
       "4  101\\t10841\\t11337\\t32560\\t161\\t10840\\t15772\\t1...      NaN   \n",
       "\n",
       "                           tweet_id  media links domains      type  \\\n",
       "0  2FCFEA2661EDA3C3F3001A88EBFF19AE    NaN   NaN     NaN   Retweet   \n",
       "1  FD9F6F01E3DF352E0E46CDE43D80C0CA    NaN   NaN     NaN  TopLevel   \n",
       "2  EDE3281757D0B359CD36C4FDB8D1A417    NaN   NaN     NaN  TopLevel   \n",
       "3  E868BA29C8690700C28AD29364704D76  Photo   NaN     NaN  TopLevel   \n",
       "4  266DCA26093CA5D5DF952B84A8AC8C8D  Photo   NaN     NaN  TopLevel   \n",
       "\n",
       "                           language   timestamp  \\\n",
       "0  488B32D24BD4BB44172EB981C1BCA6FA  1612398390   \n",
       "1  488B32D24BD4BB44172EB981C1BCA6FA  1612398934   \n",
       "2  488B32D24BD4BB44172EB981C1BCA6FA  1612397895   \n",
       "3  488B32D24BD4BB44172EB981C1BCA6FA  1612399189   \n",
       "4  488B32D24BD4BB44172EB981C1BCA6FA  1612399230   \n",
       "\n",
       "                     AUTHOR_user_id  ...                INTERACTOR_user_id  \\\n",
       "0  D6CEEB156EF994594ADB318AFB29C994  ...  A9E4E000DB7BDD87635A35528975A52D   \n",
       "1  7579B6A157E965E68839938C6F27C717  ...  3669C3300C71A6FC09553061C7863415   \n",
       "2  BCE4EB1ADE0B7240B408A6307741C01D  ...  57552E50289A30F9AD6E44934033D218   \n",
       "3  53233A53F1DF14908FBCA96EBA6C0712  ...  B23F678A062B7F289BAE5956A8546B90   \n",
       "4  5DF93364C80554D4EA3FB238CA6CEB01  ...  A38A2B0F8693BC5FE608B9B6D1EEAB11   \n",
       "\n",
       "   INTERACTOR_follower_count  INTERACTOR_following_count  INTERACTOR_verified  \\\n",
       "0                        670                         250                False   \n",
       "1                        199                         896                False   \n",
       "2                       2142                        1456                False   \n",
       "3                       1565                         144                False   \n",
       "4                        530                         393                False   \n",
       "\n",
       "  INTERACTOR_account_creation  AUTHOR_follows_INTERACTOR  reply_timestamp  \\\n",
       "0                  1321581661                       True             <NA>   \n",
       "1                  1212989004                      False             <NA>   \n",
       "2                  1340229176                       True             <NA>   \n",
       "3                  1570416644                      False       1612402000   \n",
       "4                  1488181494                       True             <NA>   \n",
       "\n",
       "   retweet_timestamp  quote_timestamp  like_timestamp  \n",
       "0               <NA>             <NA>            <NA>  \n",
       "1               <NA>             <NA>      1612403200  \n",
       "2               <NA>             <NA>      1612402400  \n",
       "3               <NA>             <NA>      1612402000  \n",
       "4               <NA>             <NA>      1612399400  \n",
       "\n",
       "[5 rows x 24 columns]"
      ]
     },
     "execution_count": 3,
     "metadata": {},
     "output_type": "execute_result"
    }
   ],
   "source": [
    "column_types = {\n",
    "    'bert': str,\n",
    "    'hashtags': str,\n",
    "    'tweet_id': str,\n",
    "    'media': str,\n",
    "    'links': str,\n",
    "    'domains': str,\n",
    "    'type': str,\n",
    "    'language': str,\n",
    "    'timestamp': np.uint32,\n",
    "    'AUTHOR_user_id': str,\n",
    "    'AUTHOR_follower_count': np.uint32,\n",
    "    'AUTHOR_following_count': np.uint32,\n",
    "    'AUTHOR_verified': bool,\n",
    "    'AUTHOR_account_creation': np.uint32,\n",
    "    'INTERACTOR_user_id': str,\n",
    "    'INTERACTOR_follower_count': np.uint32,\n",
    "    'INTERACTOR_following_count': np.uint32,\n",
    "    'INTERACTOR_verified': bool,\n",
    "    'INTERACTOR_account_creation': np.uint32,\n",
    "    'AUTHOR_follows_INTERACTOR': bool,\n",
    "    'reply_timestamp': 'Int32',\n",
    "    'retweet_timestamp': 'Int32',\n",
    "    'quote_timestamp': 'Int32',\n",
    "    'like_timestamp': 'Int32'\n",
    "}\n",
    "\n",
    "df = dd.read_csv('sample/train_part-*',\n",
    "                 names=list(column_types.keys()),\n",
    "                 header=0,\n",
    "                 sep=',',\n",
    "                 dtype=column_types)\n",
    "df.head()"
   ]
  },
  {
   "cell_type": "code",
   "execution_count": 11,
   "id": "inappropriate-bubble",
   "metadata": {
    "ExecuteTime": {
     "end_time": "2021-06-22T17:27:04.962950Z",
     "start_time": "2021-06-22T17:26:24.841419Z"
    }
   },
   "outputs": [],
   "source": [
    "df = df.compute()"
   ]
  },
  {
   "cell_type": "code",
   "execution_count": 5,
   "id": "taken-extra",
   "metadata": {
    "ExecuteTime": {
     "end_time": "2021-06-22T17:18:44.633320Z",
     "start_time": "2021-06-22T17:18:44.622322Z"
    }
   },
   "outputs": [],
   "source": [
    "import matplotlib.pyplot as plt\n",
    "%matplotlib inline"
   ]
  },
  {
   "cell_type": "markdown",
   "id": "aware-pricing",
   "metadata": {},
   "source": [
    "# Data Exploration"
   ]
  },
  {
   "cell_type": "markdown",
   "id": "editorial-shoot",
   "metadata": {},
   "source": [
    "## Distribution of the languages"
   ]
  },
  {
   "cell_type": "code",
   "execution_count": 8,
   "id": "unnecessary-abraham",
   "metadata": {
    "ExecuteTime": {
     "end_time": "2021-06-22T17:24:49.952327Z",
     "start_time": "2021-06-22T17:24:32.000277Z"
    }
   },
   "outputs": [],
   "source": [
    "languages = df.groupby(\"language\").count()[\"tweet_id\"].compute()"
   ]
  },
  {
   "cell_type": "code",
   "execution_count": 9,
   "id": "cooked-convenience",
   "metadata": {
    "ExecuteTime": {
     "end_time": "2021-06-22T17:24:50.149583Z",
     "start_time": "2021-06-22T17:24:50.029507Z"
    }
   },
   "outputs": [
    {
     "data": {
      "image/png": "[encoded data removed]",
      "text/plain": [
       "<Figure size 432x288 with 1 Axes>"
      ]
     },
     "metadata": {},
     "output_type": "display_data"
    }
   ],
   "source": [
    "# Pie chart, where the slices will be ordered and plotted counter-clockwise:\n",
    "labels = list(languages.index.values)\n",
    "sizes = list(languages.values)\n",
    "explode = (0 for i in range(len(languages.index.values)))  # only \"explode\" the 2nd slice (i.e. 'Hogs')\n",
    "\n",
    "fig1, ax1 = plt.subplots()\n",
    "ax1.pie(sizes, labels=labels, autopct='%1.1f%%',\n",
    "        shadow=True, startangle=90)\n",
    "ax1.axis('equal')  # Equal aspect ratio ensures that pie is drawn as a circle.\n",
    "\n",
    "plt.show()"
   ]
  },
  {
   "cell_type": "markdown",
   "id": "supposed-louis",
   "metadata": {},
   "source": [
    "## Small class problem?"
   ]
  },
  {
   "cell_type": "markdown",
   "id": "capital-bonus",
   "metadata": {},
   "source": [
    "### Reply"
   ]
  },
  {
   "cell_type": "code",
   "execution_count": 12,
   "id": "animal-assistant",
   "metadata": {
    "ExecuteTime": {
     "end_time": "2021-06-22T17:29:21.901386Z",
     "start_time": "2021-06-22T17:29:17.018517Z"
    }
   },
   "outputs": [],
   "source": [
    "negative_reply = df[df['reply_timestamp'].isna()].shape[0]\n",
    "positive_reply = df[~df['reply_timestamp'].isna()].shape[0]"
   ]
  },
  {
   "cell_type": "code",
   "execution_count": 13,
   "id": "voluntary-dallas",
   "metadata": {
    "ExecuteTime": {
     "end_time": "2021-06-22T17:29:28.520990Z",
     "start_time": "2021-06-22T17:29:28.413687Z"
    }
   },
   "outputs": [
    {
     "data": {
      "image/png": "[encoded data removed]",
      "text/plain": [
       "<Figure size 432x288 with 1 Axes>"
      ]
     },
     "metadata": {},
     "output_type": "display_data"
    }
   ],
   "source": [
    "\n",
    "# Pie chart, where the slices will be ordered and plotted counter-clockwise:\n",
    "labels = 'Positive Reply', 'Negative Reply'\n",
    "sizes = [positive_reply, negative_reply]\n",
    "explode = (0.1, 0)  # only \"explode\" the 2nd slice (i.e. 'Hogs')\n",
    "\n",
    "fig1, ax1 = plt.subplots()\n",
    "ax1.pie(sizes, explode=explode, labels=labels, autopct='%1.1f%%',\n",
    "        shadow=True, startangle=90)\n",
    "ax1.axis('equal')  # Equal aspect ratio ensures that pie is drawn as a circle.\n",
    "\n",
    "plt.show()"
   ]
  },
  {
   "cell_type": "markdown",
   "id": "adopted-polyester",
   "metadata": {},
   "source": [
    "###  Retweet"
   ]
  },
  {
   "cell_type": "code",
   "execution_count": 14,
   "id": "cathedral-christopher",
   "metadata": {
    "ExecuteTime": {
     "end_time": "2021-06-22T17:29:37.659683Z",
     "start_time": "2021-06-22T17:29:35.084288Z"
    }
   },
   "outputs": [],
   "source": [
    "negative_retweet = df[df['retweet_timestamp'].isna()].shape[0]\n",
    "positive_retweet = df[~df['retweet_timestamp'].isna()].shape[0]"
   ]
  },
  {
   "cell_type": "code",
   "execution_count": 15,
   "id": "weird-enforcement",
   "metadata": {
    "ExecuteTime": {
     "end_time": "2021-06-22T17:29:44.202719Z",
     "start_time": "2021-06-22T17:29:44.098189Z"
    }
   },
   "outputs": [
    {
     "data": {
      "image/png": "[encoded data removed]",
      "text/plain": [
       "<Figure size 432x288 with 1 Axes>"
      ]
     },
     "metadata": {},
     "output_type": "display_data"
    }
   ],
   "source": [
    "# Pie chart, where the slices will be ordered and plotted counter-clockwise:\n",
    "labels = 'Positive Retweet', 'Negative Retweet'\n",
    "sizes = [positive_retweet, negative_retweet]\n",
    "explode = (0.1, 0)  # only \"explode\" the 2nd slice (i.e. 'Hogs')\n",
    "\n",
    "fig1, ax1 = plt.subplots()\n",
    "ax1.pie(sizes, explode=explode, labels=labels, autopct='%1.1f%%',\n",
    "        shadow=True, startangle=90)\n",
    "ax1.axis('equal')  # Equal aspect ratio ensures that pie is drawn as a circle.\n",
    "\n",
    "plt.show()"
   ]
  },
  {
   "cell_type": "markdown",
   "id": "unsigned-circumstances",
   "metadata": {},
   "source": [
    "### Like"
   ]
  },
  {
   "cell_type": "code",
   "execution_count": 16,
   "id": "approved-parade",
   "metadata": {
    "ExecuteTime": {
     "end_time": "2021-06-22T17:29:53.395656Z",
     "start_time": "2021-06-22T17:29:50.710317Z"
    }
   },
   "outputs": [],
   "source": [
    "negative_like = df[df['like_timestamp'].isna()].shape[0]\n",
    "positive_like = df[~df['like_timestamp'].isna()].shape[0]"
   ]
  },
  {
   "cell_type": "code",
   "execution_count": 17,
   "id": "royal-mining",
   "metadata": {
    "ExecuteTime": {
     "end_time": "2021-06-22T17:29:59.849728Z",
     "start_time": "2021-06-22T17:29:59.756754Z"
    }
   },
   "outputs": [
    {
     "data": {
      "image/png": "[encoded data removed]",
      "text/plain": [
       "<Figure size 432x288 with 1 Axes>"
      ]
     },
     "metadata": {},
     "output_type": "display_data"
    }
   ],
   "source": [
    "# Pie chart, where the slices will be ordered and plotted counter-clockwise:\n",
    "labels = 'Positive Like', 'Negative Like'\n",
    "sizes = [positive_like, negative_like]\n",
    "explode = (0.1, 0)  # only \"explode\" the 2nd slice (i.e. 'Hogs')\n",
    "\n",
    "fig1, ax1 = plt.subplots()\n",
    "ax1.pie(sizes, explode=explode, labels=labels, autopct='%1.1f%%',\n",
    "        shadow=True, startangle=90)\n",
    "ax1.axis('equal')  # Equal aspect ratio ensures that pie is drawn as a circle.\n",
    "\n",
    "plt.show()"
   ]
  },
  {
   "cell_type": "markdown",
   "id": "soviet-florist",
   "metadata": {},
   "source": [
    "### Retweet + Comment (Quote)"
   ]
  },
  {
   "cell_type": "code",
   "execution_count": 18,
   "id": "spare-prague",
   "metadata": {
    "ExecuteTime": {
     "end_time": "2021-06-22T17:30:08.750277Z",
     "start_time": "2021-06-22T17:30:06.313437Z"
    }
   },
   "outputs": [],
   "source": [
    "negative_retweet_comment = df[df['quote_timestamp'].isna()].shape[0]\n",
    "positive_retweet_comment = df[~df['quote_timestamp'].isna()].shape[0]"
   ]
  },
  {
   "cell_type": "code",
   "execution_count": 19,
   "id": "dangerous-antibody",
   "metadata": {
    "ExecuteTime": {
     "end_time": "2021-06-22T17:30:15.370194Z",
     "start_time": "2021-06-22T17:30:15.263193Z"
    }
   },
   "outputs": [
    {
     "data": {
      "image/png": "[encoded data removed]",
      "text/plain": [
       "<Figure size 432x288 with 1 Axes>"
      ]
     },
     "metadata": {},
     "output_type": "display_data"
    }
   ],
   "source": [
    "# Pie chart, where the slices will be ordered and plotted counter-clockwise:\n",
    "labels = 'Positive Quote', 'Negative Quote'\n",
    "sizes = [positive_retweet_comment, negative_retweet_comment]\n",
    "explode = (0.1, 0)  # only \"explode\" the 2nd slice (i.e. 'Hogs')\n",
    "\n",
    "fig1, ax1 = plt.subplots()\n",
    "ax1.pie(sizes, explode=explode, labels=labels, autopct='%1.1f%%',\n",
    "        shadow=True, startangle=90)\n",
    "ax1.axis('equal')  # Equal aspect ratio ensures that pie is drawn as a circle.\n",
    "\n",
    "plt.show()"
   ]
  },
  {
   "cell_type": "markdown",
   "id": "israeli-stranger",
   "metadata": {},
   "source": [
    "## Distribution along the day of the week"
   ]
  },
  {
   "cell_type": "code",
   "execution_count": 75,
   "id": "accomplished-coupon",
   "metadata": {
    "ExecuteTime": {
     "end_time": "2021-06-22T19:31:19.209929Z",
     "start_time": "2021-06-22T19:31:19.195877Z"
    }
   },
   "outputs": [],
   "source": [
    "import pandas as pd\n",
    "from datetime import datetime\n",
    "from tqdm import tqdm\n",
    "\n",
    "week_days = {\n",
    "    0: \"monday\",\n",
    "    1: \"tuesday\",\n",
    "    2: \"wednesday\",\n",
    "    3: \"thursday\",\n",
    "    4: \"friday\",\n",
    "    5: \"saturday\",\n",
    "    6: \"sunday\"\n",
    "}\n",
    "\n",
    "def create_datetime(df):\n",
    "    tqdm.pandas()\n",
    "    df[\"datetime_tweet_creation\"] = df[\"timestamp\"].progress_apply(lambda x: pd.to_datetime(x, unit='s'))\n",
    "    df[\"weekday_tweet_creation\"] = df[\"datetime_tweet_creation\"].progress_apply(lambda x: x.weekday())\n",
    "    return df"
   ]
  },
  {
   "cell_type": "code",
   "execution_count": 74,
   "id": "second-fabric",
   "metadata": {
    "ExecuteTime": {
     "end_time": "2021-06-22T19:31:13.240441Z",
     "start_time": "2021-06-22T19:30:38.611428Z"
    }
   },
   "outputs": [
    {
     "name": "stderr",
     "output_type": "stream",
     "text": [
      "100%|████████████████████████████████████████████████████████████████████| 9512360/9512360 [00:33<00:00, 284152.37it/s]\n"
     ]
    }
   ],
   "source": [
    "df = create_datetime(df)"
   ]
  },
  {
   "cell_type": "code",
   "execution_count": 76,
   "id": "final-nickel",
   "metadata": {
    "ExecuteTime": {
     "end_time": "2021-06-22T19:31:30.344107Z",
     "start_time": "2021-06-22T19:31:25.178270Z"
    }
   },
   "outputs": [],
   "source": [
    "day_grouped = df.groupby(\"weekday_tweet_creation\").count()"
   ]
  },
  {
   "cell_type": "code",
   "execution_count": 77,
   "id": "liberal-hampton",
   "metadata": {
    "ExecuteTime": {
     "end_time": "2021-06-22T19:31:36.281377Z",
     "start_time": "2021-06-22T19:31:36.250376Z"
    }
   },
   "outputs": [
    {
     "data": {
      "text/html": [
       "<div>\n",
       "<style scoped>\n",
       "    .dataframe tbody tr th:only-of-type {\n",
       "        vertical-align: middle;\n",
       "    }\n",
       "\n",
       "    .dataframe tbody tr th {\n",
       "        vertical-align: top;\n",
       "    }\n",
       "\n",
       "    .dataframe thead th {\n",
       "        text-align: right;\n",
       "    }\n",
       "</style>\n",
       "<table border=\"1\" class=\"dataframe\">\n",
       "  <thead>\n",
       "    <tr style=\"text-align: right;\">\n",
       "      <th></th>\n",
       "      <th>bert</th>\n",
       "      <th>hashtags</th>\n",
       "      <th>tweet_id</th>\n",
       "      <th>media</th>\n",
       "      <th>links</th>\n",
       "      <th>domains</th>\n",
       "      <th>type</th>\n",
       "      <th>language</th>\n",
       "      <th>timestamp</th>\n",
       "      <th>AUTHOR_user_id</th>\n",
       "      <th>...</th>\n",
       "      <th>INTERACTOR_follower_count</th>\n",
       "      <th>INTERACTOR_following_count</th>\n",
       "      <th>INTERACTOR_verified</th>\n",
       "      <th>INTERACTOR_account_creation</th>\n",
       "      <th>AUTHOR_follows_INTERACTOR</th>\n",
       "      <th>reply_timestamp</th>\n",
       "      <th>retweet_timestamp</th>\n",
       "      <th>quote_timestamp</th>\n",
       "      <th>like_timestamp</th>\n",
       "      <th>datetime_tweet_creation</th>\n",
       "    </tr>\n",
       "    <tr>\n",
       "      <th>weekday_tweet_creation</th>\n",
       "      <th></th>\n",
       "      <th></th>\n",
       "      <th></th>\n",
       "      <th></th>\n",
       "      <th></th>\n",
       "      <th></th>\n",
       "      <th></th>\n",
       "      <th></th>\n",
       "      <th></th>\n",
       "      <th></th>\n",
       "      <th></th>\n",
       "      <th></th>\n",
       "      <th></th>\n",
       "      <th></th>\n",
       "      <th></th>\n",
       "      <th></th>\n",
       "      <th></th>\n",
       "      <th></th>\n",
       "      <th></th>\n",
       "      <th></th>\n",
       "      <th></th>\n",
       "    </tr>\n",
       "  </thead>\n",
       "  <tbody>\n",
       "    <tr>\n",
       "      <th>0</th>\n",
       "      <td>1352872</td>\n",
       "      <td>242327</td>\n",
       "      <td>1352872</td>\n",
       "      <td>497621</td>\n",
       "      <td>177963</td>\n",
       "      <td>177963</td>\n",
       "      <td>1352872</td>\n",
       "      <td>1352872</td>\n",
       "      <td>1352872</td>\n",
       "      <td>1352872</td>\n",
       "      <td>...</td>\n",
       "      <td>1352872</td>\n",
       "      <td>1352872</td>\n",
       "      <td>1352872</td>\n",
       "      <td>1352872</td>\n",
       "      <td>1352872</td>\n",
       "      <td>39214</td>\n",
       "      <td>106899</td>\n",
       "      <td>10444</td>\n",
       "      <td>529380</td>\n",
       "      <td>1352872</td>\n",
       "    </tr>\n",
       "    <tr>\n",
       "      <th>1</th>\n",
       "      <td>1403989</td>\n",
       "      <td>246014</td>\n",
       "      <td>1403989</td>\n",
       "      <td>506726</td>\n",
       "      <td>188618</td>\n",
       "      <td>188618</td>\n",
       "      <td>1403989</td>\n",
       "      <td>1403989</td>\n",
       "      <td>1403989</td>\n",
       "      <td>1403989</td>\n",
       "      <td>...</td>\n",
       "      <td>1403989</td>\n",
       "      <td>1403989</td>\n",
       "      <td>1403989</td>\n",
       "      <td>1403989</td>\n",
       "      <td>1403989</td>\n",
       "      <td>40416</td>\n",
       "      <td>112922</td>\n",
       "      <td>11165</td>\n",
       "      <td>543524</td>\n",
       "      <td>1403989</td>\n",
       "    </tr>\n",
       "    <tr>\n",
       "      <th>2</th>\n",
       "      <td>1388935</td>\n",
       "      <td>247563</td>\n",
       "      <td>1388935</td>\n",
       "      <td>491633</td>\n",
       "      <td>187069</td>\n",
       "      <td>187069</td>\n",
       "      <td>1388935</td>\n",
       "      <td>1388935</td>\n",
       "      <td>1388935</td>\n",
       "      <td>1388935</td>\n",
       "      <td>...</td>\n",
       "      <td>1388935</td>\n",
       "      <td>1388935</td>\n",
       "      <td>1388935</td>\n",
       "      <td>1388935</td>\n",
       "      <td>1388935</td>\n",
       "      <td>39622</td>\n",
       "      <td>110021</td>\n",
       "      <td>10741</td>\n",
       "      <td>529195</td>\n",
       "      <td>1388935</td>\n",
       "    </tr>\n",
       "    <tr>\n",
       "      <th>3</th>\n",
       "      <td>1495630</td>\n",
       "      <td>249809</td>\n",
       "      <td>1495630</td>\n",
       "      <td>529040</td>\n",
       "      <td>196016</td>\n",
       "      <td>196016</td>\n",
       "      <td>1495630</td>\n",
       "      <td>1495630</td>\n",
       "      <td>1495630</td>\n",
       "      <td>1495630</td>\n",
       "      <td>...</td>\n",
       "      <td>1495630</td>\n",
       "      <td>1495630</td>\n",
       "      <td>1495630</td>\n",
       "      <td>1495630</td>\n",
       "      <td>1495630</td>\n",
       "      <td>41678</td>\n",
       "      <td>117765</td>\n",
       "      <td>11217</td>\n",
       "      <td>580500</td>\n",
       "      <td>1495630</td>\n",
       "    </tr>\n",
       "    <tr>\n",
       "      <th>4</th>\n",
       "      <td>1396889</td>\n",
       "      <td>242603</td>\n",
       "      <td>1396889</td>\n",
       "      <td>502706</td>\n",
       "      <td>192291</td>\n",
       "      <td>192291</td>\n",
       "      <td>1396889</td>\n",
       "      <td>1396889</td>\n",
       "      <td>1396889</td>\n",
       "      <td>1396889</td>\n",
       "      <td>...</td>\n",
       "      <td>1396889</td>\n",
       "      <td>1396889</td>\n",
       "      <td>1396889</td>\n",
       "      <td>1396889</td>\n",
       "      <td>1396889</td>\n",
       "      <td>40489</td>\n",
       "      <td>108385</td>\n",
       "      <td>10707</td>\n",
       "      <td>530528</td>\n",
       "      <td>1396889</td>\n",
       "    </tr>\n",
       "    <tr>\n",
       "      <th>5</th>\n",
       "      <td>1199037</td>\n",
       "      <td>202524</td>\n",
       "      <td>1199037</td>\n",
       "      <td>442209</td>\n",
       "      <td>136096</td>\n",
       "      <td>136096</td>\n",
       "      <td>1199037</td>\n",
       "      <td>1199037</td>\n",
       "      <td>1199037</td>\n",
       "      <td>1199037</td>\n",
       "      <td>...</td>\n",
       "      <td>1199037</td>\n",
       "      <td>1199037</td>\n",
       "      <td>1199037</td>\n",
       "      <td>1199037</td>\n",
       "      <td>1199037</td>\n",
       "      <td>35739</td>\n",
       "      <td>96595</td>\n",
       "      <td>9044</td>\n",
       "      <td>478654</td>\n",
       "      <td>1199037</td>\n",
       "    </tr>\n",
       "    <tr>\n",
       "      <th>6</th>\n",
       "      <td>1275008</td>\n",
       "      <td>226115</td>\n",
       "      <td>1275008</td>\n",
       "      <td>475289</td>\n",
       "      <td>127063</td>\n",
       "      <td>127063</td>\n",
       "      <td>1275008</td>\n",
       "      <td>1275008</td>\n",
       "      <td>1275008</td>\n",
       "      <td>1275008</td>\n",
       "      <td>...</td>\n",
       "      <td>1275008</td>\n",
       "      <td>1275008</td>\n",
       "      <td>1275008</td>\n",
       "      <td>1275008</td>\n",
       "      <td>1275008</td>\n",
       "      <td>38122</td>\n",
       "      <td>107140</td>\n",
       "      <td>9773</td>\n",
       "      <td>517852</td>\n",
       "      <td>1275008</td>\n",
       "    </tr>\n",
       "  </tbody>\n",
       "</table>\n",
       "<p>7 rows × 25 columns</p>\n",
       "</div>"
      ],
      "text/plain": [
       "                           bert  hashtags  tweet_id   media   links  domains  \\\n",
       "weekday_tweet_creation                                                         \n",
       "0                       1352872    242327   1352872  497621  177963   177963   \n",
       "1                       1403989    246014   1403989  506726  188618   188618   \n",
       "2                       1388935    247563   1388935  491633  187069   187069   \n",
       "3                       1495630    249809   1495630  529040  196016   196016   \n",
       "4                       1396889    242603   1396889  502706  192291   192291   \n",
       "5                       1199037    202524   1199037  442209  136096   136096   \n",
       "6                       1275008    226115   1275008  475289  127063   127063   \n",
       "\n",
       "                           type  language  timestamp  AUTHOR_user_id  ...  \\\n",
       "weekday_tweet_creation                                                ...   \n",
       "0                       1352872   1352872    1352872         1352872  ...   \n",
       "1                       1403989   1403989    1403989         1403989  ...   \n",
       "2                       1388935   1388935    1388935         1388935  ...   \n",
       "3                       1495630   1495630    1495630         1495630  ...   \n",
       "4                       1396889   1396889    1396889         1396889  ...   \n",
       "5                       1199037   1199037    1199037         1199037  ...   \n",
       "6                       1275008   1275008    1275008         1275008  ...   \n",
       "\n",
       "                        INTERACTOR_follower_count  INTERACTOR_following_count  \\\n",
       "weekday_tweet_creation                                                          \n",
       "0                                         1352872                     1352872   \n",
       "1                                         1403989                     1403989   \n",
       "2                                         1388935                     1388935   \n",
       "3                                         1495630                     1495630   \n",
       "4                                         1396889                     1396889   \n",
       "5                                         1199037                     1199037   \n",
       "6                                         1275008                     1275008   \n",
       "\n",
       "                        INTERACTOR_verified  INTERACTOR_account_creation  \\\n",
       "weekday_tweet_creation                                                     \n",
       "0                                   1352872                      1352872   \n",
       "1                                   1403989                      1403989   \n",
       "2                                   1388935                      1388935   \n",
       "3                                   1495630                      1495630   \n",
       "4                                   1396889                      1396889   \n",
       "5                                   1199037                      1199037   \n",
       "6                                   1275008                      1275008   \n",
       "\n",
       "                        AUTHOR_follows_INTERACTOR  reply_timestamp  \\\n",
       "weekday_tweet_creation                                               \n",
       "0                                         1352872            39214   \n",
       "1                                         1403989            40416   \n",
       "2                                         1388935            39622   \n",
       "3                                         1495630            41678   \n",
       "4                                         1396889            40489   \n",
       "5                                         1199037            35739   \n",
       "6                                         1275008            38122   \n",
       "\n",
       "                        retweet_timestamp  quote_timestamp  like_timestamp  \\\n",
       "weekday_tweet_creation                                                       \n",
       "0                                  106899            10444          529380   \n",
       "1                                  112922            11165          543524   \n",
       "2                                  110021            10741          529195   \n",
       "3                                  117765            11217          580500   \n",
       "4                                  108385            10707          530528   \n",
       "5                                   96595             9044          478654   \n",
       "6                                  107140             9773          517852   \n",
       "\n",
       "                        datetime_tweet_creation  \n",
       "weekday_tweet_creation                           \n",
       "0                                       1352872  \n",
       "1                                       1403989  \n",
       "2                                       1388935  \n",
       "3                                       1495630  \n",
       "4                                       1396889  \n",
       "5                                       1199037  \n",
       "6                                       1275008  \n",
       "\n",
       "[7 rows x 25 columns]"
      ]
     },
     "execution_count": 77,
     "metadata": {},
     "output_type": "execute_result"
    }
   ],
   "source": [
    "day_grouped"
   ]
  },
  {
   "cell_type": "code",
   "execution_count": 86,
   "id": "prostate-latvia",
   "metadata": {
    "ExecuteTime": {
     "end_time": "2021-06-22T19:35:26.594428Z",
     "start_time": "2021-06-22T19:35:26.458004Z"
    }
   },
   "outputs": [
    {
     "data": {
      "text/plain": [
       "<BarContainer object of 7 artists>"
      ]
     },
     "execution_count": 86,
     "metadata": {},
     "output_type": "execute_result"
    },
    {
     "data": {
      "image/png": "[encoded data removed]",
      "text/plain": [
       "<Figure size 504x504 with 1 Axes>"
      ]
     },
     "metadata": {
      "needs_background": "light"
     },
     "output_type": "display_data"
    }
   ],
   "source": [
    "plt.figure(figsize=(7, 7))\n",
    "plt.bar([week_days[idx] for idx in day_grouped.index], day_grouped[\"tweet_id\"].values, width=0.35)"
   ]
  },
  {
   "cell_type": "markdown",
   "id": "obvious-richmond",
   "metadata": {},
   "source": [
    "### Like"
   ]
  },
  {
   "cell_type": "code",
   "execution_count": 80,
   "id": "dutch-platinum",
   "metadata": {
    "ExecuteTime": {
     "end_time": "2021-06-22T19:33:39.793524Z",
     "start_time": "2021-06-22T19:33:31.074545Z"
    }
   },
   "outputs": [],
   "source": [
    "positive_like_weekday = df[~df['like_timestamp'].isna()].groupby(\"weekday_tweet_creation\").count()\n",
    "negative_like_weekday = df[df['like_timestamp'].isna()].groupby(\"weekday_tweet_creation\").count()"
   ]
  },
  {
   "cell_type": "code",
   "execution_count": 91,
   "id": "worth-louis",
   "metadata": {
    "ExecuteTime": {
     "end_time": "2021-06-22T19:37:32.602045Z",
     "start_time": "2021-06-22T19:37:32.426275Z"
    }
   },
   "outputs": [
    {
     "data": {
      "image/png": "[encoded data removed]",
      "text/plain": [
       "<Figure size 504x504 with 1 Axes>"
      ]
     },
     "metadata": {
      "needs_background": "light"
     },
     "output_type": "display_data"
    }
   ],
   "source": [
    "labels = [week_days[idx] for idx in day_grouped.index]\n",
    "\n",
    "positive = positive_like_weekday[\"tweet_id\"].values\n",
    "negative = negative_like_weekday[\"tweet_id\"].values\n",
    "width = 0.35       # the width of the bars: can also be len(x) sequence\n",
    "\n",
    "fig, ax = plt.subplots()\n",
    "\n",
    "fig.set_figheight(7)\n",
    "fig.set_figwidth(7)\n",
    "\n",
    "ax.bar(labels, positive, width, label='Positive')\n",
    "ax.bar(labels, negative, width, bottom=positive,\n",
    "       label='Negative')\n",
    "\n",
    "ax.set_ylabel('Count')\n",
    "ax.set_title('Positive and negative of Like by weekday')\n",
    "ax.legend()\n",
    "\n",
    "plt.show()"
   ]
  },
  {
   "cell_type": "markdown",
   "id": "spanish-feature",
   "metadata": {},
   "source": [
    "### Reply"
   ]
  },
  {
   "cell_type": "code",
   "execution_count": 83,
   "id": "annoying-rouge",
   "metadata": {
    "ExecuteTime": {
     "end_time": "2021-06-22T19:34:35.417590Z",
     "start_time": "2021-06-22T19:34:27.550882Z"
    }
   },
   "outputs": [],
   "source": [
    "positive_reply_weekday = df[~df['reply_timestamp'].isna()].groupby(\"weekday_tweet_creation\").count()\n",
    "negative_reply_weekday = df[df['reply_timestamp'].isna()].groupby(\"weekday_tweet_creation\").count()"
   ]
  },
  {
   "cell_type": "code",
   "execution_count": 92,
   "id": "strange-threshold",
   "metadata": {
    "ExecuteTime": {
     "end_time": "2021-06-22T19:37:38.870341Z",
     "start_time": "2021-06-22T19:37:38.673725Z"
    }
   },
   "outputs": [
    {
     "data": {
      "image/png": "[encoded data removed]",
      "text/plain": [
       "<Figure size 504x504 with 1 Axes>"
      ]
     },
     "metadata": {
      "needs_background": "light"
     },
     "output_type": "display_data"
    }
   ],
   "source": [
    "labels = [week_days[idx] for idx in day_grouped.index]\n",
    "positive = positive_reply_weekday[\"tweet_id\"].values\n",
    "negative = negative_reply_weekday[\"tweet_id\"].values\n",
    "width = 0.35       # the width of the bars: can also be len(x) sequence\n",
    "\n",
    "fig, ax = plt.subplots()\n",
    "\n",
    "fig.set_figheight(7)\n",
    "fig.set_figwidth(7)\n",
    "\n",
    "ax.bar(labels, positive, width, label='Positive')\n",
    "ax.bar(labels, negative, width, bottom=positive,\n",
    "       label='Negative')\n",
    "\n",
    "ax.set_ylabel('Count')\n",
    "ax.set_title('Positive and negative of Reply by weekday')\n",
    "ax.legend()\n",
    "\n",
    "plt.show()"
   ]
  },
  {
   "cell_type": "markdown",
   "id": "attached-basis",
   "metadata": {},
   "source": [
    "### Retweet"
   ]
  },
  {
   "cell_type": "code",
   "execution_count": 88,
   "id": "logical-memorial",
   "metadata": {
    "ExecuteTime": {
     "end_time": "2021-06-22T19:36:15.962751Z",
     "start_time": "2021-06-22T19:36:07.751662Z"
    }
   },
   "outputs": [],
   "source": [
    "positive_retweet_weekday = df[~df['retweet_timestamp'].isna()].groupby(\"weekday_tweet_creation\").count()\n",
    "negative_retweet_weekday = df[df['retweet_timestamp'].isna()].groupby(\"weekday_tweet_creation\").count()"
   ]
  },
  {
   "cell_type": "code",
   "execution_count": 93,
   "id": "secret-significance",
   "metadata": {
    "ExecuteTime": {
     "end_time": "2021-06-22T19:37:45.437622Z",
     "start_time": "2021-06-22T19:37:45.255506Z"
    }
   },
   "outputs": [
    {
     "data": {
      "image/png": "[encoded data removed]",
      "text/plain": [
       "<Figure size 504x504 with 1 Axes>"
      ]
     },
     "metadata": {
      "needs_background": "light"
     },
     "output_type": "display_data"
    }
   ],
   "source": [
    "labels = [week_days[idx] for idx in day_grouped.index]\n",
    "positive = positive_retweet_weekday[\"tweet_id\"].values\n",
    "negative = negative_retweet_weekday[\"tweet_id\"].values\n",
    "width = 0.35       # the width of the bars: can also be len(x) sequence\n",
    "\n",
    "fig, ax = plt.subplots()\n",
    "\n",
    "\n",
    "fig.set_figheight(7)\n",
    "fig.set_figwidth(7)\n",
    "\n",
    "ax.bar(labels, positive, width, label='Positive')\n",
    "ax.bar(labels, negative, width, bottom=positive,\n",
    "       label='Negative')\n",
    "\n",
    "ax.set_ylabel('Count')\n",
    "ax.set_title('Positive and negative of Retweet by weekday')\n",
    "ax.legend()\n",
    "\n",
    "plt.show()"
   ]
  },
  {
   "cell_type": "markdown",
   "id": "accredited-phoenix",
   "metadata": {},
   "source": [
    "### Quote"
   ]
  },
  {
   "cell_type": "code",
   "execution_count": 90,
   "id": "lonely-groove",
   "metadata": {
    "ExecuteTime": {
     "end_time": "2021-06-22T19:37:04.508071Z",
     "start_time": "2021-06-22T19:36:56.584569Z"
    }
   },
   "outputs": [],
   "source": [
    "positive_retweet_comment_weekday = df[~df['quote_timestamp'].isna()].groupby(\"weekday_tweet_creation\").count()\n",
    "negative_retweet_comment_weekday = df[df['quote_timestamp'].isna()].groupby(\"weekday_tweet_creation\").count()"
   ]
  },
  {
   "cell_type": "code",
   "execution_count": 94,
   "id": "american-forge",
   "metadata": {
    "ExecuteTime": {
     "end_time": "2021-06-22T19:37:51.796725Z",
     "start_time": "2021-06-22T19:37:51.584466Z"
    }
   },
   "outputs": [
    {
     "data": {
      "image/png": "[encoded data removed]",
      "text/plain": [
       "<Figure size 504x504 with 1 Axes>"
      ]
     },
     "metadata": {
      "needs_background": "light"
     },
     "output_type": "display_data"
    }
   ],
   "source": [
    "labels = [week_days[idx] for idx in day_grouped.index]\n",
    "positive = positive_retweet_comment_weekday[\"tweet_id\"].values\n",
    "negative = negative_retweet_comment_weekday[\"tweet_id\"].values\n",
    "width = 0.35       # the width of the bars: can also be len(x) sequence\n",
    "\n",
    "fig, ax = plt.subplots()\n",
    "\n",
    "\n",
    "fig.set_figheight(7)\n",
    "fig.set_figwidth(7)\n",
    "\n",
    "ax.bar(labels, positive, width, label='Positive')\n",
    "ax.bar(labels, negative, width, bottom=positive,\n",
    "       label='Negative')\n",
    "\n",
    "ax.set_ylabel('Count')\n",
    "ax.set_title('Positive and negative of Quote by weekday')\n",
    "ax.legend()\n",
    "\n",
    "plt.show()"
   ]
  },
  {
   "cell_type": "markdown",
   "id": "hindu-computer",
   "metadata": {},
   "source": [
    "## Histogram of Author users"
   ]
  },
  {
   "cell_type": "code",
   "execution_count": 101,
   "id": "lesbian-brake",
   "metadata": {
    "ExecuteTime": {
     "end_time": "2021-06-22T19:54:45.588797Z",
     "start_time": "2021-06-22T19:54:42.728537Z"
    }
   },
   "outputs": [
    {
     "name": "stdout",
     "output_type": "stream",
     "text": [
      "Collecting seaborn\n",
      "  Using cached seaborn-0.11.1-py3-none-any.whl (285 kB)\n",
      "Requirement already satisfied: scipy>=1.0 in c:\\users\\adryt\\anaconda3\\envs\\tfm\\lib\\site-packages (from seaborn) (1.6.1)\n",
      "Requirement already satisfied: pandas>=0.23 in c:\\users\\adryt\\anaconda3\\envs\\tfm\\lib\\site-packages (from seaborn) (1.2.3)\n",
      "Requirement already satisfied: numpy>=1.15 in c:\\users\\adryt\\anaconda3\\envs\\tfm\\lib\\site-packages (from seaborn) (1.19.5)\n",
      "Requirement already satisfied: matplotlib>=2.2 in c:\\users\\adryt\\anaconda3\\envs\\tfm\\lib\\site-packages (from seaborn) (3.3.4)\n",
      "Requirement already satisfied: pyparsing!=2.0.4,!=2.1.2,!=2.1.6,>=2.0.3 in c:\\users\\adryt\\anaconda3\\envs\\tfm\\lib\\site-packages (from matplotlib>=2.2->seaborn) (2.4.7)\n",
      "Requirement already satisfied: pillow>=6.2.0 in c:\\users\\adryt\\anaconda3\\envs\\tfm\\lib\\site-packages (from matplotlib>=2.2->seaborn) (8.1.2)\n",
      "Requirement already satisfied: python-dateutil>=2.1 in c:\\users\\adryt\\anaconda3\\envs\\tfm\\lib\\site-packages (from matplotlib>=2.2->seaborn) (2.8.1)\n",
      "Requirement already satisfied: kiwisolver>=1.0.1 in c:\\users\\adryt\\anaconda3\\envs\\tfm\\lib\\site-packages (from matplotlib>=2.2->seaborn) (1.3.1)\n",
      "Requirement already satisfied: cycler>=0.10 in c:\\users\\adryt\\anaconda3\\envs\\tfm\\lib\\site-packages (from matplotlib>=2.2->seaborn) (0.10.0)\n",
      "Requirement already satisfied: six in c:\\users\\adryt\\anaconda3\\envs\\tfm\\lib\\site-packages (from cycler>=0.10->matplotlib>=2.2->seaborn) (1.15.0)\n",
      "Requirement already satisfied: pytz>=2017.3 in c:\\users\\adryt\\anaconda3\\envs\\tfm\\lib\\site-packages (from pandas>=0.23->seaborn) (2021.1)\n",
      "Installing collected packages: seaborn\n",
      "Successfully installed seaborn-0.11.1\n"
     ]
    }
   ],
   "source": [
    "!pip install seaborn"
   ]
  },
  {
   "cell_type": "code",
   "execution_count": 102,
   "id": "extra-amber",
   "metadata": {
    "ExecuteTime": {
     "end_time": "2021-06-22T19:56:04.602881Z",
     "start_time": "2021-06-22T19:54:52.189803Z"
    }
   },
   "outputs": [
    {
     "name": "stderr",
     "output_type": "stream",
     "text": [
      "C:\\Users\\adryt\\anaconda3\\envs\\TFM\\lib\\site-packages\\seaborn\\distributions.py:2557: FutureWarning: `distplot` is a deprecated function and will be removed in a future version. Please adapt your code to use either `displot` (a figure-level function with similar flexibility) or `histplot` (an axes-level function for histograms).\n",
      "  warnings.warn(msg, FutureWarning)\n"
     ]
    },
    {
     "data": {
      "text/plain": [
       "<AxesSubplot:xlabel='AUTHOR_follower_count', ylabel='Density'>"
      ]
     },
     "execution_count": 102,
     "metadata": {},
     "output_type": "execute_result"
    },
    {
     "data": {
      "image/png": "[encoded data removed]",
      "text/plain": [
       "<Figure size 432x288 with 1 Axes>"
      ]
     },
     "metadata": {
      "needs_background": "light"
     },
     "output_type": "display_data"
    }
   ],
   "source": [
    "import seaborn as sns\n",
    "sns.distplot(df[\"AUTHOR_follower_count\"])"
   ]
  },
  {
   "cell_type": "code",
   "execution_count": 96,
   "id": "lesser-spray",
   "metadata": {
    "ExecuteTime": {
     "end_time": "2021-06-22T19:50:53.999721Z",
     "start_time": "2021-06-22T19:50:53.555406Z"
    }
   },
   "outputs": [
    {
     "data": {
      "text/plain": [
       "(array([9.273838e+06, 1.111930e+05, 5.598700e+04, 3.051300e+04,\n",
       "        1.792200e+04, 1.128100e+04, 4.458000e+03, 3.251000e+03,\n",
       "        8.150000e+02, 3.102000e+03]),\n",
       " array([1.00000000e+00, 1.29240518e+07, 2.58481026e+07, 3.87721534e+07,\n",
       "        5.16962042e+07, 6.46202550e+07, 7.75443058e+07, 9.04683566e+07,\n",
       "        1.03392407e+08, 1.16316458e+08, 1.29240509e+08]),\n",
       " <BarContainer object of 10 artists>)"
      ]
     },
     "execution_count": 96,
     "metadata": {},
     "output_type": "execute_result"
    },
    {
     "data": {
      "image/png": "[encoded data removed]",
      "text/plain": [
       "<Figure size 432x288 with 1 Axes>"
      ]
     },
     "metadata": {
      "needs_background": "light"
     },
     "output_type": "display_data"
    }
   ],
   "source": [
    "plt.hist(df[\"AUTHOR_follower_count\"])"
   ]
  },
  {
   "cell_type": "code",
   "execution_count": 97,
   "id": "expired-syntax",
   "metadata": {
    "ExecuteTime": {
     "end_time": "2021-06-22T19:52:31.182163Z",
     "start_time": "2021-06-22T19:52:30.740566Z"
    }
   },
   "outputs": [
    {
     "data": {
      "text/plain": [
       "(array([9.499191e+06, 1.033500e+04, 8.560000e+02, 1.591000e+03,\n",
       "        2.640000e+02, 0.000000e+00, 0.000000e+00, 0.000000e+00,\n",
       "        0.000000e+00, 1.230000e+02]),\n",
       " array([      0. ,  425637.1,  851274.2, 1276911.3, 1702548.4, 2128185.5,\n",
       "        2553822.6, 2979459.7, 3405096.8, 3830733.9, 4256371. ]),\n",
       " <BarContainer object of 10 artists>)"
      ]
     },
     "execution_count": 97,
     "metadata": {},
     "output_type": "execute_result"
    },
    {
     "data": {
      "image/png": "[encoded data removed]",
      "text/plain": [
       "<Figure size 432x288 with 1 Axes>"
      ]
     },
     "metadata": {
      "needs_background": "light"
     },
     "output_type": "display_data"
    }
   ],
   "source": [
    "plt.hist(df[\"AUTHOR_following_count\"])"
   ]
  },
  {
   "cell_type": "code",
   "execution_count": 98,
   "id": "iraqi-index",
   "metadata": {
    "ExecuteTime": {
     "end_time": "2021-06-22T19:52:52.977555Z",
     "start_time": "2021-06-22T19:52:52.551536Z"
    }
   },
   "outputs": [
    {
     "data": {
      "text/plain": [
       "(array([9.512236e+06, 9.200000e+01, 1.500000e+01, 4.000000e+00,\n",
       "        4.000000e+00, 5.000000e+00, 0.000000e+00, 1.000000e+00,\n",
       "        1.000000e+00, 2.000000e+00]),\n",
       " array([       0. ,  1529363.5,  3058727. ,  4588090.5,  6117454. ,\n",
       "         7646817.5,  9176181. , 10705544.5, 12234908. , 13764271.5,\n",
       "        15293635. ]),\n",
       " <BarContainer object of 10 artists>)"
      ]
     },
     "execution_count": 98,
     "metadata": {},
     "output_type": "execute_result"
    },
    {
     "data": {
      "image/png": "[encoded data removed]",
      "text/plain": [
       "<Figure size 432x288 with 1 Axes>"
      ]
     },
     "metadata": {
      "needs_background": "light"
     },
     "output_type": "display_data"
    }
   ],
   "source": [
    "plt.hist(df[\"INTERACTOR_follower_count\"])"
   ]
  },
  {
   "cell_type": "code",
   "execution_count": 99,
   "id": "completed-petroleum",
   "metadata": {
    "ExecuteTime": {
     "end_time": "2021-06-22T19:52:59.787563Z",
     "start_time": "2021-06-22T19:52:59.450864Z"
    }
   },
   "outputs": [
    {
     "data": {
      "text/plain": [
       "(array([9.512287e+06, 3.300000e+01, 3.700000e+01, 1.000000e+00,\n",
       "        0.000000e+00, 0.000000e+00, 0.000000e+00, 0.000000e+00,\n",
       "        0.000000e+00, 2.000000e+00]),\n",
       " array([1.000000e+00, 1.605910e+05, 3.211810e+05, 4.817710e+05,\n",
       "        6.423610e+05, 8.029510e+05, 9.635410e+05, 1.124131e+06,\n",
       "        1.284721e+06, 1.445311e+06, 1.605901e+06]),\n",
       " <BarContainer object of 10 artists>)"
      ]
     },
     "execution_count": 99,
     "metadata": {},
     "output_type": "execute_result"
    },
    {
     "data": {
      "image/png": "[encoded data removed]",
      "text/plain": [
       "<Figure size 432x288 with 1 Axes>"
      ]
     },
     "metadata": {
      "needs_background": "light"
     },
     "output_type": "display_data"
    }
   ],
   "source": [
    "plt.hist(df[\"INTERACTOR_following_count\"])"
   ]
  },
  {
   "cell_type": "code",
   "execution_count": null,
   "id": "aware-student",
   "metadata": {},
   "outputs": [],
   "source": []
  }
 ],
 "metadata": {
  "hide_input": false,
  "kernelspec": {
   "display_name": "Python 3",
   "language": "python",
   "name": "python3"
  },
  "language_info": {
   "codemirror_mode": {
    "name": "ipython",
    "version": 3
   },
   "file_extension": ".py",
   "mimetype": "text/x-python",
   "name": "python",
   "nbconvert_exporter": "python",
   "pygments_lexer": "ipython3",
   "version": "3.8.5"
  },
  "latex_envs": {
   "LaTeX_envs_menu_present": true,
   "autoclose": false,
   "autocomplete": true,
   "bibliofile": "biblio.bib",
   "cite_by": "apalike",
   "current_citInitial": 1,
   "eqLabelWithNumbers": true,
   "eqNumInitial": 1,
   "hotkeys": {
    "equation": "Ctrl-E",
    "itemize": "Ctrl-I"
   },
   "labels_anchors": false,
   "latex_user_defs": false,
   "report_style_numbering": false,
   "user_envs_cfg": false
  },
  "toc": {
   "base_numbering": 1,
   "nav_menu": {},
   "number_sections": true,
   "sideBar": true,
   "skip_h1_title": false,
   "title_cell": "Table of Contents",
   "title_sidebar": "Contents",
   "toc_cell": false,
   "toc_position": {
    "height": "calc(100% - 180px)",
    "left": "10px",
    "top": "150px",
    "width": "503.797px"
   },
   "toc_section_display": true,
   "toc_window_display": true
  },
  "varInspector": {
   "cols": {
    "lenName": 16,
    "lenType": 16,
    "lenVar": 40
   },
   "kernels_config": {
    "python": {
     "delete_cmd_postfix": "",
     "delete_cmd_prefix": "del ",
     "library": "var_list.py",
     "varRefreshCmd": "print(var_dic_list())"
    },
    "r": {
     "delete_cmd_postfix": ") ",
     "delete_cmd_prefix": "rm(",
     "library": "var_list.r",
     "varRefreshCmd": "cat(var_dic_list()) "
    }
   },
   "types_to_exclude": [
    "module",
    "function",
    "builtin_function_or_method",
    "instance",
    "_Feature"
   ],
   "window_display": false
  }
 },
 "nbformat": 4,
 "nbformat_minor": 5
}
